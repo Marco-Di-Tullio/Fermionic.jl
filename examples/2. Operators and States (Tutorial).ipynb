{
 "cells": [
  {
   "cell_type": "markdown",
   "metadata": {},
   "source": [
    "# Welcome to the Fermionic package\n",
    "\n",
    "## Why Julia?\n",
    "I first wrote this code in Mathematica, and was intrigued by performance and usage comparison with Python. There were many advantages of writing the program in Python, like defining classes and methods, which was something very awkward  to emulate in Mathematica. The drawback was, nonetheless, that Python was 10 times slower than Mathematica. This is no surprise, as Mathematica compiles directly in the C language, whereas Python needs to go through numpy in order to access C functionalities (Cython was not an option, as I wanted the source code to be crystal clear to the user). \n",
    "Then I heard about Julia. I started learning the language and found it to be extremely  clear to the user, even more than Python. I run the same code and it was 10 times faster than Mathematica, and 100 times faster than Python. Besides, Julia uses something called \"multiple dispatch\", which replaces the traditional object oriented programming (single dispatch) and is really handy for using the same method with different types of objects. So I decided to try out this language and was more than satisfied with the results.\n",
    "\n",
    "\n",
    "\n",
    "## Installing Julia and Juno\n",
    "\n",
    "Lets first cover the setup needed for executing the package.\n",
    "\n",
    "1. First of all, you must download and install the latest Julia version. You can find it in [this link](https://julialang.org/downloads/). \n",
    "2. Once installed, it is necessary to install some interpreter. I strongly recommend using [Juno](https://junolab.org/), which is a package for Atom. You must first download and install [Atom](https://atom.io/). Then from settings, you just type **uber-juno** and wait as many packages are installed. Alternatively, you can download [JuliaPro](https://juliacomputing.com/products/juliapro) that replaces Juno (you will still need Atom).\n",
    "3. If everything  is working by now, you are ready. If you are working inside Atom, I recommend installing packages directly from the Juno console. You must first type ']' to access \"pkg\" mode. Then, just type ```add Fermionic``` and the package will be downloaded.\n",
    "4. If installation was correct, you can start using all the features of the package  by importing it by typing ```using Fermionic ```"
   ]
  },
  {
   "cell_type": "code",
   "execution_count": 1,
   "metadata": {},
   "outputs": [],
   "source": [
    "using Fermionic"
   ]
  },
  {
   "cell_type": "markdown",
   "metadata": {},
   "source": [
    "# Operators\n",
    "\n",
    "We then create elements of the type Op, with dimension n. \n",
    "This structure contains the operators as methods. In this package, names change as so.\n",
    "\n",
    "$a_i \\rightarrow a(i)$\n",
    "\n",
    "$a_i^{\\dagger} \\rightarrow ad(i)$\n",
    "\n",
    "$a_ia_j \\rightarrow aa(i,j)$\n",
    "\n",
    "$a_i^{\\dagger}a_j^\\dagger \\rightarrow ada(i,j)$\n",
    "\n",
    "$a_ia_j^\\dagger \\rightarrow aad(i,j)$\n",
    "\n",
    "$a_i^\\dagger a_j \\rightarrow ada(i)$\n",
    "\n",
    "$\\{a_i,a_j\\} = \\{a_i^\\dagger, a_j^\\dagger\\} = 0$\n",
    "\n",
    "$\\{a_i,a_j^\\dagger\\} = \\delta_{i,j}$\n",
    "\n",
    "One of the great advantages of defining these operators as types, is that it is possible to simultaneously define operators for different dimensions. This can be useful for a number of applications, for example for comparing results in different dimensions without re-running the core program each time you switch dimensions.\n",
    "\n",
    "In Object oriented programming, one would define a class Operator. Here, we are defining a type (like Int or Float) and  a method associated to that kind of type. The big advantage of doing this over defining classes, is that Julia uses **multiple dispatch**. What that means, is that a method can be defined for different input types, and Julia will run the correct method depending on all the input's types. Whereas in object oriented programming, programs select the method from the type of the first input only. This will be very useful for defining states, where we can work both with normal arrays and sparse arrays.\n",
    "\n",
    "You can do, for instance\n",
    "\n",
    "op4 = Op(4)\n",
    "\n",
    "op6 = Op(6)\n",
    "\n",
    "and op4 will be an element of the type ::Op, and will have all its methods defined for fermionic operators in dimension 4."
   ]
  },
  {
   "cell_type": "code",
   "execution_count": 2,
   "metadata": {},
   "outputs": [],
   "source": [
    "op4 = Op(4);"
   ]
  },
  {
   "cell_type": "markdown",
   "metadata": {},
   "source": [
    "We can see which dimension the operators have by using the dim() method"
   ]
  },
  {
   "cell_type": "code",
   "execution_count": 3,
   "metadata": {},
   "outputs": [
    {
     "data": {
      "text/plain": [
       "4"
      ]
     },
     "execution_count": 3,
     "metadata": {},
     "output_type": "execute_result"
    }
   ],
   "source": [
    "d = dim(op4)"
   ]
  },
  {
   "cell_type": "markdown",
   "metadata": {},
   "source": [
    "All the operators can be represented by matrices. Let's first look at the basis"
   ]
  },
  {
   "cell_type": "code",
   "execution_count": 4,
   "metadata": {
    "scrolled": true
   },
   "outputs": [
    {
     "data": {
      "text/plain": [
       "16×4 SparseArrays.SparseMatrixCSC{Float64,Int64} with 32 stored entries:\n",
       "  [9 , 1]  =  1.0\n",
       "  [10, 1]  =  1.0\n",
       "  [11, 1]  =  1.0\n",
       "  [12, 1]  =  1.0\n",
       "  [13, 1]  =  1.0\n",
       "  [14, 1]  =  1.0\n",
       "  [15, 1]  =  1.0\n",
       "  [16, 1]  =  1.0\n",
       "  [5 , 2]  =  1.0\n",
       "  [6 , 2]  =  1.0\n",
       "  [7 , 2]  =  1.0\n",
       "  [8 , 2]  =  1.0\n",
       "  ⋮\n",
       "  [8 , 3]  =  1.0\n",
       "  [11, 3]  =  1.0\n",
       "  [12, 3]  =  1.0\n",
       "  [15, 3]  =  1.0\n",
       "  [16, 3]  =  1.0\n",
       "  [2 , 4]  =  1.0\n",
       "  [4 , 4]  =  1.0\n",
       "  [6 , 4]  =  1.0\n",
       "  [8 , 4]  =  1.0\n",
       "  [10, 4]  =  1.0\n",
       "  [12, 4]  =  1.0\n",
       "  [14, 4]  =  1.0\n",
       "  [16, 4]  =  1.0"
      ]
     },
     "execution_count": 4,
     "metadata": {},
     "output_type": "execute_result"
    }
   ],
   "source": [
    "basis(op4)"
   ]
  },
  {
   "cell_type": "markdown",
   "metadata": {},
   "source": [
    "A sparse matrix is a way of representing a matrix in which one indicates  (row, col) = value. This is really handy for defining matrices with many zeros, as no unnecessary memory is used for storing empty elements. The drawback of the sparse representation is that it's hard to understand what is really doing. We can use the function Matrix() in order to convert a sparse matrix into a normal matrix. I recommend doing this only in order to see what is happening, not for doing operations. This is because both memory and time increase enormously  when operations are done with full matrices instead of sparse."
   ]
  },
  {
   "cell_type": "code",
   "execution_count": 5,
   "metadata": {},
   "outputs": [
    {
     "data": {
      "text/plain": [
       "16×4 Array{Float64,2}:\n",
       " 0.0  0.0  0.0  0.0\n",
       " 0.0  0.0  0.0  1.0\n",
       " 0.0  0.0  1.0  0.0\n",
       " 0.0  0.0  1.0  1.0\n",
       " 0.0  1.0  0.0  0.0\n",
       " 0.0  1.0  0.0  1.0\n",
       " 0.0  1.0  1.0  0.0\n",
       " 0.0  1.0  1.0  1.0\n",
       " 1.0  0.0  0.0  0.0\n",
       " 1.0  0.0  0.0  1.0\n",
       " 1.0  0.0  1.0  0.0\n",
       " 1.0  0.0  1.0  1.0\n",
       " 1.0  1.0  0.0  0.0\n",
       " 1.0  1.0  0.0  1.0\n",
       " 1.0  1.0  1.0  0.0\n",
       " 1.0  1.0  1.0  1.0"
      ]
     },
     "execution_count": 5,
     "metadata": {},
     "output_type": "execute_result"
    }
   ],
   "source": [
    "Matrix(basis(op4))"
   ]
  },
  {
   "cell_type": "markdown",
   "metadata": {},
   "source": [
    "We can see that this basis is composed of 16 4-dimensional arrays, each representing a possible  fermionic Slater determinant in 4 dimensions ($2^n$ n-dimensional arrays for dimension n). Each mode can be occupied by 1 or by 0 fermions (due to its antisymmetric  nature). It can be shown, taking the fermionic commutation relations into account, that these states constitute an orthonormal  base. Fermionic operators will be described on this basis. \n",
    "\n",
    "For example, let's see the matrix describing $c_i$"
   ]
  },
  {
   "cell_type": "code",
   "execution_count": 6,
   "metadata": {},
   "outputs": [
    {
     "data": {
      "text/plain": [
       "16×16 Array{Float64,2}:\n",
       " 0.0  0.0  0.0  0.0  0.0  0.0  0.0  0.0  …  0.0  0.0  0.0  0.0  0.0  0.0  0.0\n",
       " 0.0  0.0  0.0  0.0  0.0  0.0  0.0  0.0     1.0  0.0  0.0  0.0  0.0  0.0  0.0\n",
       " 0.0  0.0  0.0  0.0  0.0  0.0  0.0  0.0     0.0  1.0  0.0  0.0  0.0  0.0  0.0\n",
       " 0.0  0.0  0.0  0.0  0.0  0.0  0.0  0.0     0.0  0.0  1.0  0.0  0.0  0.0  0.0\n",
       " 0.0  0.0  0.0  0.0  0.0  0.0  0.0  0.0     0.0  0.0  0.0  1.0  0.0  0.0  0.0\n",
       " 0.0  0.0  0.0  0.0  0.0  0.0  0.0  0.0  …  0.0  0.0  0.0  0.0  1.0  0.0  0.0\n",
       " 0.0  0.0  0.0  0.0  0.0  0.0  0.0  0.0     0.0  0.0  0.0  0.0  0.0  1.0  0.0\n",
       " 0.0  0.0  0.0  0.0  0.0  0.0  0.0  0.0     0.0  0.0  0.0  0.0  0.0  0.0  1.0\n",
       " 0.0  0.0  0.0  0.0  0.0  0.0  0.0  0.0     0.0  0.0  0.0  0.0  0.0  0.0  0.0\n",
       " 0.0  0.0  0.0  0.0  0.0  0.0  0.0  0.0     0.0  0.0  0.0  0.0  0.0  0.0  0.0\n",
       " 0.0  0.0  0.0  0.0  0.0  0.0  0.0  0.0  …  0.0  0.0  0.0  0.0  0.0  0.0  0.0\n",
       " 0.0  0.0  0.0  0.0  0.0  0.0  0.0  0.0     0.0  0.0  0.0  0.0  0.0  0.0  0.0\n",
       " 0.0  0.0  0.0  0.0  0.0  0.0  0.0  0.0     0.0  0.0  0.0  0.0  0.0  0.0  0.0\n",
       " 0.0  0.0  0.0  0.0  0.0  0.0  0.0  0.0     0.0  0.0  0.0  0.0  0.0  0.0  0.0\n",
       " 0.0  0.0  0.0  0.0  0.0  0.0  0.0  0.0     0.0  0.0  0.0  0.0  0.0  0.0  0.0\n",
       " 0.0  0.0  0.0  0.0  0.0  0.0  0.0  0.0  …  0.0  0.0  0.0  0.0  0.0  0.0  0.0"
      ]
     },
     "execution_count": 6,
     "metadata": {},
     "output_type": "execute_result"
    }
   ],
   "source": [
    "Matrix(a(op4,1))"
   ]
  },
  {
   "cell_type": "markdown",
   "metadata": {},
   "source": [
    "This is the matrix representing the destruction operator corresponding to the mode 1 in 4 dimensions. We can see that when it is applied to the ninth element (1,0,0,0) it takes it to the first element (0,0,0,0). When applied to (1,0,1,1) it goes to (0,0,1,1), and so on. A similar representation can be found for creation operators $c_i^\\dagger$"
   ]
  },
  {
   "cell_type": "code",
   "execution_count": 7,
   "metadata": {},
   "outputs": [
    {
     "data": {
      "text/plain": [
       "16×16 Array{Float64,2}:\n",
       " 0.0  0.0   0.0  0.0   0.0  0.0  0.0  …  0.0  0.0  0.0  0.0  0.0   0.0  0.0\n",
       " 1.0  0.0   0.0  0.0   0.0  0.0  0.0     0.0  0.0  0.0  0.0  0.0   0.0  0.0\n",
       " 0.0  0.0   0.0  0.0   0.0  0.0  0.0     0.0  0.0  0.0  0.0  0.0   0.0  0.0\n",
       " 0.0  0.0  -1.0  0.0   0.0  0.0  0.0     0.0  0.0  0.0  0.0  0.0   0.0  0.0\n",
       " 0.0  0.0   0.0  0.0   0.0  0.0  0.0     0.0  0.0  0.0  0.0  0.0   0.0  0.0\n",
       " 0.0  0.0   0.0  0.0  -1.0  0.0  0.0  …  0.0  0.0  0.0  0.0  0.0   0.0  0.0\n",
       " 0.0  0.0   0.0  0.0   0.0  0.0  0.0     0.0  0.0  0.0  0.0  0.0   0.0  0.0\n",
       " 0.0  0.0   0.0  0.0   0.0  0.0  1.0     0.0  0.0  0.0  0.0  0.0   0.0  0.0\n",
       " 0.0  0.0   0.0  0.0   0.0  0.0  0.0     0.0  0.0  0.0  0.0  0.0   0.0  0.0\n",
       " 0.0  0.0   0.0  0.0   0.0  0.0  0.0     0.0  0.0  0.0  0.0  0.0   0.0  0.0\n",
       " 0.0  0.0   0.0  0.0   0.0  0.0  0.0  …  0.0  0.0  0.0  0.0  0.0   0.0  0.0\n",
       " 0.0  0.0   0.0  0.0   0.0  0.0  0.0     0.0  1.0  0.0  0.0  0.0   0.0  0.0\n",
       " 0.0  0.0   0.0  0.0   0.0  0.0  0.0     0.0  0.0  0.0  0.0  0.0   0.0  0.0\n",
       " 0.0  0.0   0.0  0.0   0.0  0.0  0.0     0.0  0.0  0.0  1.0  0.0   0.0  0.0\n",
       " 0.0  0.0   0.0  0.0   0.0  0.0  0.0     0.0  0.0  0.0  0.0  0.0   0.0  0.0\n",
       " 0.0  0.0   0.0  0.0   0.0  0.0  0.0  …  0.0  0.0  0.0  0.0  0.0  -1.0  0.0"
      ]
     },
     "execution_count": 7,
     "metadata": {},
     "output_type": "execute_result"
    }
   ],
   "source": [
    "Matrix(ad(op4,4))"
   ]
  },
  {
   "cell_type": "markdown",
   "metadata": {},
   "source": [
    "The minus sign in some operators is a result of the anticommutation relations in fermions.\n",
    "\n",
    "We can also define some one body operators, such as $c_i^\\dagger c_j$:"
   ]
  },
  {
   "cell_type": "code",
   "execution_count": 8,
   "metadata": {},
   "outputs": [
    {
     "data": {
      "text/plain": [
       "16×16 Array{Float64,2}:\n",
       " 0.0  0.0  0.0  0.0  0.0  0.0  0.0  0.0  …  0.0  0.0  0.0  0.0  0.0  0.0  0.0\n",
       " 0.0  0.0  0.0  0.0  0.0  0.0  0.0  0.0     0.0  0.0  0.0  0.0  0.0  0.0  0.0\n",
       " 0.0  0.0  0.0  0.0  0.0  0.0  0.0  0.0     0.0  0.0  0.0  0.0  0.0  0.0  0.0\n",
       " 0.0  0.0  0.0  0.0  0.0  0.0  0.0  0.0     0.0  0.0  0.0  0.0  0.0  0.0  0.0\n",
       " 0.0  0.0  1.0  0.0  0.0  0.0  0.0  0.0     0.0  0.0  0.0  0.0  0.0  0.0  0.0\n",
       " 0.0  0.0  0.0  1.0  0.0  0.0  0.0  0.0  …  0.0  0.0  0.0  0.0  0.0  0.0  0.0\n",
       " 0.0  0.0  0.0  0.0  0.0  0.0  0.0  0.0     0.0  0.0  0.0  0.0  0.0  0.0  0.0\n",
       " 0.0  0.0  0.0  0.0  0.0  0.0  0.0  0.0     0.0  0.0  0.0  0.0  0.0  0.0  0.0\n",
       " 0.0  0.0  0.0  0.0  0.0  0.0  0.0  0.0     0.0  0.0  0.0  0.0  0.0  0.0  0.0\n",
       " 0.0  0.0  0.0  0.0  0.0  0.0  0.0  0.0     0.0  0.0  0.0  0.0  0.0  0.0  0.0\n",
       " 0.0  0.0  0.0  0.0  0.0  0.0  0.0  0.0  …  0.0  0.0  0.0  0.0  0.0  0.0  0.0\n",
       " 0.0  0.0  0.0  0.0  0.0  0.0  0.0  0.0     0.0  0.0  0.0  0.0  0.0  0.0  0.0\n",
       " 0.0  0.0  0.0  0.0  0.0  0.0  0.0  0.0     0.0  1.0  0.0  0.0  0.0  0.0  0.0\n",
       " 0.0  0.0  0.0  0.0  0.0  0.0  0.0  0.0     0.0  0.0  1.0  0.0  0.0  0.0  0.0\n",
       " 0.0  0.0  0.0  0.0  0.0  0.0  0.0  0.0     0.0  0.0  0.0  0.0  0.0  0.0  0.0\n",
       " 0.0  0.0  0.0  0.0  0.0  0.0  0.0  0.0  …  0.0  0.0  0.0  0.0  0.0  0.0  0.0"
      ]
     },
     "execution_count": 8,
     "metadata": {},
     "output_type": "execute_result"
    }
   ],
   "source": [
    "Matrix(ada(op4,2,3))"
   ]
  },
  {
   "cell_type": "markdown",
   "metadata": {},
   "source": [
    "Of course these compound operators can be also obtained by explicitly computing the product:"
   ]
  },
  {
   "cell_type": "code",
   "execution_count": 9,
   "metadata": {},
   "outputs": [
    {
     "data": {
      "text/plain": [
       "true"
      ]
     },
     "execution_count": 9,
     "metadata": {},
     "output_type": "execute_result"
    }
   ],
   "source": [
    "ada(op4,2,3) == ad(op4,2)*a(op4,3)"
   ]
  },
  {
   "cell_type": "markdown",
   "metadata": {},
   "source": [
    "When both arguments are equal, we have the number operator (counting occupation of the i mode)"
   ]
  },
  {
   "cell_type": "code",
   "execution_count": 10,
   "metadata": {},
   "outputs": [
    {
     "data": {
      "text/plain": [
       "16×16 SparseArrays.SparseMatrixCSC{Float64,Int64} with 8 stored entries:\n",
       "  [5 ,  5]  =  1.0\n",
       "  [6 ,  6]  =  1.0\n",
       "  [7 ,  7]  =  1.0\n",
       "  [8 ,  8]  =  1.0\n",
       "  [13, 13]  =  1.0\n",
       "  [14, 14]  =  1.0\n",
       "  [15, 15]  =  1.0\n",
       "  [16, 16]  =  1.0"
      ]
     },
     "execution_count": 10,
     "metadata": {},
     "output_type": "execute_result"
    }
   ],
   "source": [
    "ada(op4,2,2)"
   ]
  },
  {
   "cell_type": "markdown",
   "metadata": {},
   "source": [
    "### Unitaries\n",
    "You can actually do general unitaries of fermionic operatiors by considering the exponential function. This can come in handy for doing any unitary operation, such as a time evolution of a given hamiltonian.\n",
    "\n",
    "In order to exponentiate a matrix, we must first converte the sparse operator to dense. This has the consequence that we lose the advantages of sparse representations. Therefore this can only be made for relativly small dimensions."
   ]
  },
  {
   "cell_type": "code",
   "execution_count": 11,
   "metadata": {},
   "outputs": [
    {
     "data": {
      "text/plain": [
       "4×4 Array{Complex{Float64},2}:\n",
       " 1.0+0.0im       0.0+0.0im            0.0+0.0im       0.0+0.0im\n",
       " 0.0+0.0im  0.877583+0.0im            0.0+0.479426im  0.0+0.0im\n",
       " 0.0+0.0im       0.0+0.479426im  0.877583+0.0im       0.0+0.0im\n",
       " 0.0+0.0im       0.0+0.0im            0.0+0.0im       1.0+0.0im"
      ]
     },
     "execution_count": 11,
     "metadata": {},
     "output_type": "execute_result"
    }
   ],
   "source": [
    "t=1/2\n",
    "unit = exp(Matrix(im*t*(ada(Op(2),1,2)+ada(Op(2),2,1))))"
   ]
  },
  {
   "cell_type": "markdown",
   "metadata": {},
   "source": [
    "# States\n",
    "\n",
    "States are vectors that indicate the coefficient for each element in basis.They can be used both as sparse arrays or as normal arrays. Let's look one more time at the shape of basis:"
   ]
  },
  {
   "cell_type": "code",
   "execution_count": 12,
   "metadata": {},
   "outputs": [
    {
     "data": {
      "text/plain": [
       "16×4 Array{Float64,2}:\n",
       " 0.0  0.0  0.0  0.0\n",
       " 0.0  0.0  0.0  1.0\n",
       " 0.0  0.0  1.0  0.0\n",
       " 0.0  0.0  1.0  1.0\n",
       " 0.0  1.0  0.0  0.0\n",
       " 0.0  1.0  0.0  1.0\n",
       " 0.0  1.0  1.0  0.0\n",
       " 0.0  1.0  1.0  1.0\n",
       " 1.0  0.0  0.0  0.0\n",
       " 1.0  0.0  0.0  1.0\n",
       " 1.0  0.0  1.0  0.0\n",
       " 1.0  0.0  1.0  1.0\n",
       " 1.0  1.0  0.0  0.0\n",
       " 1.0  1.0  0.0  1.0\n",
       " 1.0  1.0  1.0  0.0\n",
       " 1.0  1.0  1.0  1.0"
      ]
     },
     "execution_count": 12,
     "metadata": {},
     "output_type": "execute_result"
    }
   ],
   "source": [
    "Matrix(basis(op4))"
   ]
  },
  {
   "cell_type": "markdown",
   "metadata": {},
   "source": [
    "We can clearly see that the first element corresponds to a completely empty state. This is the vacuum, and can of course be accessed directly with a method. \n",
    "For switching  from sparse to regular vectors,  we now use Array()"
   ]
  },
  {
   "cell_type": "code",
   "execution_count": 13,
   "metadata": {},
   "outputs": [
    {
     "data": {
      "text/plain": [
       "16-element SparseArrays.SparseVector{Float64,Int64} with 1 stored entry:\n",
       "  [1 ]  =  1.0"
      ]
     },
     "execution_count": 13,
     "metadata": {},
     "output_type": "execute_result"
    }
   ],
   "source": [
    "vacuum(op4)"
   ]
  },
  {
   "cell_type": "code",
   "execution_count": 14,
   "metadata": {},
   "outputs": [
    {
     "data": {
      "text/plain": [
       "16-element Array{Float64,1}:\n",
       " 1.0\n",
       " 0.0\n",
       " 0.0\n",
       " 0.0\n",
       " 0.0\n",
       " 0.0\n",
       " 0.0\n",
       " 0.0\n",
       " 0.0\n",
       " 0.0\n",
       " 0.0\n",
       " 0.0\n",
       " 0.0\n",
       " 0.0\n",
       " 0.0\n",
       " 0.0"
      ]
     },
     "execution_count": 14,
     "metadata": {},
     "output_type": "execute_result"
    }
   ],
   "source": [
    "Array(vacuum(op4))"
   ]
  },
  {
   "cell_type": "markdown",
   "metadata": {},
   "source": [
    "Basis has $2^n$ elements. Then a state of the shape \n",
    "state = [0,0,1,0,0,0,0,0,0,0,0,0,0,0,0,0] corresponds to occupying the only the third mode"
   ]
  },
  {
   "cell_type": "code",
   "execution_count": 15,
   "metadata": {},
   "outputs": [
    {
     "data": {
      "text/plain": [
       "16-element SparseArrays.SparseVector{Float64,Int64} with 1 stored entry:\n",
       "  [3 ]  =  1.0"
      ]
     },
     "execution_count": 15,
     "metadata": {},
     "output_type": "execute_result"
    }
   ],
   "source": [
    "ad3 = ad(op4,3);\n",
    "vac = vacuum(op4)\n",
    "ad3*vac"
   ]
  },
  {
   "cell_type": "markdown",
   "metadata": {},
   "source": [
    "We can naturally work with more fermions. For example, let's occupy the first three modes:"
   ]
  },
  {
   "cell_type": "code",
   "execution_count": 16,
   "metadata": {},
   "outputs": [
    {
     "data": {
      "text/plain": [
       "16-element SparseArrays.SparseVector{Float64,Int64} with 1 stored entry:\n",
       "  [15]  =  1.0"
      ]
     },
     "execution_count": 16,
     "metadata": {},
     "output_type": "execute_result"
    }
   ],
   "source": [
    "ad1 = ad(op4,1);\n",
    "ad2 = ad(op4,2);\n",
    "ad3 = ad(op4,3);\n",
    "\n",
    "ad1*ad2*ad3*vac"
   ]
  },
  {
   "cell_type": "markdown",
   "metadata": {},
   "source": [
    "We can input normal arrays or sparse arrays, both real or complex, to State."
   ]
  },
  {
   "cell_type": "markdown",
   "metadata": {},
   "source": [
    "<a id=\"arrays\"></a>\n",
    "### States\n",
    "\n",
    "Lets generate a random state of 2 fermions. "
   ]
  },
  {
   "cell_type": "code",
   "execution_count": 17,
   "metadata": {},
   "outputs": [
    {
     "name": "stdout",
     "output_type": "stream",
     "text": [
      "[0.0, 0.0, 0.0, 0.2423922241148917, 0.0, 0.6321678881336128, 0.2750885920516333, 0.0, 0.0, 0.5246032248747636, 0.3709906180609539, 0.0, 0.839767300497857, 0.0, 0.0, 0.0]"
     ]
    }
   ],
   "source": [
    "nume = 2\n",
    "l = length(vac)\n",
    "\n",
    "random_state = [0.0 for i in 1:l]\n",
    "\n",
    "for i in 1:l\n",
    "    if sum(basis(op4)[i,:]) == nume\n",
    "        random_state[i] = 2*rand(Float64,1)[1]-1\n",
    "    end\n",
    "end\n",
    "\n",
    "print(random_state)"
   ]
  },
  {
   "cell_type": "markdown",
   "metadata": {},
   "source": [
    "We must normalize the state to norm 1."
   ]
  },
  {
   "cell_type": "code",
   "execution_count": 18,
   "metadata": {},
   "outputs": [
    {
     "data": {
      "text/plain": [
       "0.9999999999999997"
      ]
     },
     "execution_count": 18,
     "metadata": {},
     "output_type": "execute_result"
    }
   ],
   "source": [
    "random_state = random_state/sqrt(random_state'*random_state);\n",
    "random_state'*random_state"
   ]
  },
  {
   "cell_type": "markdown",
   "metadata": {},
   "source": [
    "Now we can initialize state as an element of the type State in order to access more information about it. Note that the random_state was defined from a normal array, not a sparse array. We will learn later how to use sparse arrays."
   ]
  },
  {
   "cell_type": "code",
   "execution_count": 19,
   "metadata": {},
   "outputs": [],
   "source": [
    "ran_state = State(random_state, op4);"
   ]
  },
  {
   "cell_type": "markdown",
   "metadata": {},
   "source": [
    "The method belonging to this type are now available:\n",
    "\n",
    "- st(): prints back the state.\n",
    "- dim(): returns the corresponding dimension.\n",
    "- basis(): returns the corresponding basis.\n",
    "- rhosp(): the one body density matrix, which is the matrix with the one body operator contractions, i.e. $\\rho^{\\rm sp}(i,j) = \\langle \\psi | a_j^\\dagger a_i |\\psi\\rangle$.\n",
    "- rhoqsp(): the one body quasiparticle density matrix, i.e. $\\rho^{qsp}$ such that $\\rho^{qsp}=\\begin{pmatrix}\\rho^{sp}&\\kappa\\\\\\bar{\\kappa}&1-\\rho^{sp}\\end{pmatrix}$, with $\\rho^{sp}$ the one body matrix, $\\kappa$ such that $\\kappa_{ij}=\\langle \\psi| a_j a_i|\\psi \\rangle$.\n",
    "- n_avg(): the average number of particles.\n",
    "- eigensp(): the eigenvalues of the rhosp matrix.\n",
    "- ssp(): the one body entropy which is defined as \n",
    "$S(\\rho^{\\rm sp}) = -\\sum_i (\\lambda_i \\log(\\lambda_i) + (1-\\lambda_i) \\log(1-\\lambda_i))$\n",
    "accounting both for particle ($\\lambda_i$) and holes ($1-\\lambda_i$).\n",
    "\n",
    "And many more which can be found in the index."
   ]
  },
  {
   "cell_type": "code",
   "execution_count": 20,
   "metadata": {},
   "outputs": [
    {
     "data": {
      "text/plain": [
       "16-element Array{Float64,1}:\n",
       " 0.0\n",
       " 0.0\n",
       " 0.0\n",
       " 0.1885812279204181\n",
       " 0.0\n",
       " 0.49182681924477656\n",
       " 0.21401901263716677\n",
       " 0.0\n",
       " 0.0\n",
       " 0.4081414768115749\n",
       " 0.288630819558503\n",
       " 0.0\n",
       " 0.6533392284904211\n",
       " 0.0\n",
       " 0.0\n",
       " 0.0"
      ]
     },
     "execution_count": 20,
     "metadata": {},
     "output_type": "execute_result"
    }
   ],
   "source": [
    "st(ran_state)"
   ]
  },
  {
   "cell_type": "code",
   "execution_count": 21,
   "metadata": {},
   "outputs": [
    {
     "data": {
      "text/plain": [
       "4×4 SparseArrays.SparseMatrixCSC{Float64,Int64} with 16 stored entries:\n",
       "  [1, 1]  =  0.676739\n",
       "  [2, 1]  =  0.262507\n",
       "  [3, 1]  =  -0.0628592\n",
       "  [4, 1]  =  -0.37576\n",
       "  [1, 2]  =  0.262507\n",
       "  [2, 2]  =  0.71455\n",
       "  [3, 2]  =  0.281323\n",
       "  [4, 2]  =  0.226295\n",
       "  [1, 3]  =  -0.0628592\n",
       "  [2, 3]  =  0.281323\n",
       "  [3, 3]  =  0.164675\n",
       "  [4, 3]  =  0.223062\n",
       "  [1, 4]  =  -0.37576\n",
       "  [2, 4]  =  0.226295\n",
       "  [3, 4]  =  0.223062\n",
       "  [4, 4]  =  0.444036"
      ]
     },
     "execution_count": 21,
     "metadata": {},
     "output_type": "execute_result"
    }
   ],
   "source": [
    "rhosp(ran_state)"
   ]
  },
  {
   "cell_type": "code",
   "execution_count": 22,
   "metadata": {},
   "outputs": [
    {
     "data": {
      "text/plain": [
       "4-element Array{Float64,1}:\n",
       " 0.995271520694479\n",
       " 0.995271520694478\n",
       " 0.004728479305521\n",
       " 0.004728479305521"
      ]
     },
     "execution_count": 22,
     "metadata": {},
     "output_type": "execute_result"
    }
   ],
   "source": [
    "eigensp(ran_state)"
   ]
  },
  {
   "cell_type": "code",
   "execution_count": 23,
   "metadata": {},
   "outputs": [
    {
     "data": {
      "text/plain": [
       "0.04333030328828412"
      ]
     },
     "execution_count": 23,
     "metadata": {},
     "output_type": "execute_result"
    }
   ],
   "source": [
    "ssp(ran_state)"
   ]
  },
  {
   "cell_type": "markdown",
   "metadata": {},
   "source": [
    "We can also define sparse states."
   ]
  },
  {
   "cell_type": "code",
   "execution_count": 24,
   "metadata": {},
   "outputs": [
    {
     "name": "stdout",
     "output_type": "stream",
     "text": [
      "SparseVector{Float64,Int64}"
     ]
    }
   ],
   "source": [
    "using SparseArrays\n",
    "d = dim(op4)\n",
    "l = 2^d\n",
    "\n",
    "sp_st = spzeros(16)\n",
    "sp_st[13] = 1\n",
    "\n",
    "print(typeof(sp_st))\n",
    "sp_state = State(sp_st, op4);"
   ]
  },
  {
   "cell_type": "markdown",
   "metadata": {},
   "source": [
    "A random sparse array might be generated in the following way"
   ]
  },
  {
   "cell_type": "code",
   "execution_count": 25,
   "metadata": {},
   "outputs": [],
   "source": [
    "l= length(vacuum(op4))\n",
    "nume = 2 #number of particles\n",
    "state_ran0 = spzeros(l)\n",
    "\n",
    "for i in 1:l\n",
    "    if sum(basis(op4)[i,:]) == nume      \n",
    "        state_ran0[i] = 2*rand(Float64,1)[1]-1\n",
    "    end\n",
    "end\n",
    "\n",
    "state_ran = State(state_ran0, op4);"
   ]
  },
  {
   "cell_type": "markdown",
   "metadata": {},
   "source": [
    "The most general state is of course complex."
   ]
  },
  {
   "cell_type": "code",
   "execution_count": 26,
   "metadata": {},
   "outputs": [],
   "source": [
    "#Random complex array state\n",
    "\n",
    "op4 = Op(4)\n",
    "\n",
    "nume = 2\n",
    "l = length(vac)\n",
    "\n",
    "state_ran_com = zeros(Complex{Float64},l)\n",
    "\n",
    "for i in 1:l\n",
    "    if sum(basis(op4)[i,:]) == nume\n",
    "        state_ran_com[i] = 2*rand(Complex{Float64},1)[1]-1\n",
    "    end\n",
    "end\n",
    "state_ran_com = state_ran_com/sqrt(state_ran_com'*state_ran_com)\n",
    "state_ran_com = State(state_ran_com,op4);"
   ]
  },
  {
   "cell_type": "code",
   "execution_count": 27,
   "metadata": {},
   "outputs": [
    {
     "data": {
      "text/plain": [
       "4×4 Array{Complex{Float64},2}:\n",
       "  0.512411+0.0im          0.298208-0.0309074im   …   -0.277161-0.119036im\n",
       "  0.298208+0.0309074im    0.654759+0.0im            -0.0632625-0.106255im\n",
       " -0.237084-0.0789233im    0.338134-0.00168452im       0.207848+0.0853876im\n",
       " -0.277161+0.119036im   -0.0632625+0.106255im         0.205566+0.0im"
      ]
     },
     "execution_count": 27,
     "metadata": {},
     "output_type": "execute_result"
    }
   ],
   "source": [
    "Matrix(rhosp(state_ran_com))"
   ]
  },
  {
   "cell_type": "code",
   "execution_count": 28,
   "metadata": {},
   "outputs": [],
   "source": [
    "#random complex sparse\n",
    "\n",
    "using SparseArrays\n",
    "\n",
    "l= length(vac)\n",
    "nume = 2 #number of particles\n",
    "sparse_state_ran_com = spzeros(Complex{Float64},l)\n",
    "\n",
    "for i in 1:l\n",
    "    if sum(basis(op4)[i,:]) == nume\n",
    "        sparse_state_ran_com[i] = 2*rand(Complex{Float64},1)[1]-1\n",
    "    end\n",
    "end\n",
    "sparse_state_ran_com = sparse_state_ran_com/sqrt(sparse_state_ran_com'*sparse_state_ran_com)\n",
    "sparse_state_ran_com = State(sparse_state_ran_com, op4);"
   ]
  },
  {
   "cell_type": "markdown",
   "metadata": {},
   "source": [
    "We can check that the rhosp is hermitic"
   ]
  },
  {
   "cell_type": "code",
   "execution_count": 29,
   "metadata": {
    "scrolled": true
   },
   "outputs": [
    {
     "data": {
      "text/plain": [
       "4×4 Array{Complex{Float64},2}:\n",
       "     0.3761+0.0im         0.200889-0.0253948im    …  -0.0607094+0.0336499im\n",
       "   0.200889+0.0253948im   0.362382+0.0im              -0.198253-0.000188833im\n",
       "   0.234272+0.0943952im   0.148692+0.0600894im         0.179208+0.0374292im\n",
       " -0.0607094-0.0336499im  -0.198253+0.000188833im       0.717544+0.0im"
      ]
     },
     "execution_count": 29,
     "metadata": {},
     "output_type": "execute_result"
    }
   ],
   "source": [
    "Matrix(rhosp(sparse_state_ran_com))"
   ]
  },
  {
   "cell_type": "markdown",
   "metadata": {},
   "source": [
    "Note: in julia the complex conjugation is done with ' applied to a complex matrix. This same application to a real matrix is of course just the transpose."
   ]
  },
  {
   "cell_type": "code",
   "execution_count": 30,
   "metadata": {
    "scrolled": true
   },
   "outputs": [
    {
     "data": {
      "text/plain": [
       "true"
      ]
     },
     "execution_count": 30,
     "metadata": {},
     "output_type": "execute_result"
    }
   ],
   "source": [
    "Matrix(rhosp(sparse_state_ran_com))==Matrix(rhosp(sparse_state_ran_com))'"
   ]
  },
  {
   "cell_type": "markdown",
   "metadata": {},
   "source": [
    "## Some useful states"
   ]
  },
  {
   "cell_type": "code",
   "execution_count": 31,
   "metadata": {},
   "outputs": [],
   "source": [
    "op4 = Op(4)\n",
    "ad1 = ad(op4,1)\n",
    "ad2 = ad(op4,2)\n",
    "ad3 = ad(op4,3)\n",
    "ad4 = ad(op4,4)\n",
    "vac = vacuum(op4)\n",
    "\n",
    "#initzialize a slater determinant\n",
    "state_ds0 = ad1*ad2*vac;\n",
    "state_ds = State(state_ds0, op4) #or just State if you want to work with arrays\n",
    "\n",
    "#initzialize a maximally entangled state\n",
    "state_ent = (ad1*ad2 + ad3*ad4)*vac/sqrt(2)\n",
    "state_ent = State(state_ent, op4); #or just State if you want to work with arrays\n",
    "\n",
    "#initialization of a random state of 2 particles\n",
    "using SparseArrays\n",
    "\n",
    "l= length(vac)\n",
    "nume = 2 #number of particles\n",
    "\n",
    "#vectorial real:\n",
    "state_ran0 = [0.0 for i in 1:l]\n",
    "for i in 1:l\n",
    "    if sum(basis(op4)[i,:]) == nume\n",
    "        state_ran0[i] = 2*rand(Float64,1)[1]-1\n",
    "    end\n",
    "end\n",
    "\n",
    "state_ran0 = state_ran0/sqrt(state_ran0'*state_ran0)\n",
    "state_ran = State(state_ran0, op4);\n",
    "\n",
    "#sparse complex\n",
    "sparse_state_ran_com = spzeros(Complex{Float64},l)\n",
    "\n",
    "for i in 1:l\n",
    "    if sum(basis(op4)[i,:]) == nume\n",
    "        sparse_state_ran_com[i] = 2*rand(Complex{Float64},1)[1]-1\n",
    "    end\n",
    "end\n",
    "sparse_state_ran_com = sparse_state_ran_com/sqrt(sparse_state_ran_com'*sparse_state_ran_com)\n",
    "sparse_state_ran_com = State(sparse_state_ran_com, op4);"
   ]
  }
 ],
 "metadata": {
  "kernelspec": {
   "display_name": "Julia 1.4.1",
   "language": "julia",
   "name": "julia-1.4"
  },
  "language_info": {
   "file_extension": ".jl",
   "mimetype": "application/julia",
   "name": "julia",
   "version": "1.4.1"
  }
 },
 "nbformat": 4,
 "nbformat_minor": 4
}
