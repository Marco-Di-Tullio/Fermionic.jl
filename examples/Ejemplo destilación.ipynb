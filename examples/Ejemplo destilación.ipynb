{
 "cells": [
  {
   "cell_type": "markdown",
   "metadata": {},
   "source": [
    "# Destilación fermiónica (ejemplo)\n",
    "\n",
    "Primero inicializamos el programa. Vamos a trabajar en dimensión 6."
   ]
  },
  {
   "cell_type": "code",
   "execution_count": 3,
   "metadata": {},
   "outputs": [],
   "source": [
    "using Fermionic\n",
    "\n",
    "o = Op(6);\n",
    "vac = vacuum(o);\n",
    "\n",
    "cd1 = cdm(o,1);\n",
    "cd2 = cdm(o,2);\n",
    "cd3 = cdm(o,3);\n",
    "cd4 = cdm(o,4);\n",
    "cd5 = cdm(o,5);\n",
    "cd6 = cdm(o,6);"
   ]
  },
  {
   "cell_type": "markdown",
   "metadata": {},
   "source": [
    "**0.** El estado inicial es\n",
    "\n",
    "> $|\\psi_0\\rangle = (\\sqrt{0.9} c_1^\\dagger c_3^\\dagger + \\sqrt{0.1} c_2^\\dagger c_4^\\dagger)|0\\rangle $"
   ]
  },
  {
   "cell_type": "code",
   "execution_count": 24,
   "metadata": {},
   "outputs": [
    {
     "name": "stdout",
     "output_type": "stream",
     "text": [
      "Los autovalores de la matriz de un cuerpo son: [0.0, 0.0, 0.1, 0.1, 0.9, 0.9]\n",
      "La entropía de un cuerpo es: 0.3126637290595208\n"
     ]
    }
   ],
   "source": [
    "p1 = sqrt(0.9)\n",
    "p2 = sqrt(1-p1^2)\n",
    "\n",
    "psi0 = (p1*cd1*cd3+p2*cd2*cd4)*vac\n",
    "psi0 = State_sparse(psi0,o) #Inicializo el estado (así puedo acceder a su matriz de un cuerpo)\n",
    "println(\"Los autovalores de la matriz de un cuerpo son: \",eigensp(psi0))\n",
    "println(\"La entropía de un cuerpo es: \",ssp(psi0))"
   ]
  },
  {
   "cell_type": "markdown",
   "metadata": {},
   "source": [
    "**1.** Le agregamos una ancilla. Esta ancilla va a ser un fermión en un subsistema de dimensión 2 de la siguiente forma\n",
    "\n",
    "> $|\\chi_{\\rm ancilla}\\rangle = \\frac{1}{\\sqrt{2}}(c_5^\\dagger + c_6^\\dagger)|0\\rangle$\n",
    "\n",
    " Nuestro estado queda ahora como\n",
    "\n",
    "> $|\\psi_1\\rangle = |\\chi_{\\rm ancilla}\\rangle |\\psi_0\\rangle  = \\frac{1}{\\sqrt{2}}(c_5^\\dagger + c_6^\\dagger) (\\sqrt{0.9} c_1^\\dagger c_3^\\dagger + \\sqrt{0.1} c_2^\\dagger c_4^\\dagger)|0\\rangle$"
   ]
  },
  {
   "cell_type": "code",
   "execution_count": 25,
   "metadata": {
    "scrolled": false
   },
   "outputs": [
    {
     "data": {
      "text/plain": [
       "64-element SparseArrays.SparseVector{Float64,Int64} with 4 stored entries:\n",
       "  [22]  =  0.223607\n",
       "  [23]  =  0.223607\n",
       "  [42]  =  0.67082\n",
       "  [43]  =  0.67082"
      ]
     },
     "execution_count": 25,
     "metadata": {},
     "output_type": "execute_result"
    }
   ],
   "source": [
    "a = 1/sqrt(2)\n",
    "b = sqrt(1-a^2);\n",
    "\n",
    "psi1 = (a*cd5 + b*cd6)*(p1*cd1*cd3+p2*cd2*cd4)*vac"
   ]
  },
  {
   "cell_type": "code",
   "execution_count": 39,
   "metadata": {},
   "outputs": [
    {
     "name": "stdout",
     "output_type": "stream",
     "text": [
      "los autovalores siguen siendo [0.0, 0.1, 0.1, 0.9, 0.9, 1.0] y la entropía sigue siendo 0.3126637290595208"
     ]
    }
   ],
   "source": [
    "psi1_s = State_sparse(psi1, o)\n",
    "print(\"los autovalores siguen siendo \", eigensp(psi1_s), \" y la entropía sigue siendo \", ssp(psi1_s))"
   ]
  },
  {
   "cell_type": "markdown",
   "metadata": {},
   "source": [
    "La entropia de un cuerpo se mantiene constante. Pareciera ser una operación libre en este sentido.\n",
    "\n",
    "Veamos los elementos de la base que componen este estado"
   ]
  },
  {
   "cell_type": "code",
   "execution_count": 27,
   "metadata": {},
   "outputs": [
    {
     "name": "stdout",
     "output_type": "stream",
     "text": [
      "[0.0, 1.0, 0.0, 1.0, 0.0, 1.0]\n",
      "[0.0, 1.0, 0.0, 1.0, 1.0, 0.0]\n",
      "[1.0, 0.0, 1.0, 0.0, 0.0, 1.0]\n",
      "[1.0, 0.0, 1.0, 0.0, 1.0, 0.0]\n"
     ]
    }
   ],
   "source": [
    "println(Array(basis(o)[22,:]))\n",
    "println(Array(basis(o)[23,:]))\n",
    "println(Array(basis(o)[42,:]))\n",
    "println(Array(basis(o)[43,:]))"
   ]
  },
  {
   "cell_type": "markdown",
   "metadata": {},
   "source": [
    "**2.** Aplicamos una operación control not, con el modo 5 (ancilla) como control, y los modos 1 y 2 como targets\n",
    "> $|\\psi_2\\rangle = U_{\\rm CNOT}^{5: 1,2}|\\psi_1\\rangle = U_{\\rm CNOT}^{5: 1,2} \\frac{1}{\\sqrt{2}}(c_5^\\dagger + c_6^\\dagger) (\\sqrt{0.9} c_1^\\dagger c_3^\\dagger + \\sqrt{0.1} c_2^\\dagger c_4^\\dagger)|0\\rangle\n",
    "\\\\= \\frac{1}{\\sqrt{2}}[c_5^\\dagger (\\sqrt{0.9} c_2^\\dagger c_3^\\dagger + \\sqrt{0.1} c_1^\\dagger c_4^\\dagger)+ c_6^\\dagger(\\sqrt{0.9} c_1^\\dagger c_3^\\dagger + \\sqrt{0.1} c_2^\\dagger c_4^\\dagger)] |0\\rangle$\n",
    "\n",
    "Esta operación no es libre en nuestra teoría, pero siento que debería serlo para tener una teoría de recursos aplicable."
   ]
  },
  {
   "cell_type": "code",
   "execution_count": 28,
   "metadata": {
    "scrolled": true
   },
   "outputs": [
    {
     "data": {
      "text/plain": [
       "64-element SparseArrays.SparseVector{Float64,Int64} with 4 stored entries:\n",
       "  [22]  =  0.223607\n",
       "  [27]  =  0.67082\n",
       "  [39]  =  0.223607\n",
       "  [42]  =  0.67082"
      ]
     },
     "execution_count": 28,
     "metadata": {},
     "output_type": "execute_result"
    }
   ],
   "source": [
    "psi2 = ucnot(o, 5, 1)*ucnot(o, 5, 2)*psi1"
   ]
  },
  {
   "cell_type": "markdown",
   "metadata": {},
   "source": [
    "**3.** Usamos una Hadamard en los modos de la ancilla 5 y 6\n",
    "\n",
    "> $|\\psi_3\\rangle = H|\\psi_2\\rangle = H \\frac{1}{\\sqrt{2}}[c_5^\\dagger (\\sqrt{0.9} c_2^\\dagger c_3^\\dagger + \\sqrt{0.1} c_1^\\dagger c_4^\\dagger)+ c_6^\\dagger(\\sqrt{0.9} c_1^\\dagger c_3^\\dagger + \\sqrt{0.1} c_2^\\dagger c_4^\\dagger)] |0\\rangle\\\\\n",
    "= \\frac{1}{2}[(c_5^\\dagger + c_6^\\dagger)(\\sqrt{0.9} c_2^\\dagger c_3^\\dagger + \\sqrt{0.1} c_1^\\dagger c_4^\\dagger) + (c_5^\\dagger - c_6^\\dagger)(\\sqrt{0.9} c_1^\\dagger c_3^\\dagger + \\sqrt{0.1} c_2^\\dagger c_4^\\dagger)]|0\\rangle$\n",
    "\n",
    "Esta operación es una unitaria de un cuerpo en dos modos, con lo cual es libre"
   ]
  },
  {
   "cell_type": "code",
   "execution_count": 29,
   "metadata": {
    "scrolled": true
   },
   "outputs": [
    {
     "data": {
      "text/plain": [
       "64-element SparseArrays.SparseVector{Float64,Int64} with 8 stored entries:\n",
       "  [22]  =  0.158114\n",
       "  [23]  =  0.158114\n",
       "  [26]  =  0.474342\n",
       "  [27]  =  0.474342\n",
       "  [38]  =  0.158114\n",
       "  [39]  =  0.158114\n",
       "  [42]  =  0.474342\n",
       "  [43]  =  0.474342"
      ]
     },
     "execution_count": 29,
     "metadata": {},
     "output_type": "execute_result"
    }
   ],
   "source": [
    "psi3 = hadamard(o, 5, 6)*psi2"
   ]
  },
  {
   "cell_type": "markdown",
   "metadata": {},
   "source": [
    "**4.** Nuevamente aplicamos una transformación control usando nuevamente el mismo modo de la ancilla como control (abajo en una nota, me dí cuenta de que usando el otro modo como control mejoraba todavía más el resultado), pero ahora los modos 3 y 4 como target\n",
    "\n",
    "> $|\\psi_4\\rangle = U_{\\rm CNOT}^{5: 3,4}|\\psi_3\\rangle = U_{\\rm CNOT}^{5: 3,4} \\frac{1}{2}[(c_5^\\dagger + c_6^\\dagger)(\\sqrt{0.9} c_2^\\dagger c_3^\\dagger + \\sqrt{0.1} c_1^\\dagger c_4^\\dagger) + (c_5^\\dagger - c_6^\\dagger)(\\sqrt{0.9} c_1^\\dagger c_3^\\dagger + \\sqrt{0.1} c_2^\\dagger c_4^\\dagger)]|0\\rangle\\\\\n",
    "=U_{\\rm CNOT}^{5: 3,4} \\frac{1}{2}[c_5^\\dagger (\\sqrt{0.9} c_2^\\dagger c_3^\\dagger + \\sqrt{0.1} c_1^\\dagger c_4^\\dagger + \\sqrt{0.9} c_1^\\dagger c_3^\\dagger + \\sqrt{0.1} c_2^\\dagger c_4^\\dagger) +  c_6^\\dagger(\\sqrt{0.9} c_2^\\dagger c_3^\\dagger + \\sqrt{0.1} c_1^\\dagger c_4^\\dagger - \\sqrt{0.9} c_1^\\dagger c_3^\\dagger - \\sqrt{0.1} c_2^\\dagger c_4^\\dagger)]|0\\rangle\\\\\n",
    "=\\frac{1}{2}[c_5^\\dagger (\\sqrt{0.9} c_2^\\dagger c_4^\\dagger + \\sqrt{0.1} c_1^\\dagger c_3^\\dagger + \\sqrt{0.9} c_1^\\dagger c_4^\\dagger + \\sqrt{0.1} c_2^\\dagger c_3^\\dagger) +  c_6^\\dagger(\\sqrt{0.9} c_2^\\dagger c_3^\\dagger + \\sqrt{0.1} c_1^\\dagger c_4^\\dagger - \\sqrt{0.9} c_1^\\dagger c_3^\\dagger - \\sqrt{0.1} c_2^\\dagger c_4^\\dagger)]|0\\rangle$"
   ]
  },
  {
   "cell_type": "code",
   "execution_count": 30,
   "metadata": {
    "scrolled": true
   },
   "outputs": [
    {
     "data": {
      "text/plain": [
       "64-element SparseArrays.SparseVector{Float64,Int64} with 8 stored entries:\n",
       "  [22]  =  0.158114\n",
       "  [23]  =  0.474342\n",
       "  [26]  =  0.474342\n",
       "  [27]  =  0.158114\n",
       "  [38]  =  0.158114\n",
       "  [39]  =  0.474342\n",
       "  [42]  =  0.474342\n",
       "  [43]  =  0.158114"
      ]
     },
     "execution_count": 30,
     "metadata": {},
     "output_type": "execute_result"
    }
   ],
   "source": [
    "psi4 = ucnot(o, 5, 3)*ucnot(o, 5, 4)*psi3"
   ]
  },
  {
   "cell_type": "markdown",
   "metadata": {},
   "source": [
    "**5.** Vamos ahora a proyectar sobre la ocupación de los modos 1 o 2 y quedarnos con el sistema compuesto por los modos 3,4,5 y 6\n",
    "> $|\\psi_4\\rangle = \\frac{1}{2}(\\sqrt{0.9} c_5^\\dagger c_2^\\dagger c_4^\\dagger  + \\sqrt{0.1} c_5^\\dagger c_1^\\dagger c_3^\\dagger + \\sqrt{0.9} c_5^\\dagger c_1^\\dagger c_4^\\dagger + \\sqrt{0.1} c_5^\\dagger c_2^\\dagger c_3^\\dagger  +  \\sqrt{0.9} c_6^\\dagger c_2^\\dagger c_3^\\dagger + \\sqrt{0.1} c_6^\\dagger c_1^\\dagger c_4^\\dagger - \\sqrt{0.9} c_6^\\dagger c_1^\\dagger c_3^\\dagger - \\sqrt{0.1}c_6^\\dagger c_2^\\dagger c_4^\\dagger)|0\\rangle\\\\\n",
    "= -\\frac{1}{2}(\\sqrt{0.9}  c_2^\\dagger c_5^\\dagger c_4^\\dagger  + \\sqrt{0.1}  c_1^\\dagger c_5^\\dagger c_3^\\dagger + \\sqrt{0.9}  c_1^\\dagger c_5^\\dagger c_4^\\dagger + \\sqrt{0.1}  c_2^\\dagger c_5^\\dagger c_3^\\dagger  +  \\sqrt{0.9}  c_2^\\dagger c_6^\\dagger c_3^\\dagger + \\sqrt{0.1}  c_1^\\dagger c_6^\\dagger c_4^\\dagger - \\sqrt{0.9}  c_1^\\dagger c_6^\\dagger c_3^\\dagger - \\sqrt{0.1} c_2^\\dagger c_6^\\dagger c_4^\\dagger)|0\\rangle\\\\\n",
    "= -\\frac{1}{2}[c_1^\\dagger(\\sqrt{0.1}   c_5^\\dagger c_3^\\dagger + \\sqrt{0.9}  c_5^\\dagger c_4^\\dagger + \\sqrt{0.1}   c_6^\\dagger c_4^\\dagger - \\sqrt{0.9}  c_6^\\dagger c_3^\\dagger) + c_2^\\dagger(\\sqrt{0.9} c_5^\\dagger c_4^\\dagger  +   \\sqrt{0.1}   c_5^\\dagger c_3^\\dagger  +  \\sqrt{0.9}   c_6^\\dagger c_3^\\dagger   - \\sqrt{0.1} c_6^\\dagger c_4^\\dagger)]|0\\rangle$\n",
    "\n",
    "> $|\\psi_5\\rangle = P_1 |\\psi_4\\rangle = N(\\sqrt{0.1}   c_5^\\dagger c_3^\\dagger + \\sqrt{0.9}  c_5^\\dagger c_4^\\dagger + \\sqrt{0.1}   c_6^\\dagger c_4^\\dagger - \\sqrt{0.9}  c_6^\\dagger c_3^\\dagger)|0\\rangle$\n",
    "\n",
    "con N la normalización. En realidad estoy midiendo la ocupación en los modos 1-2, no importa el resultado que me de. En cuaqluiera de los dos casos, el estado final de 3,4,5,6 tiene los mismos autovalores."
   ]
  },
  {
   "cell_type": "code",
   "execution_count": 40,
   "metadata": {},
   "outputs": [
    {
     "data": {
      "text/plain": [
       "64-element SparseArrays.SparseVector{Float64,Int64} with 4 stored entries:\n",
       "  [6 ]  =  0.158114\n",
       "  [7 ]  =  0.474342\n",
       "  [10]  =  0.474342\n",
       "  [11]  =  0.158114"
      ]
     },
     "execution_count": 40,
     "metadata": {},
     "output_type": "execute_result"
    }
   ],
   "source": [
    "psi5 = cm(o,1)*psi4"
   ]
  },
  {
   "cell_type": "code",
   "execution_count": 41,
   "metadata": {},
   "outputs": [
    {
     "data": {
      "text/plain": [
       "64-element SparseArrays.SparseVector{Float64,Int64} with 4 stored entries:\n",
       "  [6 ]  =  0.223607\n",
       "  [7 ]  =  0.67082\n",
       "  [10]  =  0.67082\n",
       "  [11]  =  0.223607"
      ]
     },
     "execution_count": 41,
     "metadata": {},
     "output_type": "execute_result"
    }
   ],
   "source": [
    "psi5 = psi5/sqrt(psi5'*psi5)"
   ]
  },
  {
   "cell_type": "code",
   "execution_count": 42,
   "metadata": {},
   "outputs": [],
   "source": [
    "final = State_sparse(psi5,o);"
   ]
  },
  {
   "cell_type": "code",
   "execution_count": 45,
   "metadata": {},
   "outputs": [
    {
     "name": "stdout",
     "output_type": "stream",
     "text": [
      "los autovalores son ahora [0.0, 0.0, 0.2, 0.2, 0.8, 0.8] y la entropía aumentó de 0.3126637290595208 a 0.4812853965915749"
     ]
    }
   ],
   "source": [
    "print(\"los autovalores son ahora \", eigensp(final), \" y la entropía aumentó de \",ssp(psi1_s), \" a \",ssp(final))"
   ]
  },
  {
   "cell_type": "markdown",
   "metadata": {},
   "source": [
    "Si proyectaba al modo 2, llegaba exactamente a los mismos autovalores."
   ]
  },
  {
   "cell_type": "code",
   "execution_count": 46,
   "metadata": {},
   "outputs": [
    {
     "data": {
      "text/plain": [
       "6-element Array{Float64,1}:\n",
       " 0.0\n",
       " 0.0\n",
       " 0.2\n",
       " 0.2\n",
       " 0.8\n",
       " 0.8"
      ]
     },
     "execution_count": 46,
     "metadata": {},
     "output_type": "execute_result"
    }
   ],
   "source": [
    "psi6 = cm(o,2)*psi4\n",
    "psi6 = psi6/sqrt(psi6'*psi6)\n",
    "final2 = State_sparse(psi6,o);\n",
    "eigensp(final2)"
   ]
  },
  {
   "cell_type": "markdown",
   "metadata": {},
   "source": [
    "# Nota: mejora en el protocolo\n",
    " Me dí cuenta despues de que puede mejorarse todavía más el entrelazamiento conseguido. Si cambio el control en el paso 4 para que controle el modo 6:"
   ]
  },
  {
   "cell_type": "code",
   "execution_count": 49,
   "metadata": {},
   "outputs": [
    {
     "name": "stdout",
     "output_type": "stream",
     "text": [
      "los autovalores son ahora [0.0, 0.0, 0.2, 0.5, 0.5, 0.8] y la entropía aumentó de 0.3126637290595208 a 0.5739760316291207"
     ]
    }
   ],
   "source": [
    "psi4_2 = ucnot(o, 6, 3)*ucnot(o, 5, 4)*psi3\n",
    "psi5_2 = cm(o,1)*psi4_2\n",
    "psi5_2 = psi5_2/sqrt(psi5_2'*psi5_2)\n",
    "final_2 = State_sparse(psi5_2,o)\n",
    "\n",
    "print(\"los autovalores son ahora \", eigensp(final_2), \" y la entropía aumentó de \",ssp(psi1_s), \" a \",ssp(final_2))"
   ]
  }
 ],
 "metadata": {
  "kernelspec": {
   "display_name": "Julia 1.4.0",
   "language": "julia",
   "name": "julia-1.4"
  },
  "language_info": {
   "file_extension": ".jl",
   "mimetype": "application/julia",
   "name": "julia",
   "version": "1.4.0"
  }
 },
 "nbformat": 4,
 "nbformat_minor": 4
}
