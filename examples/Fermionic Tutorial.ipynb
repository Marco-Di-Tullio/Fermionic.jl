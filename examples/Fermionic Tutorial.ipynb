{
 "cells": [
  {
   "cell_type": "code",
   "execution_count": 4,
   "metadata": {},
   "outputs": [],
   "source": [
    "using Fermionic"
   ]
  },
  {
   "cell_type": "markdown",
   "metadata": {},
   "source": [
    "# Operators\n",
    "\n",
    "We then create elements of the type Op, with dimension n. \n",
    "This structure contains the operators as methods, with its corresponding names. These are\n",
    "\n",
    "$c_i \\rightarrow cm(i)\\\\\n",
    "c_i^{\\dagger} \\rightarrow cmd(i)\\\\\n",
    "c_ic_j \\rightarrow cmcm(i,j)\\\\\n",
    "c_i^{\\dagger}c_j^\\dagger \\rightarrow cdcd(i,j)\\\\\n",
    "c_ic_j^\\dagger \\rightarrow cmcd(i,j)\\\\\n",
    "c_i^\\dagger c_j \\rightarrow cdcm(i)$\n",
    "\n",
    "One of the great advantages of defining these operators as types, is that it is possible to simultaneously define operators for different dimensions. This can be useful for a number of application, for example for comparing results in different dimensions without re-running the core program each time you switch dimension.\n",
    "\n",
    "In Object oriented programming, one would define a class Operator. Here, we are defining a type (like Int or Float) and method associated to that kind of type. The big advantage of doing this over defining classes, is that Julia uses **multiple dispatch**. What that means, is that a method can be defined for different input types, and Julia will run the correct method depending on all the input's types. Whereas in object oriented programming, programs select the method from the type of the first input only. This will be very useful for defining states, where we can work both with normal arrays and sparse arrays.\n",
    "\n",
    "You can do, for instance\n",
    "\n",
    "op4 = Op(4)\n",
    "\n",
    "op6 = Op(6)\n",
    "\n",
    "and op4 will be an element of the type ::Op, and will have all its methods defined for fermionic operators in dimension 4."
   ]
  },
  {
   "cell_type": "code",
   "execution_count": 8,
   "metadata": {},
   "outputs": [],
   "source": [
    "op4 = Op(4);"
   ]
  },
  {
   "cell_type": "markdown",
   "metadata": {},
   "source": [
    "All the operators can be represented by matrices. Lets first look at the basis"
   ]
  },
  {
   "cell_type": "code",
   "execution_count": 10,
   "metadata": {
    "scrolled": true
   },
   "outputs": [
    {
     "data": {
      "text/plain": [
       "16×4 SparseMatrixCSC{Float64,Int64} with 32 stored entries:\n",
       "  [9 , 1]  =  1.0\n",
       "  [10, 1]  =  1.0\n",
       "  [11, 1]  =  1.0\n",
       "  [12, 1]  =  1.0\n",
       "  [13, 1]  =  1.0\n",
       "  [14, 1]  =  1.0\n",
       "  [15, 1]  =  1.0\n",
       "  [16, 1]  =  1.0\n",
       "  [5 , 2]  =  1.0\n",
       "  [6 , 2]  =  1.0\n",
       "  [7 , 2]  =  1.0\n",
       "  [8 , 2]  =  1.0\n",
       "  ⋮\n",
       "  [8 , 3]  =  1.0\n",
       "  [11, 3]  =  1.0\n",
       "  [12, 3]  =  1.0\n",
       "  [15, 3]  =  1.0\n",
       "  [16, 3]  =  1.0\n",
       "  [2 , 4]  =  1.0\n",
       "  [4 , 4]  =  1.0\n",
       "  [6 , 4]  =  1.0\n",
       "  [8 , 4]  =  1.0\n",
       "  [10, 4]  =  1.0\n",
       "  [12, 4]  =  1.0\n",
       "  [14, 4]  =  1.0\n",
       "  [16, 4]  =  1.0"
      ]
     },
     "execution_count": 10,
     "metadata": {},
     "output_type": "execute_result"
    }
   ],
   "source": [
    "basis(op4)"
   ]
  },
  {
   "cell_type": "markdown",
   "metadata": {},
   "source": [
    "A sparse matrix is a way of representing a matrix in which one inidicates (row, col) = value. This is really handy for defining matrices with many zeros, as no unnecessary memory is used for storing empty elements. The drawback of the sparse representation is that it's hard to understand what is really doing. We can use the function Matrix() in order to convert a sparse matrix into a normal matrix. I recommend doing this only in order to see what is happening, not for doing operations. This is because both memory and time increase enourmusly when operations are done with full matrices instead of sparse."
   ]
  },
  {
   "cell_type": "code",
   "execution_count": 11,
   "metadata": {},
   "outputs": [
    {
     "data": {
      "text/plain": [
       "16×4 Array{Float64,2}:\n",
       " 0.0  0.0  0.0  0.0\n",
       " 0.0  0.0  0.0  1.0\n",
       " 0.0  0.0  1.0  0.0\n",
       " 0.0  0.0  1.0  1.0\n",
       " 0.0  1.0  0.0  0.0\n",
       " 0.0  1.0  0.0  1.0\n",
       " 0.0  1.0  1.0  0.0\n",
       " 0.0  1.0  1.0  1.0\n",
       " 1.0  0.0  0.0  0.0\n",
       " 1.0  0.0  0.0  1.0\n",
       " 1.0  0.0  1.0  0.0\n",
       " 1.0  0.0  1.0  1.0\n",
       " 1.0  1.0  0.0  0.0\n",
       " 1.0  1.0  0.0  1.0\n",
       " 1.0  1.0  1.0  0.0\n",
       " 1.0  1.0  1.0  1.0"
      ]
     },
     "execution_count": 11,
     "metadata": {},
     "output_type": "execute_result"
    }
   ],
   "source": [
    "Matrix(basis(op4))"
   ]
  },
  {
   "cell_type": "markdown",
   "metadata": {},
   "source": [
    "Ok, so now we can see that this basis is composed of 16 4-dimensional arrays, each representing a posible fermionic slater determinant in 4 dimensions. Each mode can be occupied by 1 or by 0 fermions (due to its antisimmetric nature). A general fermionic state will be a linear combination of these slater determinants.\n",
    "\n",
    "The first state is the vacuum. The second corresponds to "
   ]
  }
 ],
 "metadata": {
  "kernelspec": {
   "display_name": "Julia 1.4.0",
   "language": "julia",
   "name": "julia-1.4"
  },
  "language_info": {
   "file_extension": ".jl",
   "mimetype": "application/julia",
   "name": "julia",
   "version": "1.4.0"
  }
 },
 "nbformat": 4,
 "nbformat_minor": 4
}
