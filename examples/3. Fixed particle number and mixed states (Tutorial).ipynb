{
 "cells": [
  {
   "cell_type": "markdown",
   "metadata": {},
   "source": [
    "#  Fixed particle number and mixed states\n",
    "\n",
    "The main advantage of this package is the ability to work efficiently in the fixed particles subspace. In most situations, we are interested in fermionic states with a fixed number of particles. This could happen, for instance, when dealing with the eigenstates of the most common Hamiltonians. Given that situation, we can reduce the basis of our system by a lot. More exactly, if d is the dimension and n the number of particles, we can go from $2^d\\times 2^d$ to $\\binom{d}{n}\\times \\binom{d}{n}$ systems, which is an enormous speedup. This can be very useful for diagonalizing Hamiltonians, or many other situations. Working in the fixed particle subspace is one of the strenghts of this package.\n",
    "\n",
    "Another common situation is dealing with states with no fixed particle number. In this case, the best description is given by the $\\rho^{\\rm qsp}$:\n",
    "\n",
    "\n",
    "$\\begin{equation}\n",
    "\\rho^{\\rm qsp} = \n",
    "\\begin{pmatrix}\n",
    "\\rho^{\\rm sp} & \\kappa\\\\\n",
    "-\\kappa^* & I-\\rho^{\\rm sp}\n",
    "\\end{pmatrix}\n",
    "\\end{equation}$\n",
    "\n",
    "which has eigenvalues 0 or 1 iff the state is a quasiparticles vacuum. We will learn how to compute this matrix.\n",
    "\n",
    "Finally, we are going to cover a general mixed state, that is to say a convex combination of pure fermionic states. We will find the resulting one body matrix.\n",
    "\n",
    "1. [Operators with fixed number](#opfix)\n",
    "2. [States with fixed number](#statefix)\n",
    "3. [States with non fixed number](#nonfix)\n",
    "4. [Mixed states](#mixed)"
   ]
  },
  {
   "cell_type": "code",
   "execution_count": 1,
   "metadata": {
    "scrolled": true
   },
   "outputs": [],
   "source": [
    "using Fermionic"
   ]
  },
  {
   "cell_type": "markdown",
   "metadata": {},
   "source": [
    "<a id=\"opfix\"></a>\n",
    "## Operators with fixed number\n"
   ]
  },
  {
   "cell_type": "markdown",
   "metadata": {},
   "source": [
    "When working with fixed particle number, we are mainly interested in operators conserving the fermion number, i.e. $a_i^\\dagger a_j$, $a_i a_j^\\dagger$ and their products. We can access these operators in the following way:"
   ]
  },
  {
   "cell_type": "code",
   "execution_count": 2,
   "metadata": {},
   "outputs": [
    {
     "data": {
      "text/plain": [
       "6×6 SparseArrays.SparseMatrixCSC{Float64,Int64} with 2 stored entries:\n",
       "  [3, 1]  =  -1.0\n",
       "  [6, 4]  =  1.0"
      ]
     },
     "execution_count": 2,
     "metadata": {},
     "output_type": "execute_result"
    }
   ],
   "source": [
    "# d = dimension\n",
    "d = 4\n",
    "# n = number of fixed particles\n",
    "n = 2\n",
    "# i is the mode to be created\n",
    "i = 2\n",
    "# j is the mode to be destroyed\n",
    "j = 4\n",
    "# this is the c_i^dagger c_j operator\n",
    "ada(d,n,i,j)"
   ]
  },
  {
   "cell_type": "markdown",
   "metadata": {},
   "source": [
    "These operators live in the subspace with fixed particle number, which scales as $\\binom{d}{n}$ instead of the infamous $2^d$, with $d$ the dimension and $n$ the number of fixed particles. This basis can be explicitly obtained "
   ]
  },
  {
   "cell_type": "code",
   "execution_count": 3,
   "metadata": {},
   "outputs": [
    {
     "data": {
      "text/plain": [
       "6×4 Array{Float64,2}:\n",
       " 0.0  0.0  1.0  1.0\n",
       " 0.0  1.0  0.0  1.0\n",
       " 0.0  1.0  1.0  0.0\n",
       " 1.0  0.0  0.0  1.0\n",
       " 1.0  0.0  1.0  0.0\n",
       " 1.0  1.0  0.0  0.0"
      ]
     },
     "execution_count": 3,
     "metadata": {},
     "output_type": "execute_result"
    }
   ],
   "source": [
    "b, index = basis_m(d,n);\n",
    "Matrix(b)"
   ]
  },
  {
   "cell_type": "markdown",
   "metadata": {},
   "source": [
    "So the operator connects:"
   ]
  },
  {
   "cell_type": "markdown",
   "metadata": {},
   "source": [
    "The second output form basis_m(), which is called index, are the positions of each element from the basis b in the whole $2^n$ basis. It can be useful for mapping between basis."
   ]
  },
  {
   "cell_type": "code",
   "execution_count": 4,
   "metadata": {},
   "outputs": [
    {
     "name": "stdout",
     "output_type": "stream",
     "text": [
      "[0.0, 1.0, 1.0, 0.0]\n",
      "[0.0, 0.0, 1.0, 1.0]\n",
      "--------------------\n",
      "[1.0, 1.0, 0.0, 0.0]\n",
      "[1.0, 0.0, 0.0, 1.0]\n"
     ]
    }
   ],
   "source": [
    "println(Matrix(b)[3,:])\n",
    "println(Matrix(b)[1,:])\n",
    "println(\"--------------------\")\n",
    "println(Matrix(b)[6,:])\n",
    "println(Matrix(b)[4,:])"
   ]
  },
  {
   "cell_type": "markdown",
   "metadata": {},
   "source": [
    "You can also compute the complex conjugate aad().\n",
    "In its core, the funcion ada() computes the basis of this space. If we wish to compute a combination of these operators, we can directly input the basis to avoid innecesary definitions:"
   ]
  },
  {
   "cell_type": "code",
   "execution_count": 5,
   "metadata": {},
   "outputs": [
    {
     "data": {
      "text/plain": [
       "6×6 SparseArrays.SparseMatrixCSC{Float64,Int64} with 2 stored entries:\n",
       "  [3, 1]  =  -1.0\n",
       "  [6, 4]  =  1.0"
      ]
     },
     "execution_count": 5,
     "metadata": {},
     "output_type": "execute_result"
    }
   ],
   "source": [
    "b, index = basis_m(d,n);\n",
    "ada(b, index, i, j)"
   ]
  },
  {
   "cell_type": "code",
   "execution_count": 6,
   "metadata": {},
   "outputs": [
    {
     "data": {
      "text/plain": [
       "6×6 SparseArrays.SparseMatrixCSC{Float64,Int64} with 2 stored entries:\n",
       "  [3, 3]  =  1.0\n",
       "  [6, 6]  =  1.0"
      ]
     },
     "execution_count": 6,
     "metadata": {},
     "output_type": "execute_result"
    }
   ],
   "source": [
    "ada(b, index, i, j)*aad(b, index, i, j)"
   ]
  },
  {
   "cell_type": "markdown",
   "metadata": {},
   "source": [
    "#### Op_fixed()"
   ]
  },
  {
   "cell_type": "markdown",
   "metadata": {},
   "source": [
    "As we did with the operators, it is possible to initialize all the possible one body operators through the type Op_fixed.\n",
    "This is useful when working with Hamiltonians which iterate many times over the same operators (think of two body operators summing over all modes). In order to initalize these operators, we input the dimension and the number of particles."
   ]
  },
  {
   "cell_type": "code",
   "execution_count": 7,
   "metadata": {},
   "outputs": [],
   "source": [
    "o = Op_fixed(d,n);"
   ]
  },
  {
   "cell_type": "markdown",
   "metadata": {},
   "source": [
    "We can then acces the one body operators as follows:"
   ]
  },
  {
   "cell_type": "code",
   "execution_count": 8,
   "metadata": {},
   "outputs": [
    {
     "data": {
      "text/plain": [
       "6×6 SparseArrays.SparseMatrixCSC{Float64,Int64} with 2 stored entries:\n",
       "  [3, 1]  =  -1.0\n",
       "  [6, 4]  =  1.0"
      ]
     },
     "execution_count": 8,
     "metadata": {},
     "output_type": "execute_result"
    }
   ],
   "source": [
    "ada(o, i, j)"
   ]
  },
  {
   "cell_type": "markdown",
   "metadata": {},
   "source": [
    "We also gain access to several methods, as we did with Op objects. Thw whole list can be found in the index."
   ]
  },
  {
   "cell_type": "markdown",
   "metadata": {},
   "source": [
    "#### Creation and destuction operators in fixed space"
   ]
  },
  {
   "cell_type": "markdown",
   "metadata": {},
   "source": [
    "Even though we are working in the fixed particle subspace, we can define operators $a$ and $a^\\dagger$ which takes a fermionic state in the subspace with $N$ particles to the corresponding state with $N-1$ or $N+1$ particles respectivelly. \n",
    "\n",
    "In order to do so, we define a(d,n,i) and ad(d,n,i) with d the dimension, n the number of fixed particles and i the mode. If the creation operator is applied outside the original subspace, we add an ancilla in the chosen mode."
   ]
  },
  {
   "cell_type": "code",
   "execution_count": 9,
   "metadata": {},
   "outputs": [
    {
     "data": {
      "text/plain": [
       "4×6 SparseArrays.SparseMatrixCSC{Float64,Int64} with 3 stored entries:\n",
       "  [2, 1]  =  1.0\n",
       "  [3, 2]  =  1.0\n",
       "  [4, 3]  =  1.0"
      ]
     },
     "execution_count": 9,
     "metadata": {},
     "output_type": "execute_result"
    }
   ],
   "source": [
    "ad(4,2,1)"
   ]
  },
  {
   "cell_type": "markdown",
   "metadata": {},
   "source": [
    "Naturally, we can apply this operator to a state in the fixed space"
   ]
  },
  {
   "cell_type": "code",
   "execution_count": 10,
   "metadata": {},
   "outputs": [
    {
     "name": "stdout",
     "output_type": "stream",
     "text": [
      "State in fixed basis [0, 0, 0, 0, 0, 1]\n",
      "Which corresponds to [1.0, 1.0, 0.0, 0.0]\n",
      "If we apply the creation operator we get [0.0, 0.0, 1.0, 0.0]\n",
      "which corresponds to [1.0, 1.0, 0.0, 1.0]\n",
      "If we apply the creation on an outside mode, we add an ancilla [0.0, 0.0, 0.0, 0.0, 0.0, 0.0, 0.0, 1.0, 0.0, 0.0]\n",
      "which corresponds to [1.0, 1.0, 0.0, 0.0, 1.0]\n"
     ]
    }
   ],
   "source": [
    "s=st(fixed_state(State([0,0,0,0,0,0,0,0,0,0,0,0,1,0,0,0],Op(4)),2))\n",
    "println(\"State in fixed basis \",s)\n",
    "b,_=basis_m(4,2)\n",
    "println(\"Which corresponds to \", Array(b[6,:]))\n",
    "println(\"If we apply the creation operator we get \", ad(4,2,4)*s)\n",
    "b2,_=basis_m(4,3)\n",
    "println(\"which corresponds to \", Array(b2[3,:]))\n",
    "println(\"If we apply the creation on an outside mode, we add an ancilla \", ad(4,2,5)*s)\n",
    "b3,_=basis_m(5,3)\n",
    "println(\"which corresponds to \", Array(b3[8,:]))"
   ]
  },
  {
   "cell_type": "markdown",
   "metadata": {},
   "source": [
    "It is important to remark that succesive applications have to take into account the change in the number of starting particles:"
   ]
  },
  {
   "cell_type": "code",
   "execution_count": 11,
   "metadata": {},
   "outputs": [
    {
     "name": "stdout",
     "output_type": "stream",
     "text": [
      "[0.0, 0.0, 0.0, 1.0, 0.0, 0.0]\n",
      "Which is [1.0, 0.0, 0.0, 1.0]\n"
     ]
    }
   ],
   "source": [
    "println(ad(4,1,4)*a(4,2,2)*s)\n",
    "b4,_=basis_m(4,2);Matrix(b)\n",
    "println(\"Which is \", Array(b4[4,:]))"
   ]
  },
  {
   "cell_type": "code",
   "execution_count": 12,
   "metadata": {},
   "outputs": [
    {
     "data": {
      "text/plain": [
       "true"
      ]
     },
     "execution_count": 12,
     "metadata": {},
     "output_type": "execute_result"
    }
   ],
   "source": [
    "ada(4,2,2,4) == ad(4,1,2)*a(4,2,4)"
   ]
  },
  {
   "cell_type": "markdown",
   "metadata": {},
   "source": [
    "This can be simplified if we input an array of modes to the operators"
   ]
  },
  {
   "cell_type": "code",
   "execution_count": 13,
   "metadata": {},
   "outputs": [
    {
     "data": {
      "text/plain": [
       "15×15 SparseArrays.SparseMatrixCSC{Float64,Int64} with 6 stored entries:\n",
       "  [10, 1]  =  1.0\n",
       "  [11, 2]  =  1.0\n",
       "  [12, 3]  =  1.0\n",
       "  [13, 4]  =  1.0\n",
       "  [14, 5]  =  1.0\n",
       "  [15, 6]  =  1.0"
      ]
     },
     "execution_count": 13,
     "metadata": {},
     "output_type": "execute_result"
    }
   ],
   "source": [
    "ad(6,2,[2,1])"
   ]
  },
  {
   "cell_type": "code",
   "execution_count": 14,
   "metadata": {},
   "outputs": [
    {
     "data": {
      "text/plain": [
       "true"
      ]
     },
     "execution_count": 14,
     "metadata": {},
     "output_type": "execute_result"
    }
   ],
   "source": [
    "ad(6,2,[2,1]) == ad(6,3,1)*ad(6,2,2)"
   ]
  },
  {
   "cell_type": "markdown",
   "metadata": {},
   "source": [
    "#### Op_semifixed()"
   ]
  },
  {
   "cell_type": "markdown",
   "metadata": {},
   "source": [
    "We can  initialize all creation and destruction operators by inputing only the dimension with Op_semifixed()"
   ]
  },
  {
   "cell_type": "code",
   "execution_count": 15,
   "metadata": {},
   "outputs": [],
   "source": [
    "o = Op_semifixed(6);"
   ]
  },
  {
   "cell_type": "markdown",
   "metadata": {},
   "source": [
    "We then acces the creation and destruction operators as ad(o,n,i) with n the number of fixed particles and i the mode."
   ]
  },
  {
   "cell_type": "code",
   "execution_count": 16,
   "metadata": {},
   "outputs": [
    {
     "data": {
      "text/plain": [
       "20×15 SparseArrays.SparseMatrixCSC{Float64,Int64} with 10 stored entries:\n",
       "  [11,  1]  =  1.0\n",
       "  [12,  2]  =  1.0\n",
       "  [13,  3]  =  1.0\n",
       "  [14,  4]  =  1.0\n",
       "  [15,  5]  =  1.0\n",
       "  [16,  6]  =  1.0\n",
       "  [17,  7]  =  1.0\n",
       "  [18,  8]  =  1.0\n",
       "  [19,  9]  =  1.0\n",
       "  [20, 10]  =  1.0"
      ]
     },
     "execution_count": 16,
     "metadata": {},
     "output_type": "execute_result"
    }
   ],
   "source": [
    "ad(o,2,1)"
   ]
  },
  {
   "cell_type": "code",
   "execution_count": 17,
   "metadata": {},
   "outputs": [
    {
     "data": {
      "text/plain": [
       "true"
      ]
     },
     "execution_count": 17,
     "metadata": {},
     "output_type": "execute_result"
    }
   ],
   "source": [
    "ad(o,2,1) == ad(6,2,1)"
   ]
  },
  {
   "cell_type": "markdown",
   "metadata": {},
   "source": [
    "We can of course make succesives applications by inputing a list of modes instead of a single mode."
   ]
  },
  {
   "cell_type": "markdown",
   "metadata": {},
   "source": [
    "### Alternative path\n",
    "If we have been working in the whole space, but wish to look at the reduced subspace, we will use a function called *fixed()* which takes 2 arguments: the operator we want to reduce and the number of particles we want to fix to. For operators that preserve particle number, this will result in the elimination of empty rows and colums, allowing us to do matrix operations in smaller dimensions.\n"
   ]
  },
  {
   "cell_type": "code",
   "execution_count": 18,
   "metadata": {
    "scrolled": true
   },
   "outputs": [
    {
     "data": {
      "text/plain": [
       "16×16 SparseArrays.SparseMatrixCSC{Float64,Int64} with 4 stored entries:\n",
       "  [9 , 5]  =  1.0\n",
       "  [10, 6]  =  1.0\n",
       "  [11, 7]  =  1.0\n",
       "  [12, 8]  =  1.0"
      ]
     },
     "execution_count": 18,
     "metadata": {},
     "output_type": "execute_result"
    }
   ],
   "source": [
    "o = Op(4)\n",
    "ada(o,1,2) "
   ]
  },
  {
   "cell_type": "markdown",
   "metadata": {},
   "source": [
    "Notice we are using a number-preserving operation. We will now fix this operation for 2 particles states."
   ]
  },
  {
   "cell_type": "code",
   "execution_count": 19,
   "metadata": {
    "scrolled": true
   },
   "outputs": [
    {
     "data": {
      "text/plain": [
       "6×6 SparseArrays.SparseMatrixCSC{Float64,Int64} with 2 stored entries:\n",
       "  [4, 2]  =  1.0\n",
       "  [5, 3]  =  1.0"
      ]
     },
     "execution_count": 19,
     "metadata": {},
     "output_type": "execute_result"
    }
   ],
   "source": [
    "fixed(ada(o,1,2), 2) "
   ]
  },
  {
   "cell_type": "markdown",
   "metadata": {},
   "source": [
    "Which is the same as computing directly in the fixed space:"
   ]
  },
  {
   "cell_type": "code",
   "execution_count": 20,
   "metadata": {},
   "outputs": [
    {
     "data": {
      "text/plain": [
       "6×6 SparseArrays.SparseMatrixCSC{Float64,Int64} with 2 stored entries:\n",
       "  [4, 2]  =  1.0\n",
       "  [5, 3]  =  1.0"
      ]
     },
     "execution_count": 20,
     "metadata": {},
     "output_type": "execute_result"
    }
   ],
   "source": [
    "ada(4,2,1,2)"
   ]
  },
  {
   "cell_type": "markdown",
   "metadata": {},
   "source": [
    "Notice the dimension has dropped from 16x16 to 6x6 (in general, from $2^d\\times 2^d$ to $\\binom{d}{n}\\times \\binom{d}{n}$). This new state is written in a new reduced basis. We can always access the new basis, with fixed number parity with the function *basis_m()* which also takes two arguments: the operators Op() and the number of particles."
   ]
  },
  {
   "cell_type": "code",
   "execution_count": 21,
   "metadata": {
    "scrolled": true
   },
   "outputs": [
    {
     "data": {
      "text/plain": [
       "6×4 Array{Float64,2}:\n",
       " 0.0  0.0  1.0  1.0\n",
       " 0.0  1.0  0.0  1.0\n",
       " 0.0  1.0  1.0  0.0\n",
       " 1.0  0.0  0.0  1.0\n",
       " 1.0  0.0  1.0  0.0\n",
       " 1.0  1.0  0.0  0.0"
      ]
     },
     "execution_count": 21,
     "metadata": {},
     "output_type": "execute_result"
    }
   ],
   "source": [
    "b, _ = basis_m(4,2);\n",
    "Matrix(b)"
   ]
  },
  {
   "cell_type": "markdown",
   "metadata": {},
   "source": [
    "So the operator $a_1^\\dagger a_2$ connects these two states"
   ]
  },
  {
   "cell_type": "code",
   "execution_count": 22,
   "metadata": {
    "scrolled": true
   },
   "outputs": [
    {
     "name": "stdout",
     "output_type": "stream",
     "text": [
      "[1.0, 0.0, 0.0, 1.0]\n",
      "[0.0, 1.0, 0.0, 1.0]\n",
      "--------------------\n",
      "[1.0, 0.0, 1.0, 0.0]\n",
      "[0.0, 1.0, 1.0, 0.0]\n"
     ]
    }
   ],
   "source": [
    "println(Matrix(b)[4,:])\n",
    "println(Matrix(b)[2,:])\n",
    "println(\"--------------------\")\n",
    "println(Matrix(b)[5,:])\n",
    "println(Matrix(b)[3,:])"
   ]
  },
  {
   "cell_type": "markdown",
   "metadata": {},
   "source": [
    "We can do this for every operator, but it only really makes sense for those that are number preseving.\n",
    "Some really nice examples are the superconducting and the Lipkin hamiltonians, which are also solved in the /examples folder."
   ]
  },
  {
   "cell_type": "markdown",
   "metadata": {},
   "source": [
    "<a id=\"statefix\"></a>\n",
    "## States with fixed number\n",
    "\n",
    "We already shown how to work with states in order to access some properties, such as the one body matrix and its corresponding entropy. If we are working with fixed number, we can do the same thing. There is a new type now called **State_fixed**.\n",
    "\n",
    "-  **State_fixed(s::AbstractVector, o::Op_fixed, n::Int64)**: initializes a state from a vector **s** (for example an Array{Float64,1}/Array{Complex{Float64},1} or a SparseVector{Float64,Int64}/SparseVector{Complex{Float64},Int64}) with fixed particle number **n**, using the fermionic operators defined by **o**. Once initizialized, functions below are made avaiable. \n",
    "\n",
    "These states are written in the basis we obtained with basis_m() and should be normalized for proper results. The arguments for these types are the array/sparse array, the operators and the number of fixed particles.\n",
    "\n",
    "It is really important that the length matches the length from basis_m(). You can create the state manually as a vector, or use the function *fixed_state()* on a state obtained in the complete basis (for example if you obtained the state through the application of creation operators over the vacuum).\n"
   ]
  },
  {
   "cell_type": "code",
   "execution_count": 23,
   "metadata": {
    "scrolled": true
   },
   "outputs": [
    {
     "data": {
      "text/plain": [
       "6-element Array{Float64,1}:\n",
       " 0.7071067811865475\n",
       " 0.0\n",
       " 0.0\n",
       " 0.0\n",
       " 0.0\n",
       " 0.7071067811865475"
      ]
     },
     "execution_count": 23,
     "metadata": {},
     "output_type": "execute_result"
    }
   ],
   "source": [
    "#If we manually create the vector:\n",
    "stat = zeros(binomial(4,2));  \n",
    "stat[1] = 1;\n",
    "stat[6] = 1;\n",
    "stat = stat/sqrt(stat'*stat)"
   ]
  },
  {
   "cell_type": "code",
   "execution_count": 24,
   "metadata": {
    "scrolled": true
   },
   "outputs": [
    {
     "data": {
      "text/plain": [
       "4×4 SparseArrays.SparseMatrixCSC{Float64,Int64} with 4 stored entries:\n",
       "  [1, 1]  =  0.5\n",
       "  [2, 2]  =  0.5\n",
       "  [3, 3]  =  0.5\n",
       "  [4, 4]  =  0.5"
      ]
     },
     "execution_count": 24,
     "metadata": {},
     "output_type": "execute_result"
    }
   ],
   "source": [
    "o = Op_fixed(4,2)\n",
    "state = State_fixed(stat,o);\n",
    "rhosp(state)"
   ]
  },
  {
   "cell_type": "code",
   "execution_count": 25,
   "metadata": {
    "scrolled": true
   },
   "outputs": [
    {
     "data": {
      "text/plain": [
       "4-element Array{Float64,1}:\n",
       " 0.5\n",
       " 0.5\n",
       " 0.5\n",
       " 0.5"
      ]
     },
     "execution_count": 25,
     "metadata": {},
     "output_type": "execute_result"
    }
   ],
   "source": [
    "eigensp(state)"
   ]
  },
  {
   "cell_type": "code",
   "execution_count": 26,
   "metadata": {
    "scrolled": true
   },
   "outputs": [
    {
     "data": {
      "text/plain": [
       "1.0"
      ]
     },
     "execution_count": 26,
     "metadata": {},
     "output_type": "execute_result"
    }
   ],
   "source": [
    "ssp(state)"
   ]
  },
  {
   "cell_type": "markdown",
   "metadata": {},
   "source": [
    "Lets project a vector in the fulled basis to the reduced basis (with fixed particle number) using fixed_state()"
   ]
  },
  {
   "cell_type": "code",
   "execution_count": 27,
   "metadata": {
    "scrolled": true
   },
   "outputs": [
    {
     "data": {
      "text/plain": [
       "16-element SparseArrays.SparseVector{Float64,Int64} with 2 stored entries:\n",
       "  [4 ]  =  0.707107\n",
       "  [13]  =  0.707107"
      ]
     },
     "execution_count": 27,
     "metadata": {},
     "output_type": "execute_result"
    }
   ],
   "source": [
    "using Fermionic\n",
    "o = Op(4)\n",
    "s = (ad(o,1)*ad(o,2) + ad(o,3)*ad(o,4))*vacuum(o);\n",
    "s = s/sqrt(s'*s)"
   ]
  },
  {
   "cell_type": "code",
   "execution_count": 28,
   "metadata": {},
   "outputs": [
    {
     "data": {
      "text/plain": [
       "6-element SparseArrays.SparseVector{Float64,Int64} with 2 stored entries:\n",
       "  [1]  =  0.707107\n",
       "  [6]  =  0.707107"
      ]
     },
     "execution_count": 28,
     "metadata": {},
     "output_type": "execute_result"
    }
   ],
   "source": [
    "sf = fixed_state(s, 2) #second argument is the number of particles we want to fix"
   ]
  },
  {
   "cell_type": "code",
   "execution_count": 29,
   "metadata": {},
   "outputs": [
    {
     "data": {
      "text/plain": [
       "4×4 SparseArrays.SparseMatrixCSC{Float64,Int64} with 4 stored entries:\n",
       "  [1, 1]  =  0.5\n",
       "  [2, 2]  =  0.5\n",
       "  [3, 3]  =  0.5\n",
       "  [4, 4]  =  0.5"
      ]
     },
     "execution_count": 29,
     "metadata": {},
     "output_type": "execute_result"
    }
   ],
   "source": [
    "of = Op_fixed(4,2)\n",
    "\n",
    "state = State_fixed(sf,of);\n",
    "rhosp(state)"
   ]
  },
  {
   "cell_type": "markdown",
   "metadata": {},
   "source": [
    "We can do the  same for already defined State and output the corresponding State_fixed"
   ]
  },
  {
   "cell_type": "code",
   "execution_count": 30,
   "metadata": {},
   "outputs": [
    {
     "data": {
      "text/plain": [
       "State_fixed{SparseArrays.SparseVector{Float64,Int64}}"
      ]
     },
     "execution_count": 30,
     "metadata": {},
     "output_type": "execute_result"
    }
   ],
   "source": [
    "o = Op(4)\n",
    "s = (ad(o,1)*ad(o,2) + ad(o,3)*ad(o,4))*vacuum(o);\n",
    "s = s/sqrt(s'*s)\n",
    "s = State(s,o);\n",
    "\n",
    "sf = fixed_state(s, 2) #second argument is the number of particles we want to fix\n",
    "typeof(sf)"
   ]
  },
  {
   "cell_type": "markdown",
   "metadata": {},
   "source": [
    "We can also do the opposite operation, for going from the fixed to the unfixed basis. In order to do that, we use unfixed_state(). It works both for vectors, inputing unfixed_state(s::AbstractVector, n::Int64, num::Int64) with n the dimension and num the number of particles, and for State_fixed, by just inputing the state unfixed_state(s::State_fixed)."
   ]
  },
  {
   "cell_type": "code",
   "execution_count": 31,
   "metadata": {},
   "outputs": [
    {
     "data": {
      "text/plain": [
       "true"
      ]
     },
     "execution_count": 31,
     "metadata": {},
     "output_type": "execute_result"
    }
   ],
   "source": [
    "o = Op(4)\n",
    "s = (ad(o,1)*ad(o,2) + ad(o,3)*ad(o,4))*vacuum(o);\n",
    "s = s/sqrt(s'*s)\n",
    "s = State(s,o);\n",
    "\n",
    "sf = fixed_state(s, 2) #second argument is the number of particles we want to fix\n",
    "suf = unfixed_state(sf)\n",
    "typeof(suf)\n",
    "st(suf) == st(s)"
   ]
  },
  {
   "cell_type": "markdown",
   "metadata": {},
   "source": [
    "<a id=\"nonfix\"></a>\n",
    "\n",
    "## Non fixed particle number\n",
    "\n",
    "A general fermionic state has fixed parity but no fixed number. The former formalism can also be used for working with this type of states. We have also defined the $\\rho^{\\rm qsp}$, which is the matrix defined as followes\n",
    "\n",
    "$\\begin{equation}\n",
    "\\rho^{\\rm qsp} = \n",
    "\\begin{pmatrix}\n",
    "\\rho^{\\rm sp} & \\kappa\\\\\n",
    "-\\kappa^* & I-\\rho^{\\rm sp}\n",
    "\\end{pmatrix}\n",
    "\\end{equation}$\n",
    "\n",
    "where $\\kappa_{ij} = \\langle a_j a_i\\rangle$ and $-\\kappa_{ij}^* = \\langle a_j^\\dagger a_i^\\dagger\\rangle$ compose an antisymmetric matrices. The matrix $\\rho^{\\rm qsp}$ can be diagonalized with Bogoliubov transformations. It is of course invisible to particle-hole transformations. "
   ]
  },
  {
   "cell_type": "code",
   "execution_count": 32,
   "metadata": {},
   "outputs": [],
   "source": [
    "op4 = Op(4)\n",
    "ad1 = ad(op4,1)\n",
    "ad2 = ad(op4,2)\n",
    "ad3 = ad(op4,3)\n",
    "ad4 = ad(op4,4)\n",
    "vac = vacuum(op4);"
   ]
  },
  {
   "cell_type": "code",
   "execution_count": 33,
   "metadata": {},
   "outputs": [],
   "source": [
    "#initialize a state with no fixed fermionic number and real coefficients\n",
    "state_qsp1 = (ad1*ad2+ad3*ad4+ad1*ad2*ad3*ad4)*vac + vac\n",
    "state_qsp1 = state_qsp1/sqrt(state_qsp1'*state_qsp1)\n",
    "state_qsp1 = State(state_qsp1, op4);"
   ]
  },
  {
   "cell_type": "code",
   "execution_count": 34,
   "metadata": {},
   "outputs": [
    {
     "data": {
      "text/plain": [
       "8×8 Array{Float64,2}:\n",
       " 0.5   0.0  0.0   0.0   0.0  0.5   0.0  0.0\n",
       " 0.0   0.5  0.0   0.0  -0.5  0.0   0.0  0.0\n",
       " 0.0   0.0  0.5   0.0   0.0  0.0   0.0  0.5\n",
       " 0.0   0.0  0.0   0.5   0.0  0.0  -0.5  0.0\n",
       " 0.0  -0.5  0.0   0.0   0.5  0.0   0.0  0.0\n",
       " 0.5   0.0  0.0   0.0   0.0  0.5   0.0  0.0\n",
       " 0.0   0.0  0.0  -0.5   0.0  0.0   0.5  0.0\n",
       " 0.0   0.0  0.5   0.0   0.0  0.0   0.0  0.5"
      ]
     },
     "execution_count": 34,
     "metadata": {},
     "output_type": "execute_result"
    }
   ],
   "source": [
    "Matrix(rhoqsp(state_qsp1))"
   ]
  },
  {
   "cell_type": "code",
   "execution_count": 35,
   "metadata": {},
   "outputs": [],
   "source": [
    "#initialize a state with no fixed fermionic number and complex coefficients\n",
    "state_qsp2 = (ad1*ad2+im*ad1*ad4+ad1*ad2*ad3*ad4)*vac\n",
    "state_qsp2 = state_qsp2/sqrt(state_qsp2'*state_qsp2)\n",
    "state_qsp2 = State(state_qsp2, op4);"
   ]
  },
  {
   "cell_type": "code",
   "execution_count": 36,
   "metadata": {},
   "outputs": [
    {
     "data": {
      "text/plain": [
       "8×8 Array{Complex{Float64},2}:\n",
       " 1.0+0.0im       0.0+0.0im            0.0+0.0im       …       0.0+0.0im\n",
       " 0.0+0.0im  0.666667+0.0im            0.0+0.0im               0.0+0.0im\n",
       " 0.0+0.0im       0.0+0.0im       0.333333+0.0im          0.333333+0.0im\n",
       " 0.0+0.0im       0.0-0.333333im       0.0+0.0im               0.0+0.0im\n",
       " 0.0+0.0im       0.0+0.0im            0.0+0.0im               0.0+0.0im\n",
       " 0.0+0.0im       0.0+0.0im            0.0-0.333333im  …      -0.0-0.333333im\n",
       " 0.0+0.0im       0.0+0.333333im       0.0+0.0im               0.0+0.0im\n",
       " 0.0+0.0im       0.0+0.0im       0.333333-0.0im          0.333333+0.0im"
      ]
     },
     "execution_count": 36,
     "metadata": {},
     "output_type": "execute_result"
    }
   ],
   "source": [
    "Matrix(rhoqsp(state_qsp2))"
   ]
  },
  {
   "cell_type": "markdown",
   "metadata": {},
   "source": [
    "It is Hermitian"
   ]
  },
  {
   "cell_type": "code",
   "execution_count": 37,
   "metadata": {},
   "outputs": [
    {
     "data": {
      "text/plain": [
       "true"
      ]
     },
     "execution_count": 37,
     "metadata": {},
     "output_type": "execute_result"
    }
   ],
   "source": [
    "Matrix(rhoqsp(state_qsp1))' == Matrix(rhoqsp(state_qsp1))"
   ]
  },
  {
   "cell_type": "markdown",
   "metadata": {},
   "source": [
    "We can also check the average number of particles:"
   ]
  },
  {
   "cell_type": "code",
   "execution_count": 38,
   "metadata": {},
   "outputs": [
    {
     "data": {
      "text/plain": [
       "2.666666666666667"
      ]
     },
     "execution_count": 38,
     "metadata": {},
     "output_type": "execute_result"
    }
   ],
   "source": [
    "n_avg(state_qsp2)"
   ]
  },
  {
   "cell_type": "markdown",
   "metadata": {},
   "source": [
    "<a id=\"mixed\"></a>\n",
    "\n",
    "## Mixed States\n",
    "\n",
    "So far, we have only worked with pure states. Nontheless, the most general state is a convex combination of pure states. The one body matrix of a mixed state will be obtained by combining the one body matrices of the pure states involved in the decomposition like so:\n",
    "\n",
    "$\\rho^{\\rm sp} = \\sum_i p_i \\rho_i^{\\rm sp}$\n",
    "\n",
    "We can build this matrix by calling rhosp_mixed(). The argument are two vectors of the same length, the first one containing the probabilities and the second the respective pure states."
   ]
  },
  {
   "cell_type": "code",
   "execution_count": 39,
   "metadata": {},
   "outputs": [
    {
     "data": {
      "text/plain": [
       "2-element Array{Float64,1}:\n",
       " 0.25\n",
       " 0.75"
      ]
     },
     "execution_count": 39,
     "metadata": {},
     "output_type": "execute_result"
    }
   ],
   "source": [
    "p1 = 0.25\n",
    "p2 = 0.75\n",
    "p = [p1, p2]"
   ]
  },
  {
   "cell_type": "code",
   "execution_count": 40,
   "metadata": {},
   "outputs": [
    {
     "data": {
      "text/plain": [
       "4×4 Array{Complex{Float64},2}:\n",
       " 0.625+0.0im    0.0+0.0im    0.0+0.0im    0.0+0.0im\n",
       "   0.0+0.0im  0.625+0.0im    0.0+0.0im    0.0+0.0im\n",
       "   0.0+0.0im    0.0+0.0im  0.375+0.0im    0.0+0.0im\n",
       "   0.0+0.0im    0.0+0.0im    0.0+0.0im  0.375+0.0im"
      ]
     },
     "execution_count": 40,
     "metadata": {},
     "output_type": "execute_result"
    }
   ],
   "source": [
    "using Fermionic\n",
    "\n",
    "o = Op(4);\n",
    "\n",
    "state1 = ad(o,2)*ad(o,1)*vacuum(o);\n",
    "state1 = state1/sqrt(state1'*state1)\n",
    "state2 = (ad(o,3)*ad(o,4)-im*ad(o,1)*ad(o,2))*vacuum(o);\n",
    "state2 = state2/sqrt(state2'*state2);\n",
    "\n",
    "s1 = State(state1,o); \n",
    "s2 = State(state2,o);\n",
    "\n",
    "s = [s1, s2];\n",
    "\n",
    "Matrix(rhosp_mixed(p, s))"
   ]
  },
  {
   "cell_type": "code",
   "execution_count": 41,
   "metadata": {},
   "outputs": [
    {
     "data": {
      "text/plain": [
       "4-element Array{Float64,1}:\n",
       " 0.625\n",
       " 0.625\n",
       " 0.375\n",
       " 0.375"
      ]
     },
     "execution_count": 41,
     "metadata": {},
     "output_type": "execute_result"
    }
   ],
   "source": [
    "eigensp_mixed(p,s)"
   ]
  },
  {
   "cell_type": "markdown",
   "metadata": {},
   "source": [
    "We can also fix the number, as we just learned"
   ]
  },
  {
   "cell_type": "code",
   "execution_count": 42,
   "metadata": {
    "scrolled": true
   },
   "outputs": [
    {
     "data": {
      "text/plain": [
       "4×4 Array{Complex{Float64},2}:\n",
       " 0.625+0.0im    0.0+0.0im    0.0+0.0im    0.0+0.0im\n",
       "   0.0+0.0im  0.625+0.0im    0.0+0.0im    0.0+0.0im\n",
       "   0.0+0.0im    0.0+0.0im  0.375+0.0im    0.0+0.0im\n",
       "   0.0+0.0im    0.0+0.0im    0.0+0.0im  0.375+0.0im"
      ]
     },
     "execution_count": 42,
     "metadata": {},
     "output_type": "execute_result"
    }
   ],
   "source": [
    "using Fermionic\n",
    "\n",
    "o = Op(4)\n",
    "nume = 2\n",
    "of = Op_fixed(4,2)\n",
    "\n",
    "p1 = 0.25\n",
    "p2 = 0.75\n",
    "p = [p1, p2]\n",
    "\n",
    "state1 = ad(o,2)*ad(o,1)*vacuum(o);\n",
    "state1 = state1/sqrt(state1'*state1)\n",
    "state2 = (ad(o,3)*ad(o,4)-im*ad(o,1)*ad(o,2))*vacuum(o);\n",
    "state2 = state2/sqrt(state2'*state2);\n",
    "\n",
    "s1 = fixed_state(state1, nume);\n",
    "s2 = fixed_state(state2, nume);\n",
    "\n",
    "s1f = State_fixed(s1, of); #Both states must be the same type!\n",
    "s2f = State_fixed(s2, of);\n",
    "\n",
    "s = [s1f, s2f];\n",
    "\n",
    "Matrix(rhosp_mixed(p, s))"
   ]
  },
  {
   "cell_type": "code",
   "execution_count": 43,
   "metadata": {},
   "outputs": [
    {
     "data": {
      "text/plain": [
       "4-element Array{Float64,1}:\n",
       " 0.625\n",
       " 0.625\n",
       " 0.375\n",
       " 0.375"
      ]
     },
     "execution_count": 43,
     "metadata": {},
     "output_type": "execute_result"
    }
   ],
   "source": [
    "eigensp_mixed(p,s)"
   ]
  }
 ],
 "metadata": {
  "kernelspec": {
   "display_name": "Julia 1.4.1",
   "language": "julia",
   "name": "julia-1.4"
  },
  "language_info": {
   "file_extension": ".jl",
   "mimetype": "application/julia",
   "name": "julia",
   "version": "1.4.1"
  }
 },
 "nbformat": 4,
 "nbformat_minor": 4
}
