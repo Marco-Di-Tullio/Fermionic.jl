{
 "cells": [
  {
   "cell_type": "markdown",
   "metadata": {},
   "source": [
    "# Symbolic results \n",
    "\n",
    "It is also of interest to work with non-defined variables in order to look for analytical results. This can be done integrating the Fermionic package together with SymPy via PyCall. There are also packages for defining symbolic fermionic operators. In this notebook we will see how exactly does this work.\n",
    "\n",
    "1. [Symbolic interaction](#symbol)\n",
    "2. [Symbolic operators](#sops)\n"
   ]
  },
  {
   "cell_type": "markdown",
   "metadata": {},
   "source": [
    "<a id=\"symbol\"></a>\n",
    "## Symbolic Algebra\n",
    "\n",
    "In this section we will learn to interact with the symbolic tools defined in [SymPy](https://github.com/JuliaPy/SymPy.jl). This library works perfectly within Julia via PyCall. I will show you how:\n",
    "\n",
    "First of all, if you have not done ir yet, you should install Conda:\n",
    "\n",
    "`using Pkg\n",
    "Pkg.add(\"Conda\") \n",
    "using Conda\n",
    "Conda.update()\n",
    "Pkg.add(\"PyCall\")`\n",
    "\n",
    "We then call PyCall"
   ]
  },
  {
   "cell_type": "code",
   "execution_count": 1,
   "metadata": {},
   "outputs": [],
   "source": [
    "using PyCall\n",
    "sympy = pyimport(\"sympy\");"
   ]
  },
  {
   "cell_type": "markdown",
   "metadata": {},
   "source": [
    "With this amazing package we can work with symbols as they were variables"
   ]
  },
  {
   "cell_type": "code",
   "execution_count": 2,
   "metadata": {},
   "outputs": [
    {
     "data": {
      "text/latex": [
       "$\\displaystyle x$"
      ],
      "text/plain": [
       "PyObject x"
      ]
     },
     "execution_count": 2,
     "metadata": {},
     "output_type": "execute_result"
    }
   ],
   "source": [
    "x = sympy.Symbol(\"x\")      # PyObject x"
   ]
  },
  {
   "cell_type": "code",
   "execution_count": 3,
   "metadata": {
    "scrolled": true
   },
   "outputs": [
    {
     "data": {
      "text/latex": [
       "$\\displaystyle \\left[\\begin{matrix}x\\\\2\\\\3\\end{matrix}\\right]$"
      ],
      "text/plain": [
       "PyObject Matrix([\n",
       "[x],\n",
       "[2],\n",
       "[3]])"
      ]
     },
     "execution_count": 3,
     "metadata": {},
     "output_type": "execute_result"
    }
   ],
   "source": [
    "sympy.Matrix([x, 2, 3])"
   ]
  },
  {
   "cell_type": "markdown",
   "metadata": {},
   "source": [
    "So, for instance, we can exactly diagonalize the superconducting hamiltonian in a symbolic way:\n",
    "$H=\\sum_k \\epsilon_k (a_k^\\dagger a_k + a_{\\bar{k}}^\\dagger a_{\\bar{k}})-\\sum_{k,k'} G_{k,k'} a_{k'}^\\dagger a_{\\bar{k'}}^\\dagger a_{\\bar{k}} a_k$\n",
    "We will set $\\epsilon_k = \\epsilon \\; \\forall k$, and $G_{kk'} = g \\; \\forall k,k'$."
   ]
  },
  {
   "cell_type": "code",
   "execution_count": 4,
   "metadata": {},
   "outputs": [
    {
     "data": {
      "text/latex": [
       "$\\displaystyle \\left[\\begin{matrix}0 & 0 & 0 & 0 & 0 & 0\\\\0 & 0 & 0 & 0 & 0 & 0\\\\0 & 0 & 0 & 0 & 0 & 0\\\\0 & 0 & 0 & 0 & 0 & 0\\\\0 & 0 & 0 & 0 & - \\left(e^{2} + g^{2}\\right)^{0.5} & 0\\\\0 & 0 & 0 & 0 & 0 & \\left(e^{2} + g^{2}\\right)^{0.5}\\end{matrix}\\right]$"
      ],
      "text/plain": [
       "PyObject Matrix([\n",
       "[0, 0, 0, 0,                   0,                  0],\n",
       "[0, 0, 0, 0,                   0,                  0],\n",
       "[0, 0, 0, 0,                   0,                  0],\n",
       "[0, 0, 0, 0,                   0,                  0],\n",
       "[0, 0, 0, 0, -(e**2 + g**2)**0.5,                  0],\n",
       "[0, 0, 0, 0,                   0, (e**2 + g**2)**0.5]])"
      ]
     },
     "execution_count": 4,
     "metadata": {},
     "output_type": "execute_result"
    }
   ],
   "source": [
    "using Fermionic\n",
    "using SparseArrays\n",
    "\n",
    "g = sympy.Symbol(\"g\")\n",
    "e = sympy.Symbol(\"e\")\n",
    "\n",
    "d = 4 #this will be a system of 4 levels\n",
    "nume = Int(d/2)\n",
    "\n",
    "e0 = 1.0\n",
    "\n",
    "o = Op_fixed(d, nume)\n",
    "\n",
    "epsilon = [e0*(i-d/4-1/2) for i in 1:d/2]\n",
    "epsilon = sort([epsilon; epsilon])\n",
    "h0 = sum([epsilon[i]*(ada(o,i,i) + ada(o,i+1,i+1)) for i in 1:2:(Int(d)-1)])\n",
    "hi = sum([sum([if i==j spzeros(binomial(d,nume), binomial(d,nume)) else -(ada(o,j,i+1)*ada(o,j+1,i)) end\n",
    "                    for i in 1:2:(Int(d)-1)]) for j in 1:2:(Int(d)-1)])\n",
    "\n",
    "mh = e*sympy.Matrix(h0) - g*sympy.Matrix(hi)\n",
    "(P, D) = mh.diagonalize();\n",
    "D #this outputs the diagonal matrix."
   ]
  },
  {
   "cell_type": "markdown",
   "metadata": {},
   "source": [
    "The eigenvalues are the columns of the following matrix:"
   ]
  },
  {
   "cell_type": "code",
   "execution_count": 5,
   "metadata": {},
   "outputs": [
    {
     "data": {
      "text/latex": [
       "$\\displaystyle \\left[\\begin{matrix}0 & 0 & 0 & 0 & \\frac{g}{e + \\left(e^{2} + g^{2}\\right)^{0.5}} & \\frac{g}{e - \\left(e^{2} + g^{2}\\right)^{0.5}}\\\\1.0 & 0 & 0 & 0 & 0 & 0\\\\0 & 1.0 & 0 & 0 & 0 & 0\\\\0 & 0 & 1.0 & 0 & 0 & 0\\\\0 & 0 & 0 & 1.0 & 0 & 0\\\\0 & 0 & 0 & 0 & 1.0 & 1.0\\end{matrix}\\right]$"
      ],
      "text/plain": [
       "PyObject Matrix([\n",
       "[  0,   0,   0,   0, g/(e + (e**2 + g**2)**0.5), g/(e - (e**2 + g**2)**0.5)],\n",
       "[1.0,   0,   0,   0,                          0,                          0],\n",
       "[  0, 1.0,   0,   0,                          0,                          0],\n",
       "[  0,   0, 1.0,   0,                          0,                          0],\n",
       "[  0,   0,   0, 1.0,                          0,                          0],\n",
       "[  0,   0,   0,   0,                        1.0,                        1.0]])"
      ]
     },
     "execution_count": 5,
     "metadata": {},
     "output_type": "execute_result"
    }
   ],
   "source": [
    "P"
   ]
  },
  {
   "cell_type": "markdown",
   "metadata": {},
   "source": [
    "You can learn more about matrix manipulation in [this tutorial](https://docs.sympy.org/latest/modules/matrices/matrices.html)."
   ]
  },
  {
   "cell_type": "markdown",
   "metadata": {},
   "source": [
    "<a id=\"sops\"></a>\n",
    "## Symbolic second quantization\n",
    "\n",
    "There is a library inside SymPy which allows the definition of fermionic symbolic operators. You can finde the complete list of functions in [this link](https://docs.sympy.org/latest/modules/physics/secondquant.html).\n",
    "\n",
    "It is good enough for working with commutators, but for some reasons the anticommutator identity is not defined for fermions, making it a little limited for complete usage."
   ]
  },
  {
   "cell_type": "code",
   "execution_count": 6,
   "metadata": {
    "scrolled": true
   },
   "outputs": [
    {
     "data": {
      "text/latex": [
       "$\\displaystyle a^\\dagger_{j}$"
      ],
      "text/plain": [
       "PyObject CreateFermion(j)"
      ]
     },
     "execution_count": 6,
     "metadata": {},
     "output_type": "execute_result"
    }
   ],
   "source": [
    "using PyCall\n",
    "sp = pyimport(\"sympy\");\n",
    "sq = pyimport(\"sympy.physics.secondquant\");\n",
    "i,j = sp.symbols(\"i j\", above_fermi=true) #it could also be below_fermi\n",
    "ai = sq.F(i);\n",
    "adi = sq.Fd(i);\n",
    "aj = sq.F(j)\n",
    "adj = sq.Fd(j)"
   ]
  },
  {
   "cell_type": "markdown",
   "metadata": {},
   "source": [
    "We can evauate contractions:"
   ]
  },
  {
   "cell_type": "code",
   "execution_count": 7,
   "metadata": {
    "scrolled": true
   },
   "outputs": [
    {
     "data": {
      "text/latex": [
       "$\\displaystyle 0$"
      ],
      "text/plain": [
       "PyObject 0"
      ]
     },
     "execution_count": 7,
     "metadata": {},
     "output_type": "execute_result"
    }
   ],
   "source": [
    "sq.contraction(adi,adi) #double creation operator"
   ]
  },
  {
   "cell_type": "code",
   "execution_count": 8,
   "metadata": {},
   "outputs": [
    {
     "data": {
      "text/latex": [
       "$\\displaystyle 0$"
      ],
      "text/plain": [
       "PyObject 0"
      ]
     },
     "execution_count": 8,
     "metadata": {},
     "output_type": "execute_result"
    }
   ],
   "source": [
    "sq.contraction(aj,aj) #double destruction operator"
   ]
  },
  {
   "cell_type": "code",
   "execution_count": 9,
   "metadata": {},
   "outputs": [
    {
     "data": {
      "text/latex": [
       "$\\displaystyle 0$"
      ],
      "text/plain": [
       "PyObject 0"
      ]
     },
     "execution_count": 9,
     "metadata": {},
     "output_type": "execute_result"
    }
   ],
   "source": [
    "a = sq.contraction(adi,aj)"
   ]
  },
  {
   "cell_type": "code",
   "execution_count": 10,
   "metadata": {},
   "outputs": [
    {
     "data": {
      "text/latex": [
       "$\\displaystyle \\delta_{i j}$"
      ],
      "text/plain": [
       "PyObject KroneckerDelta(i, j)"
      ]
     },
     "execution_count": 10,
     "metadata": {},
     "output_type": "execute_result"
    }
   ],
   "source": [
    "a = sq.contraction(ai,adj)"
   ]
  },
  {
   "cell_type": "code",
   "execution_count": 11,
   "metadata": {},
   "outputs": [
    {
     "data": {
      "text/latex": [
       "$\\displaystyle \\delta_{i j}$"
      ],
      "text/plain": [
       "PyObject KroneckerDelta(i, j)"
      ]
     },
     "execution_count": 11,
     "metadata": {},
     "output_type": "execute_result"
    }
   ],
   "source": [
    "sq.evaluate_deltas(a)"
   ]
  },
  {
   "cell_type": "markdown",
   "metadata": {},
   "source": [
    "Let's check anticommutation relations:"
   ]
  },
  {
   "cell_type": "code",
   "execution_count": 12,
   "metadata": {},
   "outputs": [
    {
     "data": {
      "text/latex": [
       "$\\displaystyle 0$"
      ],
      "text/plain": [
       "PyObject 0"
      ]
     },
     "execution_count": 12,
     "metadata": {},
     "output_type": "execute_result"
    }
   ],
   "source": [
    "sq.wicks(adi*adj+adj*adi)"
   ]
  },
  {
   "cell_type": "code",
   "execution_count": 13,
   "metadata": {},
   "outputs": [
    {
     "data": {
      "text/latex": [
       "$\\displaystyle 0$"
      ],
      "text/plain": [
       "PyObject 0"
      ]
     },
     "execution_count": 13,
     "metadata": {},
     "output_type": "execute_result"
    }
   ],
   "source": [
    "sq.wicks(ai*aj+aj*ai)"
   ]
  },
  {
   "cell_type": "code",
   "execution_count": 14,
   "metadata": {},
   "outputs": [
    {
     "data": {
      "text/latex": [
       "$\\displaystyle \\delta_{i j}$"
      ],
      "text/plain": [
       "PyObject KroneckerDelta(i, j)"
      ]
     },
     "execution_count": 14,
     "metadata": {},
     "output_type": "execute_result"
    }
   ],
   "source": [
    "sq.wicks(ai*adj+adj*ai)"
   ]
  },
  {
   "cell_type": "markdown",
   "metadata": {},
   "source": [
    "We can define commutators"
   ]
  },
  {
   "cell_type": "code",
   "execution_count": 15,
   "metadata": {
    "scrolled": true
   },
   "outputs": [
    {
     "data": {
      "text/latex": [
       "$\\displaystyle \\left[a^\\dagger_{i} a^\\dagger_{j},a_{i}\\right]$"
      ],
      "text/plain": [
       "PyObject Commutator(CreateFermion(i)*CreateFermion(j),f(i))"
      ]
     },
     "execution_count": 15,
     "metadata": {},
     "output_type": "execute_result"
    }
   ],
   "source": [
    "com = sq.Commutator(adi*adj,ai)"
   ]
  },
  {
   "cell_type": "markdown",
   "metadata": {},
   "source": [
    "and expand them with doit()"
   ]
  },
  {
   "cell_type": "code",
   "execution_count": 16,
   "metadata": {
    "scrolled": true
   },
   "outputs": [
    {
     "data": {
      "text/latex": [
       "$\\displaystyle \\delta_{i j} a^\\dagger_{i} - a^\\dagger_{j}$"
      ],
      "text/plain": [
       "PyObject KroneckerDelta(i, j)*CreateFermion(i) - CreateFermion(j)"
      ]
     },
     "execution_count": 16,
     "metadata": {},
     "output_type": "execute_result"
    }
   ],
   "source": [
    "com.doit(wicks = true) #wicked defines a normal ordering of terms (see Wick's expantion)"
   ]
  },
  {
   "cell_type": "markdown",
   "metadata": {},
   "source": [
    "Also perform a wick expantion"
   ]
  },
  {
   "cell_type": "code",
   "execution_count": 17,
   "metadata": {},
   "outputs": [
    {
     "data": {
      "text/latex": [
       "$\\displaystyle \\left\\{a^\\dagger_{i} a_{i}\\right\\} + \\left\\{a^\\dagger_{i} a^\\dagger_{j}\\right\\}$"
      ],
      "text/plain": [
       "PyObject NO(CreateFermion(i)*AnnihilateFermion(i)) + NO(CreateFermion(i)*CreateFermion(j))"
      ]
     },
     "execution_count": 17,
     "metadata": {},
     "output_type": "execute_result"
    }
   ],
   "source": [
    "sq.wicks(adi*(ai+adj))"
   ]
  },
  {
   "cell_type": "code",
   "execution_count": 18,
   "metadata": {},
   "outputs": [
    {
     "data": {
      "text/latex": [
       "$\\displaystyle \\delta_{i j} + 1$"
      ],
      "text/plain": [
       "PyObject KroneckerDelta(i, j) + 1"
      ]
     },
     "execution_count": 18,
     "metadata": {},
     "output_type": "execute_result"
    }
   ],
   "source": [
    "sq.wicks(ai*(adi+adj), keep_only_fully_contracted = true)"
   ]
  },
  {
   "cell_type": "markdown",
   "metadata": {},
   "source": [
    "NO() performs a normal order, assuming anticommutation relations"
   ]
  },
  {
   "cell_type": "code",
   "execution_count": 19,
   "metadata": {},
   "outputs": [
    {
     "data": {
      "text/latex": [
       "$\\displaystyle - \\left\\{a^\\dagger_{i} a_{j}\\right\\}$"
      ],
      "text/plain": [
       "PyObject -NO(CreateFermion(i)*AnnihilateFermion(j))"
      ]
     },
     "execution_count": 19,
     "metadata": {},
     "output_type": "execute_result"
    }
   ],
   "source": [
    "sq.NO(aj*adi)"
   ]
  },
  {
   "cell_type": "code",
   "execution_count": 20,
   "metadata": {
    "scrolled": true
   },
   "outputs": [
    {
     "data": {
      "text/latex": [
       "$\\displaystyle a_{j}$"
      ],
      "text/plain": [
       "PyObject AnnihilateFermion(j)"
      ]
     },
     "execution_count": 20,
     "metadata": {},
     "output_type": "execute_result"
    }
   ],
   "source": [
    "adj = sq.Dagger(sq.CreateFermion(sp.Symbol(\"j\")))"
   ]
  },
  {
   "cell_type": "markdown",
   "metadata": {},
   "source": [
    "### Bra and Kets"
   ]
  },
  {
   "cell_type": "markdown",
   "metadata": {},
   "source": [
    "Each state can only have one particle, so we choose to store a list of occupied orbits rather than a tuple with occupation numbers (zeros and ones)."
   ]
  },
  {
   "cell_type": "code",
   "execution_count": 21,
   "metadata": {
    "scrolled": true
   },
   "outputs": [
    {
     "data": {
      "text/latex": [
       "$\\displaystyle FockStateFermionKet\\left(\\left( 1, \\  2\\right)\\right)$"
      ],
      "text/plain": [
       "PyObject FockStateKet((1, 2))"
      ]
     },
     "execution_count": 21,
     "metadata": {},
     "output_type": "execute_result"
    }
   ],
   "source": [
    "f1 = sq.FKet([1,2])"
   ]
  },
  {
   "cell_type": "code",
   "execution_count": 22,
   "metadata": {},
   "outputs": [
    {
     "data": {
      "text/latex": [
       "$\\displaystyle FockStateFermionBra\\left(\\left( 1, \\  3\\right)\\right)$"
      ],
      "text/plain": [
       "PyObject FockStateKet((1, 3))"
      ]
     },
     "execution_count": 22,
     "metadata": {},
     "output_type": "execute_result"
    }
   ],
   "source": [
    "f2 = sq.FBra([1,3])"
   ]
  },
  {
   "cell_type": "code",
   "execution_count": 23,
   "metadata": {},
   "outputs": [
    {
     "data": {
      "text/latex": [
       "$\\displaystyle 0$"
      ],
      "text/plain": [
       "PyObject 0"
      ]
     },
     "execution_count": 23,
     "metadata": {},
     "output_type": "execute_result"
    }
   ],
   "source": [
    "sq.InnerProduct(f2,f1)"
   ]
  }
 ],
 "metadata": {
  "kernelspec": {
   "display_name": "Julia 1.4.0",
   "language": "julia",
   "name": "julia-1.4"
  },
  "language_info": {
   "file_extension": ".jl",
   "mimetype": "application/julia",
   "name": "julia",
   "version": "1.4.0"
  }
 },
 "nbformat": 4,
 "nbformat_minor": 4
}
