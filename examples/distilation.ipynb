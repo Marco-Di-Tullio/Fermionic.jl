{
 "cells": [
  {
   "cell_type": "code",
   "execution_count": 1,
   "metadata": {},
   "outputs": [
    {
     "name": "stdout",
     "output_type": "stream",
     "text": [
      "test"
     ]
    }
   ],
   "source": [
    "print(\"test\")"
   ]
  },
  {
   "cell_type": "code",
   "execution_count": 2,
   "metadata": {},
   "outputs": [
    {
     "name": "stderr",
     "output_type": "stream",
     "text": [
      "┌ Info: Precompiling Fermionic [9854c450-6826-470b-b7cd-d3803b32f4ba]\n",
      "└ @ Base loading.jl:1260\n"
     ]
    }
   ],
   "source": [
    "using Fermionic"
   ]
  },
  {
   "cell_type": "code",
   "execution_count": 4,
   "metadata": {},
   "outputs": [],
   "source": [
    "o = Op(6);\n",
    "vac = vacuum(o);\n",
    "\n",
    "cd1 = cdm(o,1);\n",
    "cd2 = cdm(o,2);\n",
    "cd3 = cdm(o,3);\n",
    "cd4 = cdm(o,4);\n",
    "cd5 = cdm(o,5);\n",
    "cd6 = cdm(o,6);"
   ]
  },
  {
   "cell_type": "code",
   "execution_count": 6,
   "metadata": {},
   "outputs": [],
   "source": [
    "p1 = sqrt(0.9)\n",
    "p2 = sqrt(1-p1^2)\n",
    "a = 1/sqrt(2)\n",
    "b = sqrt(1-a^2);"
   ]
  },
  {
   "cell_type": "code",
   "execution_count": 7,
   "metadata": {},
   "outputs": [
    {
     "data": {
      "text/plain": [
       "64-element SparseArrays.SparseVector{Float64,Int64} with 4 stored entries:\n",
       "  [22]  =  0.223607\n",
       "  [23]  =  0.223607\n",
       "  [42]  =  0.67082\n",
       "  [43]  =  0.67082"
      ]
     },
     "execution_count": 7,
     "metadata": {},
     "output_type": "execute_result"
    }
   ],
   "source": [
    "state0 = (a*cd5 + b*cd6)*(p1*cd1*cd3+p2*cd2*cd4)*vac"
   ]
  },
  {
   "cell_type": "code",
   "execution_count": 8,
   "metadata": {},
   "outputs": [
    {
     "data": {
      "text/plain": [
       "64-element SparseArrays.SparseVector{Float64,Int64} with 4 stored entries:\n",
       "  [22]  =  0.223607\n",
       "  [27]  =  0.67082\n",
       "  [39]  =  0.223607\n",
       "  [42]  =  0.67082"
      ]
     },
     "execution_count": 8,
     "metadata": {},
     "output_type": "execute_result"
    }
   ],
   "source": [
    "state1 = ucnot(o, 5, 1)*ucnot(o, 5, 2)*state0\n"
   ]
  },
  {
   "cell_type": "code",
   "execution_count": 9,
   "metadata": {},
   "outputs": [
    {
     "data": {
      "text/plain": [
       "64-element SparseArrays.SparseVector{Float64,Int64} with 8 stored entries:\n",
       "  [22]  =  0.158114\n",
       "  [23]  =  0.158114\n",
       "  [26]  =  0.474342\n",
       "  [27]  =  0.474342\n",
       "  [38]  =  0.158114\n",
       "  [39]  =  0.158114\n",
       "  [42]  =  0.474342\n",
       "  [43]  =  0.474342"
      ]
     },
     "execution_count": 9,
     "metadata": {},
     "output_type": "execute_result"
    }
   ],
   "source": [
    "state2 = hadamard(o, 5, 6)*state1"
   ]
  },
  {
   "cell_type": "code",
   "execution_count": 11,
   "metadata": {},
   "outputs": [
    {
     "data": {
      "text/plain": [
       "64-element SparseArrays.SparseVector{Float64,Int64} with 8 stored entries:\n",
       "  [22]  =  0.158114\n",
       "  [23]  =  0.474342\n",
       "  [26]  =  0.474342\n",
       "  [27]  =  0.158114\n",
       "  [38]  =  0.158114\n",
       "  [39]  =  0.474342\n",
       "  [42]  =  0.474342\n",
       "  [43]  =  0.158114"
      ]
     },
     "execution_count": 11,
     "metadata": {},
     "output_type": "execute_result"
    }
   ],
   "source": [
    "state3 = ucnot(o, 5, 3)*ucnot(o, 5, 4)*state2"
   ]
  },
  {
   "cell_type": "code",
   "execution_count": 12,
   "metadata": {},
   "outputs": [
    {
     "data": {
      "text/plain": [
       "64-element SparseArrays.SparseVector{Float64,Int64} with 4 stored entries:\n",
       "  [6 ]  =  0.158114\n",
       "  [7 ]  =  0.474342\n",
       "  [10]  =  0.474342\n",
       "  [11]  =  0.158114"
      ]
     },
     "execution_count": 12,
     "metadata": {},
     "output_type": "execute_result"
    }
   ],
   "source": [
    "state4 = cm(o,1)*state3"
   ]
  },
  {
   "cell_type": "code",
   "execution_count": 13,
   "metadata": {},
   "outputs": [
    {
     "data": {
      "text/plain": [
       "64-element SparseArrays.SparseVector{Float64,Int64} with 4 stored entries:\n",
       "  [6 ]  =  0.223607\n",
       "  [7 ]  =  0.67082\n",
       "  [10]  =  0.67082\n",
       "  [11]  =  0.223607"
      ]
     },
     "execution_count": 13,
     "metadata": {},
     "output_type": "execute_result"
    }
   ],
   "source": [
    "state4 = state4/sqrt(state4'*state4)"
   ]
  },
  {
   "cell_type": "code",
   "execution_count": 15,
   "metadata": {},
   "outputs": [],
   "source": [
    "estado = State_sparse(state4,o);"
   ]
  },
  {
   "cell_type": "code",
   "execution_count": 16,
   "metadata": {},
   "outputs": [
    {
     "data": {
      "text/plain": [
       "6-element Array{Float64,1}:\n",
       " 0.0\n",
       " 0.0\n",
       " 0.2\n",
       " 0.2\n",
       " 0.8\n",
       " 0.8"
      ]
     },
     "execution_count": 16,
     "metadata": {},
     "output_type": "execute_result"
    }
   ],
   "source": [
    "eigensp(estado)"
   ]
  },
  {
   "cell_type": "code",
   "execution_count": 17,
   "metadata": {},
   "outputs": [],
   "source": [
    "#me queda más entrelazado, pero no max entrelazado\n",
    "\n",
    "#me gustaria hacerlo simbolicamente con a y b libres\n"
   ]
  },
  {
   "cell_type": "code",
   "execution_count": null,
   "metadata": {},
   "outputs": [],
   "source": []
  }
 ],
 "metadata": {
  "kernelspec": {
   "display_name": "Julia 1.4.0",
   "language": "julia",
   "name": "julia-1.4"
  },
  "language_info": {
   "file_extension": ".jl",
   "mimetype": "application/julia",
   "name": "julia",
   "version": "1.4.0"
  }
 },
 "nbformat": 4,
 "nbformat_minor": 4
}
