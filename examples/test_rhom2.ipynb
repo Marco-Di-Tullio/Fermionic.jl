{
 "cells": [
  {
   "cell_type": "code",
   "execution_count": 1,
   "metadata": {},
   "outputs": [],
   "source": [
    "using SparseArrays\n",
    "using Fermionic"
   ]
  },
  {
   "cell_type": "code",
   "execution_count": 38,
   "metadata": {},
   "outputs": [
    {
     "data": {
      "text/plain": [
       "indx (generic function with 1 method)"
      ]
     },
     "execution_count": 38,
     "metadata": {},
     "output_type": "execute_result"
    }
   ],
   "source": [
    "function indx(arr)\n",
    "    l = length(arr)\n",
    "    ind = spzeros(Int,0)\n",
    "    for i=1:l\n",
    "        if arr[i] != 0\n",
    "            ind = sparse([ind; i])\n",
    "        end\n",
    "    end\n",
    "    return ind\n",
    "end"
   ]
  },
  {
   "cell_type": "code",
   "execution_count": null,
   "metadata": {},
   "outputs": [],
   "source": [
    "#A more efficient 2 body DM in fixed space\n",
    "function rhom2(s::State_fixed, prec=15)\n",
    "    m = 2\n",
    "    o = ope(s)\n",
    "    num = nume(s)\n",
    "    d = dim(o)\n",
    "    rhomnd = spzeros(typ(s),binomial(d, m), binomial(d, m))\n",
    "    bas,_ = basis_m(d,m)\n",
    "    estat = st(s)\n",
    "    for i in 1:binomial(d, m)\n",
    "        indi = indx(bas[i,:])\n",
    "        for j in 1:binomial(d,m)\n",
    "            indj = indx(bas[j,:])\n",
    "            #rhomd[i,j] = round(estat'*fixed(and[j]*and[i]',num)*estat, digits = 14)\n",
    "            if indi[2] != indj[1] && indi[1] != indj[2]\n",
    "                rhomnd[i,j] = round(estat'*ada(o,indj[1],indi[1])*ada(o,indj[2],indi[2])*estat, digits = prec)\n",
    "            else\n",
    "                rhomnd[i,j] = round(-estat'*ada(o,indj[1],indi[2])*ada(o,indj[2],indi[1])*estat, digits = prec)\n",
    "            end\n",
    "        end\n",
    "    end\n",
    "    return rhomnd\n",
    "end"
   ]
  },
  {
   "cell_type": "code",
   "execution_count": 40,
   "metadata": {},
   "outputs": [
    {
     "data": {
      "text/plain": [
       "2-element SparseVector{Int64,Int64} with 2 stored entries:\n",
       "  [1]  =  5\n",
       "  [2]  =  6"
      ]
     },
     "execution_count": 40,
     "metadata": {},
     "output_type": "execute_result"
    }
   ],
   "source": [
    "indx(bas[1,:])"
   ]
  },
  {
   "cell_type": "code",
   "execution_count": 98,
   "metadata": {},
   "outputs": [],
   "source": [
    "d = 6; nu = 3; m = 2; o = Op_fixed(d,nu); si = spzeros(binomial(d,nu)); si[1] = 1; si[6] = 1; s = si/sqrt(si'*si) ;s = State_fixed(s,o);"
   ]
  },
  {
   "cell_type": "code",
   "execution_count": 42,
   "metadata": {},
   "outputs": [
    {
     "data": {
      "text/plain": [
       "15×15 SparseMatrixCSC{Float64,Int64} with 0 stored entries"
      ]
     },
     "execution_count": 42,
     "metadata": {},
     "output_type": "execute_result"
    }
   ],
   "source": [
    "rhomnd = spzeros(typ(s),binomial(d, m), binomial(d, m))"
   ]
  },
  {
   "cell_type": "code",
   "execution_count": 71,
   "metadata": {},
   "outputs": [
    {
     "data": {
      "text/plain": [
       "rhom2 (generic function with 2 methods)"
      ]
     },
     "execution_count": 71,
     "metadata": {},
     "output_type": "execute_result"
    }
   ],
   "source": [
    "function rhom2(s::State_fixed, prec=15)\n",
    "    m = 2\n",
    "    o = ope(s)\n",
    "    num = nume(s)\n",
    "    d = dim(o)\n",
    "    rhomnd = spzeros(typ(s),binomial(d, m), binomial(d, m))\n",
    "    bas,_ = basis_m(d,m)\n",
    "    estat = st(s)\n",
    "    for i in 1:binomial(d, m)\n",
    "        indi = indx(bas[i,:])\n",
    "        for j in 1:binomial(d,m)\n",
    "            indj = indx(bas[j,:])\n",
    "            #rhomd[i,j] = round(estat'*fixed(and[j]*and[i]',num)*estat, digits = 14)\n",
    "            if indi[2] != indj[1] && indi[1] != indj[2] \n",
    "                rhomnd[i,j] = round(estat'*ada(o,indj[1],indi[1])*ada(o,indj[2],indi[2])'*estat, digits = prec)\n",
    "            else\n",
    "                rhomnd[i,j] = round(-estat'*ada(o,indj[1],indi[2])*ada(o,indj[2],indi[1])'*estat, digits = prec)\n",
    "            end\n",
    "        end\n",
    "    end\n",
    "    return rhomnd\n",
    "end"
   ]
  },
  {
   "cell_type": "code",
   "execution_count": null,
   "metadata": {},
   "outputs": [],
   "source": []
  },
  {
   "cell_type": "code",
   "execution_count": 67,
   "metadata": {},
   "outputs": [
    {
     "data": {
      "text/plain": [
       "15×15 SparseMatrixCSC{Float64,Int64} with 9 stored entries:\n",
       "  [1, 1]  =  0.5\n",
       "  [7, 1]  =  -0.5\n",
       "  [2, 2]  =  1.0\n",
       "  [3, 3]  =  0.5\n",
       "  [9, 3]  =  0.5\n",
       "  [1, 7]  =  -0.5\n",
       "  [7, 7]  =  0.5\n",
       "  [3, 9]  =  0.5\n",
       "  [9, 9]  =  0.5"
      ]
     },
     "execution_count": 67,
     "metadata": {},
     "output_type": "execute_result"
    }
   ],
   "source": [
    "o = ope(s)\n",
    "num = nume(s)\n",
    "d = dim(o)\n",
    "rhomnd = spzeros(typ(s),binomial(d, m), binomial(d, m))\n",
    "bas,_ = basis_m(d,m)\n",
    "estat = st(s)\n",
    "for i in 1:binomial(d, m)\n",
    "    indi = indx(bas[i,:])\n",
    "    for j in 1:binomial(d,m)\n",
    "        indj = indx(bas[j,:])\n",
    "        #rhomd[i,j] = round(estat'*fixed(and[j]*and[i]',num)*estat, digits = 14)\n",
    "        if indi[2] != indj[1] && indi[1] != indj[2] \n",
    "            rhomnd[i,j] = estat'*ada(o,indj[1],indi[1])*ada(o,indj[2],indi[2])'*estat\n",
    "        else\n",
    "            rhomnd[i,j] = -estat'*ada(o,indj[1],indi[2])*ada(o,indj[2],indi[1])'*estat\n",
    "        end\n",
    "    end\n",
    "end\n",
    ";\n",
    "rhomnd"
   ]
  },
  {
   "cell_type": "code",
   "execution_count": 68,
   "metadata": {},
   "outputs": [],
   "source": [
    "using LinearAlgebra"
   ]
  },
  {
   "cell_type": "code",
   "execution_count": 70,
   "metadata": {},
   "outputs": [
    {
     "data": {
      "text/plain": [
       "15-element Array{Float64,1}:\n",
       " 0.0\n",
       " 0.0\n",
       " 0.0\n",
       " 0.0\n",
       " 0.0\n",
       " 0.0\n",
       " 0.0\n",
       " 0.0\n",
       " 0.0\n",
       " 0.0\n",
       " 0.0\n",
       " 0.0\n",
       " 0.9999999999999998\n",
       " 0.9999999999999998\n",
       " 0.9999999999999998"
      ]
     },
     "execution_count": 70,
     "metadata": {},
     "output_type": "execute_result"
    }
   ],
   "source": [
    "eigvals(Matrix(rhomnd))"
   ]
  },
  {
   "cell_type": "code",
   "execution_count": 61,
   "metadata": {},
   "outputs": [
    {
     "data": {
      "text/plain": [
       "6-element SparseVector{Float64,Int64} with 2 stored entries:\n",
       "  [5]  =  1.0\n",
       "  [6]  =  1.0"
      ]
     },
     "execution_count": 61,
     "metadata": {},
     "output_type": "execute_result"
    }
   ],
   "source": [
    "bas[1,:]"
   ]
  },
  {
   "cell_type": "code",
   "execution_count": 60,
   "metadata": {},
   "outputs": [
    {
     "data": {
      "text/plain": [
       "6-element SparseVector{Float64,Int64} with 2 stored entries:\n",
       "  [3]  =  1.0\n",
       "  [4]  =  1.0"
      ]
     },
     "execution_count": 60,
     "metadata": {},
     "output_type": "execute_result"
    }
   ],
   "source": [
    "bas[6,:]"
   ]
  },
  {
   "cell_type": "code",
   "execution_count": 65,
   "metadata": {},
   "outputs": [
    {
     "name": "stdout",
     "output_type": "stream",
     "text": [
      "  [1]  =  4\n",
      "  [2]  =  5\n",
      "  [1]  =  2\n",
      "  [2]  =  4\n"
     ]
    }
   ],
   "source": [
    "println(indx(bas[3,:]))\n",
    "println(indx(bas[9,:]))\n"
   ]
  },
  {
   "cell_type": "code",
   "execution_count": 99,
   "metadata": {},
   "outputs": [
    {
     "data": {
      "text/plain": [
       "15×15 SparseMatrixCSC{Float64,Int64} with 9 stored entries:\n",
       "  [1, 1]  =  0.5\n",
       "  [7, 1]  =  -0.5\n",
       "  [2, 2]  =  1.0\n",
       "  [3, 3]  =  0.5\n",
       "  [9, 3]  =  0.5\n",
       "  [1, 7]  =  -0.5\n",
       "  [7, 7]  =  0.5\n",
       "  [3, 9]  =  0.5\n",
       "  [9, 9]  =  0.5"
      ]
     },
     "execution_count": 99,
     "metadata": {},
     "output_type": "execute_result"
    }
   ],
   "source": [
    "rhom2(s)"
   ]
  },
  {
   "cell_type": "code",
   "execution_count": 101,
   "metadata": {},
   "outputs": [
    {
     "data": {
      "text/plain": [
       "true"
      ]
     },
     "execution_count": 101,
     "metadata": {},
     "output_type": "execute_result"
    }
   ],
   "source": [
    "rhom2(s)==rhom(s,2)"
   ]
  },
  {
   "cell_type": "code",
   "execution_count": 52,
   "metadata": {},
   "outputs": [
    {
     "data": {
      "text/plain": [
       "2-element SparseVector{Int64,Int64} with 2 stored entries:\n",
       "  [1]  =  4\n",
       "  [2]  =  5"
      ]
     },
     "execution_count": 52,
     "metadata": {},
     "output_type": "execute_result"
    }
   ],
   "source": [
    "indx(bas[3,:])"
   ]
  },
  {
   "cell_type": "code",
   "execution_count": 53,
   "metadata": {},
   "outputs": [
    {
     "data": {
      "text/plain": [
       "2-element SparseVector{Int64,Int64} with 2 stored entries:\n",
       "  [1]  =  2\n",
       "  [2]  =  4"
      ]
     },
     "execution_count": 53,
     "metadata": {},
     "output_type": "execute_result"
    }
   ],
   "source": [
    "indx(bas[9,:])"
   ]
  },
  {
   "cell_type": "code",
   "execution_count": 26,
   "metadata": {},
   "outputs": [
    {
     "data": {
      "text/plain": [
       "21"
      ]
     },
     "execution_count": 26,
     "metadata": {},
     "output_type": "execute_result"
    }
   ],
   "source": [
    "o = ope(s)\n",
    "num = nume(s)\n",
    "d = dim(o)\n",
    "rhomd = spzeros(typ(s),binomial(d, m), binomial(d, m))\n",
    "bas,_ = basis_m(d,m)\n",
    "estat = st(s)\n",
    "count = 1\n",
    "for i in 1:binomial(d, m)\n",
    "    indi = indx(bas[i,:])\n",
    "    for j in 1:binomial(d,m)\n",
    "        indj = indx(bas[j,:])\n",
    "        #rhomd[i,j] = round(estat'*fixed(and[j]*and[i]',num)*estat, digits = 14)\n",
    "        println(indi)\n",
    "        println(\"---\")\n",
    "        println(indj)\n",
    "        if last(indi) == indj[1]\n",
    "            count += 1\n",
    "            print(\"problema\")\n",
    "        end\n",
    "        println(\"----------------\")\n",
    "    end\n",
    "end\n",
    ";\n",
    "count"
   ]
  },
  {
   "cell_type": "code",
   "execution_count": 47,
   "metadata": {},
   "outputs": [
    {
     "data": {
      "text/plain": [
       "non_diag_ops (generic function with 1 method)"
      ]
     },
     "execution_count": 47,
     "metadata": {},
     "output_type": "execute_result"
    }
   ],
   "source": [
    "function rhom(s::State_fixed, m::Int64)\n",
    "    o = Op(d)\n",
    "    num = nume(s)\n",
    "    rhomd = spzeros(typ(s),binomial(d, m), binomial(d, m))\n",
    "    bas,_ = basis_m(d, m)\n",
    "    estat = st(s)\n",
    "    and = sparse([non_diag_ops(o, d, num, m, bas, j) for j in 1:binomial(d, m)])\n",
    "    for i in 1:binomial(d, m)\n",
    "        for j in 1:binomial(d,m)\n",
    "            rhomd[i,j] = round(estat'*fixed(and[j]*and[i]',num)*estat, digits = 14)\n",
    "        end\n",
    "    end\n",
    "    return rhomd\n",
    "end\n",
    "\n",
    "\n",
    "function non_diag_ops(o, d, nume, m, bas, i)\n",
    "    vec = indx(bas[i, :])\n",
    "    #le es nume-1 me parece\n",
    "    mel = 1\n",
    "    for j in 1:m\n",
    "        mel = mel*ad(o, Int(vec[j]))\n",
    "    end\n",
    "    return mel\n",
    "end\n"
   ]
  },
  {
   "cell_type": "code",
   "execution_count": 48,
   "metadata": {},
   "outputs": [
    {
     "data": {
      "text/plain": [
       "15×15 SparseMatrixCSC{Float64,Int64} with 9 stored entries:\n",
       "  [1, 1]  =  0.5\n",
       "  [7, 1]  =  -0.5\n",
       "  [2, 2]  =  1.0\n",
       "  [3, 3]  =  0.5\n",
       "  [9, 3]  =  0.5\n",
       "  [1, 7]  =  -0.5\n",
       "  [7, 7]  =  0.5\n",
       "  [3, 9]  =  0.5\n",
       "  [9, 9]  =  0.5"
      ]
     },
     "execution_count": 48,
     "metadata": {},
     "output_type": "execute_result"
    }
   ],
   "source": [
    "rhom(s,2)"
   ]
  },
  {
   "cell_type": "code",
   "execution_count": 76,
   "metadata": {},
   "outputs": [],
   "source": [
    "s=State_fixed(fixed_state(1/sqrt(2)*(im*ad(Op(6),1)*ad(Op(6),2)*ad(Op(6),3)*ad(Op(6),4)+ad(Op(6),3)*ad(Op(6),4)*ad(Op(6),5)*ad(Op(6),6))*vacuum(Op(6)),4),Op_fixed(6,4));"
   ]
  },
  {
   "cell_type": "code",
   "execution_count": 77,
   "metadata": {},
   "outputs": [
    {
     "data": {
      "text/plain": [
       "15×15 SparseMatrixCSC{Complex{Float64},Int64} with 13 stored entries:\n",
       "  [1 ,  1]  =  0.5+0.0im\n",
       "  [15,  1]  =  0.0+0.5im\n",
       "  [2 ,  2]  =  0.5+0.0im\n",
       "  [3 ,  3]  =  0.5+0.0im\n",
       "  [4 ,  4]  =  0.5+0.0im\n",
       "  [5 ,  5]  =  0.5+0.0im\n",
       "  [6 ,  6]  =  1.0+0.0im\n",
       "  [9 ,  9]  =  0.5+0.0im\n",
       "  [10, 10]  =  0.5+0.0im\n",
       "  [13, 13]  =  0.5+0.0im\n",
       "  [14, 14]  =  0.5+0.0im\n",
       "  [1 , 15]  =  0.0-0.5im\n",
       "  [15, 15]  =  0.5+0.0im"
      ]
     },
     "execution_count": 77,
     "metadata": {},
     "output_type": "execute_result"
    }
   ],
   "source": [
    "rhom(s,2)"
   ]
  },
  {
   "cell_type": "code",
   "execution_count": 97,
   "metadata": {},
   "outputs": [
    {
     "data": {
      "text/plain": [
       "true"
      ]
     },
     "execution_count": 97,
     "metadata": {},
     "output_type": "execute_result"
    }
   ],
   "source": [
    "rhom2(s)==rhom(s,2)"
   ]
  },
  {
   "cell_type": "code",
   "execution_count": 79,
   "metadata": {},
   "outputs": [
    {
     "data": {
      "text/plain": [
       "2-element SparseVector{Int64,Int64} with 2 stored entries:\n",
       "  [1]  =  1\n",
       "  [2]  =  2"
      ]
     },
     "execution_count": 79,
     "metadata": {},
     "output_type": "execute_result"
    }
   ],
   "source": [
    "indx(bas[15,:])"
   ]
  },
  {
   "cell_type": "code",
   "execution_count": 80,
   "metadata": {},
   "outputs": [
    {
     "data": {
      "text/plain": [
       "2-element SparseVector{Int64,Int64} with 2 stored entries:\n",
       "  [1]  =  5\n",
       "  [2]  =  6"
      ]
     },
     "execution_count": 80,
     "metadata": {},
     "output_type": "execute_result"
    }
   ],
   "source": [
    "indx(bas[1,:])"
   ]
  },
  {
   "cell_type": "code",
   "execution_count": 81,
   "metadata": {},
   "outputs": [
    {
     "data": {
      "text/plain": [
       "15-element SparseVector{Complex{Float64},Int64} with 2 stored entries:\n",
       "  [1 ]  =  0.707107+0.0im\n",
       "  [15]  =  0.0+0.707107im"
      ]
     },
     "execution_count": 81,
     "metadata": {},
     "output_type": "execute_result"
    }
   ],
   "source": [
    "st(s)"
   ]
  },
  {
   "cell_type": "code",
   "execution_count": 84,
   "metadata": {},
   "outputs": [
    {
     "data": {
      "text/plain": [
       "6-element SparseVector{Float64,Int64} with 2 stored entries:\n",
       "  [1]  =  1.0\n",
       "  [5]  =  1.0"
      ]
     },
     "execution_count": 84,
     "metadata": {},
     "output_type": "execute_result"
    }
   ],
   "source": [
    "bas[12,:]"
   ]
  },
  {
   "cell_type": "code",
   "execution_count": 95,
   "metadata": {},
   "outputs": [
    {
     "data": {
      "text/plain": [
       "rhom2 (generic function with 2 methods)"
      ]
     },
     "execution_count": 95,
     "metadata": {},
     "output_type": "execute_result"
    }
   ],
   "source": [
    "#A more efficient 2 body DM in fixed space\n",
    "function rhom2(s::State_fixed, prec=15)\n",
    "    m = 2\n",
    "    o = ope(s)\n",
    "    num = nume(s)\n",
    "    d = dim(o)\n",
    "    rhomnd = spzeros(typ(s),binomial(d, m), binomial(d, m))\n",
    "    bas,_ = basis_m(d,m)\n",
    "    estat = st(s)\n",
    "    for i in 1:binomial(d, m)\n",
    "        indi = indx(bas[i,:])\n",
    "        for j in 1:binomial(d,m)\n",
    "            indj = indx(bas[j,:])\n",
    "            #rhomd[i,j] = round(estat'*fixed(and[j]*and[i]',num)*estat, digits = 14)\n",
    "            if indi[2] != indj[1] && indi[1] != indj[2]\n",
    "                rhomnd[i,j] = round(estat'*ada(o,indj[1],indi[1])*ada(o,indj[2],indi[2])*estat, digits = prec)\n",
    "            else\n",
    "                rhomnd[i,j] = round(-estat'*ada(o,indj[1],indi[2])*ada(o,indj[2],indi[1])*estat, digits = prec)\n",
    "            end\n",
    "        end\n",
    "    end\n",
    "    return rhomnd\n",
    "end"
   ]
  },
  {
   "cell_type": "code",
   "execution_count": 94,
   "metadata": {},
   "outputs": [
    {
     "data": {
      "text/plain": [
       "0.0 + 0.5im"
      ]
     },
     "execution_count": 94,
     "metadata": {},
     "output_type": "execute_result"
    }
   ],
   "source": [
    "prec=15\n",
    "estat = st(s); o=ope(s);\n",
    "indi = indx(bas[15,:]); indj = indx(bas[1,:]); \n",
    "round(estat'*ada(o,indj[1],indi[1])*ada(o,indj[2],indi[2])*estat, digits = prec)"
   ]
  },
  {
   "cell_type": "code",
   "execution_count": 90,
   "metadata": {},
   "outputs": [
    {
     "data": {
      "text/plain": [
       "15-element SparseVector{Complex{Float64},Int64} with 2 stored entries:\n",
       "  [1 ]  =  0.707107+0.0im\n",
       "  [15]  =  0.0+0.707107im"
      ]
     },
     "execution_count": 90,
     "metadata": {},
     "output_type": "execute_result"
    }
   ],
   "source": [
    "st(s)"
   ]
  },
  {
   "cell_type": "code",
   "execution_count": 92,
   "metadata": {},
   "outputs": [
    {
     "data": {
      "text/plain": [
       "2-element SparseVector{Int64,Int64} with 2 stored entries:\n",
       "  [1]  =  1\n",
       "  [2]  =  2"
      ]
     },
     "execution_count": 92,
     "metadata": {},
     "output_type": "execute_result"
    }
   ],
   "source": [
    "indi"
   ]
  },
  {
   "cell_type": "code",
   "execution_count": 93,
   "metadata": {},
   "outputs": [
    {
     "data": {
      "text/plain": [
       "2-element SparseVector{Int64,Int64} with 2 stored entries:\n",
       "  [1]  =  5\n",
       "  [2]  =  6"
      ]
     },
     "execution_count": 93,
     "metadata": {},
     "output_type": "execute_result"
    }
   ],
   "source": [
    "indj"
   ]
  },
  {
   "cell_type": "code",
   "execution_count": null,
   "metadata": {},
   "outputs": [],
   "source": []
  }
 ],
 "metadata": {
  "kernelspec": {
   "display_name": "Julia 1.4.0",
   "language": "julia",
   "name": "julia-1.4"
  },
  "language_info": {
   "file_extension": ".jl",
   "mimetype": "application/julia",
   "name": "julia",
   "version": "1.4.0"
  }
 },
 "nbformat": 4,
 "nbformat_minor": 4
}
