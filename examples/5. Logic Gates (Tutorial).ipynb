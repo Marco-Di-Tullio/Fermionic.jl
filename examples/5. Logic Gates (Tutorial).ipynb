{
 "cells": [
  {
   "cell_type": "markdown",
   "metadata": {},
   "source": [
    "# Tutorial on Logic gates\n",
    "\n",
    "In quantum computing a quantum logic gate is a basic quantum circuit operating on a small number of qubits. They are the building blocks of quantum circuits, like classical logic gates are for conventional digital circuits. When dealing with fermions, we care about the ocupation of different modes in a system. We can define the analog of the usual qubit-gates with fermions.\n",
    "\n",
    "Gates included in this package are:\n",
    "\n",
    "1. [Pauli x-gate (NOT gate)](#sigmax)\n",
    "2. [Pauli y-gate](#sigmay)\n",
    "3. [Pauli z-gate](#sigmaz)\n",
    "4. [Phase shift](#phase)\n",
    "5. [Hadamard](#hadamard)\n",
    "6. [Ucnot](#ucnot)\n",
    "7. [SWAP](#swap)\n",
    "8. [General Unitaries](#unitaries)\n"
   ]
  },
  {
   "cell_type": "code",
   "execution_count": 1,
   "metadata": {},
   "outputs": [],
   "source": [
    "#initialize the package\n",
    "using Fermionic"
   ]
  },
  {
   "cell_type": "markdown",
   "metadata": {},
   "source": [
    "Let's first initialize the operators and refresh the shape of the basis (see the previous tutorial for a more detailed explanation on these topics)"
   ]
  },
  {
   "cell_type": "code",
   "execution_count": 2,
   "metadata": {},
   "outputs": [],
   "source": [
    "op4 = Op(4)\n",
    "\n",
    "cd1 = cdm(op4,1)\n",
    "cd2 = cdm(op4,2)\n",
    "cd3 = cdm(op4,3)\n",
    "cd4 = cdm(op4,4)\n",
    "\n",
    "vac = vacuum(op4);"
   ]
  },
  {
   "cell_type": "code",
   "execution_count": 3,
   "metadata": {
    "scrolled": true
   },
   "outputs": [
    {
     "data": {
      "text/plain": [
       "16×4 Array{Float64,2}:\n",
       " 0.0  0.0  0.0  0.0\n",
       " 0.0  0.0  0.0  1.0\n",
       " 0.0  0.0  1.0  0.0\n",
       " 0.0  0.0  1.0  1.0\n",
       " 0.0  1.0  0.0  0.0\n",
       " 0.0  1.0  0.0  1.0\n",
       " 0.0  1.0  1.0  0.0\n",
       " 0.0  1.0  1.0  1.0\n",
       " 1.0  0.0  0.0  0.0\n",
       " 1.0  0.0  0.0  1.0\n",
       " 1.0  0.0  1.0  0.0\n",
       " 1.0  0.0  1.0  1.0\n",
       " 1.0  1.0  0.0  0.0\n",
       " 1.0  1.0  0.0  1.0\n",
       " 1.0  1.0  1.0  0.0\n",
       " 1.0  1.0  1.0  1.0"
      ]
     },
     "execution_count": 3,
     "metadata": {},
     "output_type": "execute_result"
    }
   ],
   "source": [
    "Matrix(basis(op4))"
   ]
  },
  {
   "cell_type": "markdown",
   "metadata": {},
   "source": [
    "<a id=\"sigmax\"></a>\n",
    "## 1. Pauli x-gate\n",
    "\n",
    "In distinguishable systems, this gate acts on a single qubit by mapping the state $|0\\rangle$ to $|1\\rangle$ and the state $|1\\rangle$ to $|0\\rangle$. It is hence equivalent to the classical NOT gate.\n",
    "With fermions, we are interested about the occupation or disoccupation of a certain mode. This gate will be individually defined for each mode, mapping the state $c_i^\\dagger|0\\rangle$ to $|0\\rangle$ and vice versa. It is usually denoted with the  greek letter $\\sigma$.\n",
    "\n",
    "$\\sigma_x(j)|1_j\\rangle = |0_j\\rangle\\\\\n",
    "\\sigma_x(j)|0_j\\rangle = |1_j\\rangle$\n",
    "\n",
    "It is important to note that this operation must be used carefully, as the parity of number of fermions in the state is changed.\n",
    "\n",
    "The inputs for this gate are\n",
    "1. The operator type we are working with (op4 in this example)\n",
    "2. The mode we are applying the transformation to\n",
    "\n",
    "Let's see how it works:\n"
   ]
  },
  {
   "cell_type": "code",
   "execution_count": 4,
   "metadata": {
    "scrolled": true
   },
   "outputs": [
    {
     "data": {
      "text/plain": [
       "4×4 Array{Float64,2}:\n",
       " 0.0  0.0  1.0  0.0\n",
       " 0.0  0.0  0.0  1.0\n",
       " 1.0  0.0  0.0  0.0\n",
       " 0.0  1.0  0.0  0.0"
      ]
     },
     "execution_count": 4,
     "metadata": {},
     "output_type": "execute_result"
    }
   ],
   "source": [
    "Matrix(sigma_x(Op(2),1))"
   ]
  },
  {
   "cell_type": "code",
   "execution_count": 5,
   "metadata": {
    "scrolled": true
   },
   "outputs": [
    {
     "data": {
      "text/plain": [
       "4×2 Array{Float64,2}:\n",
       " 0.0  0.0\n",
       " 0.0  1.0\n",
       " 1.0  0.0\n",
       " 1.0  1.0"
      ]
     },
     "execution_count": 5,
     "metadata": {},
     "output_type": "execute_result"
    }
   ],
   "source": [
    "Matrix(basis(Op(2)))"
   ]
  },
  {
   "cell_type": "markdown",
   "metadata": {},
   "source": [
    "So in dimension 2, when applied to the first mode it maps the state $|00\\rangle$ to $|10\\rangle$, $|01\\rangle$ to $|11\\rangle$, $|10\\rangle$ to $|00\\rangle$ and $|11\\rangle$ to $|01\\rangle$."
   ]
  },
  {
   "cell_type": "code",
   "execution_count": 6,
   "metadata": {},
   "outputs": [
    {
     "name": "stdout",
     "output_type": "stream",
     "text": [
      "  [11]  =  1.0\n",
      "[1.0, 0.0, 1.0, 0.0]\n"
     ]
    }
   ],
   "source": [
    "println(cd1*cd3*vac)\n",
    "println(Array(basis(op4)[11,:]))"
   ]
  },
  {
   "cell_type": "code",
   "execution_count": 7,
   "metadata": {
    "scrolled": false
   },
   "outputs": [
    {
     "name": "stdout",
     "output_type": "stream",
     "text": [
      "  [15]  =  1.0\n",
      "[1.0, 1.0, 1.0, 0.0]\n"
     ]
    }
   ],
   "source": [
    "println(sigma_x(op4,2)*cd1*cd3*vac)\n",
    "println(Array(basis(op4)[15,:]))"
   ]
  },
  {
   "cell_type": "markdown",
   "metadata": {},
   "source": [
    "You can of course apply several Pauli x gates"
   ]
  },
  {
   "cell_type": "code",
   "execution_count": 8,
   "metadata": {
    "scrolled": true
   },
   "outputs": [
    {
     "name": "stdout",
     "output_type": "stream",
     "text": [
      "  [13]  =  1.0\n",
      "[1.0, 1.0, 0.0, 0.0]\n"
     ]
    }
   ],
   "source": [
    "println(sigma_x(op4,3)*sigma_x(op4,2)*cd1*cd3*vac)\n",
    "println(Array(basis(op4)[13,:]))"
   ]
  },
  {
   "cell_type": "markdown",
   "metadata": {},
   "source": [
    "Finally, we can verify that as expected, the operation squared is equal to de identity (double negation is affirmation)"
   ]
  },
  {
   "cell_type": "code",
   "execution_count": 9,
   "metadata": {},
   "outputs": [
    {
     "data": {
      "text/plain": [
       "16×16 SparseArrays.SparseMatrixCSC{Float64,Int64} with 16 stored entries:\n",
       "  [1 ,  1]  =  1.0\n",
       "  [2 ,  2]  =  1.0\n",
       "  [3 ,  3]  =  1.0\n",
       "  [4 ,  4]  =  1.0\n",
       "  [5 ,  5]  =  1.0\n",
       "  [6 ,  6]  =  1.0\n",
       "  [7 ,  7]  =  1.0\n",
       "  [8 ,  8]  =  1.0\n",
       "  [9 ,  9]  =  1.0\n",
       "  [10, 10]  =  1.0\n",
       "  [11, 11]  =  1.0\n",
       "  [12, 12]  =  1.0\n",
       "  [13, 13]  =  1.0\n",
       "  [14, 14]  =  1.0\n",
       "  [15, 15]  =  1.0\n",
       "  [16, 16]  =  1.0"
      ]
     },
     "execution_count": 9,
     "metadata": {},
     "output_type": "execute_result"
    }
   ],
   "source": [
    "sigma_x(op4,3)^2"
   ]
  },
  {
   "cell_type": "markdown",
   "metadata": {},
   "source": [
    "<a id=\"sigmay\"></a>\n",
    "## 2. Pauli y-gate\n",
    "\n",
    "This gate is very similar to the x-gate, but with different phases. It maps $|0\\rangle$ to $i|1\\rangle$ and $|1\\rangle$ to $-i|0\\rangle$.\n",
    "\n",
    "$\\sigma_y(j)|1_j\\rangle = i|0_j\\rangle\\\\\n",
    "\\sigma_y(j)|0_j\\rangle = -i|1_j\\rangle$\n",
    "\n",
    "Parity is not conserved with this operation.\n",
    "\n",
    "The inputs for this gate are\n",
    "1. The operator type we are working with (op4 in this example)\n",
    "2. The mode we are applying the transformation to\n"
   ]
  },
  {
   "cell_type": "code",
   "execution_count": 10,
   "metadata": {
    "scrolled": true
   },
   "outputs": [
    {
     "data": {
      "text/plain": [
       "4×4 Array{Complex{Float64},2}:\n",
       " 0.0+0.0im  0.0+0.0im  -0.0-1.0im   0.0+0.0im\n",
       " 0.0+0.0im  0.0+0.0im   0.0+0.0im  -0.0-1.0im\n",
       " 0.0+1.0im  0.0+0.0im   0.0+0.0im   0.0+0.0im\n",
       " 0.0+0.0im  0.0+1.0im   0.0+0.0im   0.0+0.0im"
      ]
     },
     "execution_count": 10,
     "metadata": {},
     "output_type": "execute_result"
    }
   ],
   "source": [
    "Matrix(sigma_y(Op(2),1))"
   ]
  },
  {
   "cell_type": "markdown",
   "metadata": {},
   "source": [
    "The states being mixed are the same as with the Pauli x gates, but now with a phase difference."
   ]
  },
  {
   "cell_type": "code",
   "execution_count": 11,
   "metadata": {},
   "outputs": [
    {
     "name": "stdout",
     "output_type": "stream",
     "text": [
      "  [11]  =  1.0\n",
      "[1.0, 0.0, 1.0, 0.0]\n"
     ]
    }
   ],
   "source": [
    "println(cd1*cd3*vac)\n",
    "println(Array(basis(op4)[11,:]))"
   ]
  },
  {
   "cell_type": "code",
   "execution_count": 12,
   "metadata": {
    "scrolled": true
   },
   "outputs": [
    {
     "name": "stdout",
     "output_type": "stream",
     "text": [
      "  [15]  =  0.0+1.0im\n",
      "[1.0, 1.0, 1.0, 0.0]\n"
     ]
    }
   ],
   "source": [
    "println(sigma_y(op4,2)*cd1*cd3*vac)\n",
    "println(Array(basis(op4)[15,:]))"
   ]
  },
  {
   "cell_type": "markdown",
   "metadata": {},
   "source": [
    "We can also do compositions"
   ]
  },
  {
   "cell_type": "code",
   "execution_count": 13,
   "metadata": {},
   "outputs": [
    {
     "data": {
      "text/plain": [
       "16×16 Array{Complex{Float64},2}:\n",
       "  0.0+0.0im   0.0+0.0im  0.0+0.0im  …  0.0+0.0im   0.0+0.0im   0.0+0.0im\n",
       "  0.0+0.0im   0.0+0.0im  0.0+0.0im     0.0+0.0im   0.0+0.0im   0.0+0.0im\n",
       "  0.0+0.0im   0.0+0.0im  0.0+0.0im     0.0+0.0im   0.0+0.0im   0.0+0.0im\n",
       "  0.0+0.0im   0.0+0.0im  0.0+0.0im     0.0+0.0im   0.0+0.0im   0.0+0.0im\n",
       "  0.0+0.0im   0.0+0.0im  1.0-0.0im     0.0+0.0im   0.0+0.0im   0.0+0.0im\n",
       "  0.0+0.0im   0.0+0.0im  0.0+0.0im  …  0.0+0.0im   0.0+0.0im   0.0+0.0im\n",
       " -1.0+0.0im   0.0+0.0im  0.0+0.0im     0.0+0.0im   0.0+0.0im   0.0+0.0im\n",
       "  0.0+0.0im  -1.0+0.0im  0.0+0.0im     0.0+0.0im   0.0+0.0im   0.0+0.0im\n",
       "  0.0+0.0im   0.0+0.0im  0.0+0.0im     0.0+0.0im  -1.0+0.0im   0.0+0.0im\n",
       "  0.0+0.0im   0.0+0.0im  0.0+0.0im     0.0+0.0im   0.0+0.0im  -1.0+0.0im\n",
       "  0.0+0.0im   0.0+0.0im  0.0+0.0im  …  0.0+0.0im   0.0+0.0im   0.0+0.0im\n",
       "  0.0+0.0im   0.0+0.0im  0.0+0.0im     1.0-0.0im   0.0+0.0im   0.0+0.0im\n",
       "  0.0+0.0im   0.0+0.0im  0.0+0.0im     0.0+0.0im   0.0+0.0im   0.0+0.0im\n",
       "  0.0+0.0im   0.0+0.0im  0.0+0.0im     0.0+0.0im   0.0+0.0im   0.0+0.0im\n",
       "  0.0+0.0im   0.0+0.0im  0.0+0.0im     0.0+0.0im   0.0+0.0im   0.0+0.0im\n",
       "  0.0+0.0im   0.0+0.0im  0.0+0.0im  …  0.0+0.0im   0.0+0.0im   0.0+0.0im"
      ]
     },
     "execution_count": 13,
     "metadata": {},
     "output_type": "execute_result"
    }
   ],
   "source": [
    "Matrix(sigma_y(op4,2)*sigma_y(op4,3))"
   ]
  },
  {
   "cell_type": "markdown",
   "metadata": {},
   "source": [
    "We get the identity once again when taking the squared operator."
   ]
  },
  {
   "cell_type": "code",
   "execution_count": 14,
   "metadata": {},
   "outputs": [
    {
     "data": {
      "text/plain": [
       "16×16 SparseArrays.SparseMatrixCSC{Complex{Float64},Int64} with 16 stored entries:\n",
       "  [1 ,  1]  =  1.0-0.0im\n",
       "  [2 ,  2]  =  1.0-0.0im\n",
       "  [3 ,  3]  =  1.0-0.0im\n",
       "  [4 ,  4]  =  1.0-0.0im\n",
       "  [5 ,  5]  =  1.0-0.0im\n",
       "  [6 ,  6]  =  1.0-0.0im\n",
       "  [7 ,  7]  =  1.0-0.0im\n",
       "  [8 ,  8]  =  1.0-0.0im\n",
       "  [9 ,  9]  =  1.0-0.0im\n",
       "  [10, 10]  =  1.0-0.0im\n",
       "  [11, 11]  =  1.0-0.0im\n",
       "  [12, 12]  =  1.0-0.0im\n",
       "  [13, 13]  =  1.0-0.0im\n",
       "  [14, 14]  =  1.0-0.0im\n",
       "  [15, 15]  =  1.0-0.0im\n",
       "  [16, 16]  =  1.0-0.0im"
      ]
     },
     "execution_count": 14,
     "metadata": {},
     "output_type": "execute_result"
    }
   ],
   "source": [
    "sigma_y(op4,2)^2"
   ]
  },
  {
   "cell_type": "markdown",
   "metadata": {},
   "source": [
    "<a id=\"sigmaz\"></a>\n",
    "## 3. Pauli z-gate\n",
    "\n",
    "Unlike the previous two gates, this one is diagonal. It maps $|0\\rangle$ to $|0\\rangle$ and $|1\\rangle$ to $-|1\\rangle$. It will add a minus to the states with the specified mode being occupied.\n",
    "\n",
    "$\\sigma_z(j)|0_j\\rangle = |0_j\\rangle\\\\\n",
    "\\sigma_z(j)|1_j\\rangle = -|1_j\\rangle$\n",
    "\n",
    "In this case, parity is conserved with this operation.\n",
    "\n",
    "The inputs for this gate are\n",
    "1. The operator type we are working with (op4 in this example)\n",
    "2. The mode we are applying the transformation to"
   ]
  },
  {
   "cell_type": "code",
   "execution_count": 15,
   "metadata": {
    "scrolled": true
   },
   "outputs": [
    {
     "data": {
      "text/plain": [
       "4×4 Array{Float64,2}:\n",
       " 1.0  0.0   0.0   0.0\n",
       " 0.0  1.0   0.0   0.0\n",
       " 0.0  0.0  -1.0   0.0\n",
       " 0.0  0.0   0.0  -1.0"
      ]
     },
     "execution_count": 15,
     "metadata": {},
     "output_type": "execute_result"
    }
   ],
   "source": [
    "Matrix(sigma_z(Op(2),1))"
   ]
  },
  {
   "cell_type": "code",
   "execution_count": 16,
   "metadata": {
    "scrolled": true
   },
   "outputs": [
    {
     "name": "stdout",
     "output_type": "stream",
     "text": [
      "  [11]  =  1.0\n",
      "[1.0, 0.0, 1.0, 0.0]\n"
     ]
    }
   ],
   "source": [
    "println(cd1*cd3*vac)\n",
    "println(Array(basis(op4)[11,:]))"
   ]
  },
  {
   "cell_type": "code",
   "execution_count": 17,
   "metadata": {},
   "outputs": [
    {
     "name": "stdout",
     "output_type": "stream",
     "text": [
      "  [11]  =  1.0\n"
     ]
    }
   ],
   "source": [
    "println(sigma_z(op4,2)*cd1*cd3*vac)"
   ]
  },
  {
   "cell_type": "code",
   "execution_count": 18,
   "metadata": {},
   "outputs": [
    {
     "name": "stdout",
     "output_type": "stream",
     "text": [
      "  [11]  =  -1.0\n"
     ]
    }
   ],
   "source": [
    "println(sigma_z(op4,3)*cd1*cd3*vac)"
   ]
  },
  {
   "cell_type": "markdown",
   "metadata": {},
   "source": [
    "We can obviously do compositions by multiplying these operators, and it becomes the identity when squared."
   ]
  },
  {
   "cell_type": "code",
   "execution_count": 19,
   "metadata": {},
   "outputs": [
    {
     "data": {
      "text/plain": [
       "16×16 SparseArrays.SparseMatrixCSC{Float64,Int64} with 16 stored entries:\n",
       "  [1 ,  1]  =  1.0\n",
       "  [2 ,  2]  =  1.0\n",
       "  [3 ,  3]  =  1.0\n",
       "  [4 ,  4]  =  1.0\n",
       "  [5 ,  5]  =  1.0\n",
       "  [6 ,  6]  =  1.0\n",
       "  [7 ,  7]  =  1.0\n",
       "  [8 ,  8]  =  1.0\n",
       "  [9 ,  9]  =  1.0\n",
       "  [10, 10]  =  1.0\n",
       "  [11, 11]  =  1.0\n",
       "  [12, 12]  =  1.0\n",
       "  [13, 13]  =  1.0\n",
       "  [14, 14]  =  1.0\n",
       "  [15, 15]  =  1.0\n",
       "  [16, 16]  =  1.0"
      ]
     },
     "execution_count": 19,
     "metadata": {},
     "output_type": "execute_result"
    }
   ],
   "source": [
    "sigma_z(op4,2)^2"
   ]
  },
  {
   "cell_type": "markdown",
   "metadata": {},
   "source": [
    "<a id=\"phase\"></a>\n",
    "## 4. Phase shift\n",
    "\n",
    "This operation is a generalization of the Pauli z gate. It checks whether or not the mode j is occupied, and if it is, it applies a phase to it.\n",
    "\n",
    "$R(j,\\phi) |0\\rangle = |0\\rangle \\\\\n",
    "R(j,\\phi) |1\\rangle = e^{i\\phi}|1\\rangle$\n",
    "\n",
    "when $\\phi=\\pi$ we recover the Pauli z gate, and when $\\phi = \\pi/4$ we get the T-gate.\n",
    "\n",
    "Phase shift gate does conserve parity.\n",
    "\n",
    "The inputs for this gate are\n",
    "1. The operator type we are working with (op4 in this example)\n",
    "2. The mode we are applying the transformation to\n",
    "3. The phase phi\n"
   ]
  },
  {
   "cell_type": "code",
   "execution_count": 20,
   "metadata": {
    "scrolled": true
   },
   "outputs": [
    {
     "data": {
      "text/plain": [
       "4×4 Array{Complex{Float64},2}:\n",
       " 1.0+0.0im  0.0+0.0im       0.0+0.0im            0.0+0.0im\n",
       " 0.0+0.0im  1.0+0.0im       0.0+0.0im            0.0+0.0im\n",
       " 0.0+0.0im  0.0+0.0im  0.707107+0.707107im       0.0+0.0im\n",
       " 0.0+0.0im  0.0+0.0im       0.0+0.0im       0.707107+0.707107im"
      ]
     },
     "execution_count": 20,
     "metadata": {},
     "output_type": "execute_result"
    }
   ],
   "source": [
    "Matrix(phase(Op(2),1,pi/4))"
   ]
  },
  {
   "cell_type": "code",
   "execution_count": 21,
   "metadata": {
    "scrolled": true
   },
   "outputs": [
    {
     "data": {
      "text/plain": [
       "4×4 Array{Complex{Float64},2}:\n",
       " 1.0+0.0im  0.0+0.0im   0.0+0.0im   0.0+0.0im\n",
       " 0.0+0.0im  1.0+0.0im   0.0+0.0im   0.0+0.0im\n",
       " 0.0+0.0im  0.0+0.0im  -1.0+0.0im   0.0+0.0im\n",
       " 0.0+0.0im  0.0+0.0im   0.0+0.0im  -1.0+0.0im"
      ]
     },
     "execution_count": 21,
     "metadata": {},
     "output_type": "execute_result"
    }
   ],
   "source": [
    "Matrix(phase(Op(2),1,pi)) #we can recover the pauli z by chosing pi as the phase"
   ]
  },
  {
   "cell_type": "code",
   "execution_count": 22,
   "metadata": {},
   "outputs": [
    {
     "data": {
      "text/plain": [
       "16-element SparseArrays.SparseVector{Complex{Float64},Int64} with 1 stored entry:\n",
       "  [11]  =  1.0+0.0im"
      ]
     },
     "execution_count": 22,
     "metadata": {},
     "output_type": "execute_result"
    }
   ],
   "source": [
    "phase(op4,2,pi/4)*cd1*cd3*vac"
   ]
  },
  {
   "cell_type": "code",
   "execution_count": 23,
   "metadata": {
    "scrolled": true
   },
   "outputs": [
    {
     "data": {
      "text/plain": [
       "16-element SparseArrays.SparseVector{Complex{Float64},Int64} with 1 stored entry:\n",
       "  [11]  =  0.707107+0.707107im"
      ]
     },
     "execution_count": 23,
     "metadata": {},
     "output_type": "execute_result"
    }
   ],
   "source": [
    "phase(op4,3,pi/4)*cd1*cd3*vac"
   ]
  },
  {
   "cell_type": "markdown",
   "metadata": {},
   "source": [
    "We can obviusly do compositions by multplying these operators."
   ]
  },
  {
   "cell_type": "code",
   "execution_count": 24,
   "metadata": {
    "scrolled": true
   },
   "outputs": [
    {
     "data": {
      "text/plain": [
       "16-element SparseArrays.SparseVector{Complex{Float64},Int64} with 1 stored entry:\n",
       "  [11]  =  -1.0+0.0im"
      ]
     },
     "execution_count": 24,
     "metadata": {},
     "output_type": "execute_result"
    }
   ],
   "source": [
    "phase(op4,1,3pi/4)*phase(op4,3,pi/4)*cd1*cd3*vac"
   ]
  },
  {
   "cell_type": "markdown",
   "metadata": {},
   "source": [
    "When squared, it is not in general an identity."
   ]
  },
  {
   "cell_type": "code",
   "execution_count": 25,
   "metadata": {},
   "outputs": [
    {
     "data": {
      "text/plain": [
       "16×16 SparseArrays.SparseMatrixCSC{Complex{Float64},Int64} with 16 stored entries:\n",
       "  [1 ,  1]  =  1.0+0.0im\n",
       "  [2 ,  2]  =  1.0+0.0im\n",
       "  [3 ,  3]  =  0.0+1.0im\n",
       "  [4 ,  4]  =  0.0+1.0im\n",
       "  [5 ,  5]  =  1.0+0.0im\n",
       "  [6 ,  6]  =  1.0+0.0im\n",
       "  [7 ,  7]  =  0.0+1.0im\n",
       "  [8 ,  8]  =  0.0+1.0im\n",
       "  [9 ,  9]  =  1.0+0.0im\n",
       "  [10, 10]  =  1.0+0.0im\n",
       "  [11, 11]  =  0.0+1.0im\n",
       "  [12, 12]  =  0.0+1.0im\n",
       "  [13, 13]  =  1.0+0.0im\n",
       "  [14, 14]  =  1.0+0.0im\n",
       "  [15, 15]  =  0.0+1.0im\n",
       "  [16, 16]  =  0.0+1.0im"
      ]
     },
     "execution_count": 25,
     "metadata": {},
     "output_type": "execute_result"
    }
   ],
   "source": [
    "phase(op4,3,pi/4)^2"
   ]
  },
  {
   "cell_type": "markdown",
   "metadata": {},
   "source": [
    "<a id=\"hadamard\"></a>\n",
    "## 5. Hadamard\n",
    "\n",
    "In distinguishable systems, Hadamard gate is an operation acting on a single qubit which maps the basis state $|0\\rangle$ to $\\frac{|0\\rangle + |1\\rangle}{\\sqrt{2}}$ and $|1\\rangle$ to $\\frac{|0\\rangle - |1\\rangle}{\\sqrt{2}}$. Basically, it creates a superposition between the basis elements.\n",
    "\n",
    "When dealing with fermions, there is an extra complexity. The superselection rules of parity make it impossible to mix states with different fermionic number parity. A gate mapping unoccupied states to a combination of occupied and unoccupied would hence not be allowed. So the best fit candidate for this gate is applied on states of 1 fermion in two modes such that\n",
    "\n",
    "$|01\\rangle \\rightarrow \\frac{|01\\rangle + |10\\rangle}{\\sqrt{2}}\\\\\n",
    "|10\\rangle \\rightarrow \\frac{|01\\rangle - |10\\rangle}{\\sqrt{2}}$\n",
    "\n",
    "So, what we are really doing, is changing the operators as such:\n",
    "\n",
    "$c_i^\\dagger \\rightarrow \\frac{c_i^\\dagger + c_j^\\dagger}{\\sqrt{2}}\\\\\n",
    "c_j^\\dagger \\rightarrow \\frac{c_i^\\dagger - c_j^\\dagger}{\\sqrt{2}}$\n",
    "\n",
    "we can easily show that this transformation results in the mapping defined above. Besides, it show how to transform the other two possible states of 2 modes:\n",
    "\n",
    "$|00\\rangle \\rightarrow |00\\rangle\\\\\n",
    "|11\\rangle \\rightarrow |11\\rangle$\n",
    "\n",
    "which is the identity transformation.\n",
    "\n",
    "The inputs for this gate are\n",
    "1. The operator type we are working with (op4 in this example)\n",
    "2. The mode we are transforming with a '+'\n",
    "3. The mode we are transforming with a '-'\n",
    "\n",
    "Let's see how it works:\n"
   ]
  },
  {
   "cell_type": "code",
   "execution_count": 26,
   "metadata": {},
   "outputs": [
    {
     "data": {
      "text/plain": [
       "16-element SparseArrays.SparseVector{Float64,Int64} with 2 stored entries:\n",
       "  [7 ]  =  0.707107\n",
       "  [11]  =  0.707107"
      ]
     },
     "execution_count": 26,
     "metadata": {},
     "output_type": "execute_result"
    }
   ],
   "source": [
    "#applied to a slater determinant\n",
    "hadamard(op4,1,2)*cd1*cd3*vac"
   ]
  },
  {
   "cell_type": "markdown",
   "metadata": {},
   "source": [
    "We mapped our original diagonal state to a linear combination of the following basis states"
   ]
  },
  {
   "cell_type": "code",
   "execution_count": 27,
   "metadata": {},
   "outputs": [
    {
     "name": "stdout",
     "output_type": "stream",
     "text": [
      "[0.0, 1.0, 1.0, 0.0]\n",
      "[1.0, 0.0, 1.0, 0.0]\n"
     ]
    }
   ],
   "source": [
    "println(Array(basis(op4)[7,:]))\n",
    "println(Array(basis(op4)[11,:]))"
   ]
  },
  {
   "cell_type": "markdown",
   "metadata": {},
   "source": [
    "We can apply multiple hadamard operations:"
   ]
  },
  {
   "cell_type": "code",
   "execution_count": 28,
   "metadata": {},
   "outputs": [
    {
     "data": {
      "text/plain": [
       "16-element SparseArrays.SparseVector{Float64,Int64} with 4 stored entries:\n",
       "  [6 ]  =  0.5\n",
       "  [7 ]  =  0.5\n",
       "  [10]  =  0.5\n",
       "  [11]  =  0.5"
      ]
     },
     "execution_count": 28,
     "metadata": {},
     "output_type": "execute_result"
    }
   ],
   "source": [
    "hadamard(op4,3,4)*hadamard(op4,1,2)*cd1*cd3*vac"
   ]
  },
  {
   "cell_type": "code",
   "execution_count": 29,
   "metadata": {},
   "outputs": [
    {
     "name": "stdout",
     "output_type": "stream",
     "text": [
      "[0.0, 1.0, 0.0, 1.0]\n",
      "[0.0, 1.0, 1.0, 0.0]\n",
      "[1.0, 0.0, 0.0, 1.0]\n",
      "[1.0, 0.0, 1.0, 0.0]\n"
     ]
    }
   ],
   "source": [
    "println(Array(basis(op4)[6,:]))\n",
    "println(Array(basis(op4)[7,:]))\n",
    "println(Array(basis(op4)[10,:]))\n",
    "println(Array(basis(op4)[11,:]))"
   ]
  },
  {
   "cell_type": "markdown",
   "metadata": {},
   "source": [
    "This state is of course non entangled:"
   ]
  },
  {
   "cell_type": "code",
   "execution_count": 30,
   "metadata": {},
   "outputs": [
    {
     "name": "stdout",
     "output_type": "stream",
     "text": [
      "[1.0, 1.0, 0.0, 0.0] are the eigenvalues of the rhosp.   Entanglement is  0.0\n"
     ]
    }
   ],
   "source": [
    "state = State_sparse(hadamard(op4,3,4)*hadamard(op4,1,2)*cd1*cd3*vac, op4)\n",
    "println(eigensp(state), \" are the eigenvalues of the rhosp.   Entanglement is  \", ssp(state))"
   ]
  },
  {
   "cell_type": "code",
   "execution_count": 31,
   "metadata": {},
   "outputs": [
    {
     "data": {
      "text/plain": [
       "16-element SparseArrays.SparseVector{Float64,Int64} with 2 stored entries:\n",
       "  [4 ]  =  0.707107\n",
       "  [13]  =  0.707107"
      ]
     },
     "execution_count": 31,
     "metadata": {},
     "output_type": "execute_result"
    }
   ],
   "source": [
    "state_ent0 = (cd1*cd2 + cd3*cd4)*vac/sqrt(2)"
   ]
  },
  {
   "cell_type": "code",
   "execution_count": 32,
   "metadata": {},
   "outputs": [
    {
     "data": {
      "text/plain": [
       "16-element SparseArrays.SparseVector{Float64,Int64} with 4 stored entries:\n",
       "  [4 ]  =  0.5\n",
       "  [7 ]  =  0.5\n",
       "  [10]  =  0.5\n",
       "  [13]  =  0.5"
      ]
     },
     "execution_count": 32,
     "metadata": {},
     "output_type": "execute_result"
    }
   ],
   "source": [
    "hadamard(op4,1,3)*state_ent0"
   ]
  },
  {
   "cell_type": "code",
   "execution_count": 33,
   "metadata": {},
   "outputs": [
    {
     "name": "stdout",
     "output_type": "stream",
     "text": [
      "[0.0, 0.0, 1.0, 1.0]\n",
      "[0.0, 1.0, 1.0, 0.0]\n",
      "[1.0, 0.0, 0.0, 1.0]\n",
      "[1.0, 1.0, 0.0, 0.0]\n"
     ]
    }
   ],
   "source": [
    "println(Array(basis(op4)[4,:]))\n",
    "println(Array(basis(op4)[7,:]))\n",
    "println(Array(basis(op4)[10,:]))\n",
    "println(Array(basis(op4)[13,:]))"
   ]
  },
  {
   "cell_type": "code",
   "execution_count": 34,
   "metadata": {
    "scrolled": true
   },
   "outputs": [
    {
     "data": {
      "text/plain": [
       "1.0"
      ]
     },
     "execution_count": 34,
     "metadata": {},
     "output_type": "execute_result"
    }
   ],
   "source": [
    "state_ent = State_sparse(state_ent0, op4);\n",
    "ssp(state_ent)"
   ]
  },
  {
   "cell_type": "markdown",
   "metadata": {},
   "source": [
    "Finally, this is how the hadamard matrix looks:"
   ]
  },
  {
   "cell_type": "code",
   "execution_count": 35,
   "metadata": {
    "scrolled": true
   },
   "outputs": [
    {
     "data": {
      "text/plain": [
       "4×4 Array{Float64,2}:\n",
       " 1.0  0.0       0.0       0.0\n",
       " 0.0  0.707107  0.707107  0.0\n",
       " 0.0  0.707107  0.707107  0.0\n",
       " 0.0  0.0       0.0       1.0"
      ]
     },
     "execution_count": 35,
     "metadata": {},
     "output_type": "execute_result"
    }
   ],
   "source": [
    "Matrix(hadamard(Op(2),1,2)) # in dimension 2"
   ]
  },
  {
   "cell_type": "code",
   "execution_count": 36,
   "metadata": {
    "scrolled": true
   },
   "outputs": [
    {
     "data": {
      "text/plain": [
       "4×2 Array{Float64,2}:\n",
       " 0.0  0.0\n",
       " 0.0  1.0\n",
       " 1.0  0.0\n",
       " 1.0  1.0"
      ]
     },
     "execution_count": 36,
     "metadata": {},
     "output_type": "execute_result"
    }
   ],
   "source": [
    "Matrix(basis(Op(2)))"
   ]
  },
  {
   "cell_type": "code",
   "execution_count": 37,
   "metadata": {
    "scrolled": true
   },
   "outputs": [
    {
     "data": {
      "text/plain": [
       "8×8 Array{Float64,2}:\n",
       " 1.0  0.0  0.0       0.0       0.0       0.0       0.0  0.0\n",
       " 0.0  1.0  0.0       0.0       0.0       0.0       0.0  0.0\n",
       " 0.0  0.0  0.707107  0.0       0.707107  0.0       0.0  0.0\n",
       " 0.0  0.0  0.0       0.707107  0.0       0.707107  0.0  0.0\n",
       " 0.0  0.0  0.707107  0.0       0.707107  0.0       0.0  0.0\n",
       " 0.0  0.0  0.0       0.707107  0.0       0.707107  0.0  0.0\n",
       " 0.0  0.0  0.0       0.0       0.0       0.0       1.0  0.0\n",
       " 0.0  0.0  0.0       0.0       0.0       0.0       0.0  1.0"
      ]
     },
     "execution_count": 37,
     "metadata": {},
     "output_type": "execute_result"
    }
   ],
   "source": [
    "Matrix(hadamard(Op(3),1,2)) # in dimension 3"
   ]
  },
  {
   "cell_type": "code",
   "execution_count": 38,
   "metadata": {},
   "outputs": [
    {
     "data": {
      "text/plain": [
       "8×3 Array{Float64,2}:\n",
       " 0.0  0.0  0.0\n",
       " 0.0  0.0  1.0\n",
       " 0.0  1.0  0.0\n",
       " 0.0  1.0  1.0\n",
       " 1.0  0.0  0.0\n",
       " 1.0  0.0  1.0\n",
       " 1.0  1.0  0.0\n",
       " 1.0  1.0  1.0"
      ]
     },
     "execution_count": 38,
     "metadata": {},
     "output_type": "execute_result"
    }
   ],
   "source": [
    "Matrix(basis(Op(3)))"
   ]
  },
  {
   "cell_type": "markdown",
   "metadata": {},
   "source": [
    "<a id=\"ucnot\"></a>\n",
    "## 6. Unitary Controlled NOT (Ucnot)\n",
    "\n",
    "Controlled gates act on 2 or more entries, where one acts as a control for determining whether or not to apply some operation on the other entries, which behave as targets. Controlled NOT is the most remarkable of these, as it is one of the fundamental operations that allow universal quantum computation. This operation changes the target if and only if the control entry is activated. For distinguishable qubits systems, if the first mode acts as control and the second as target, we have the following mapping\n",
    "\n",
    "$|00\\rangle \\rightarrow |00\\rangle\\\\\n",
    "|01\\rangle \\rightarrow |01\\rangle\\\\\n",
    "|10\\rangle \\rightarrow |11\\rangle\\\\\n",
    "|11\\rangle \\rightarrow |10\\rangle$\n",
    "\n",
    "We will have the same mapping for fermions, but now 0 representing a disoccupied mode and 1 an occupied mode.\n",
    "We can write this operation as\n",
    "$U_{\\rm CNOT} = |0\\rangle\\langle 0| \\otimes I + |1\\rangle \\langle 1|\\otimes \\sigma_x = exp[i\\frac{\\pi}{4}(1-\\sigma_z)\\otimes (1-\\sigma_x)]$.\n",
    "\n",
    "It is important to highlight that this operation does not conserve the fermionic number parity in general. Conservation will strongly depend on which state is it applied. A common solution to this problem is to apply a Ucnot with more than 1 target, defining a subspace with fixed parity even after the application of Ucnot.\n",
    "For instance, if we have the following state\n",
    "\n",
    "$\\frac{1}{2}(c_5^\\dagger + c_6^\\dagger)(c_1^\\dagger c_3^\\dagger + c_2^\\dagger c_4^\\dagger)|0\\rangle$\n",
    "\n",
    "where 5 and 6 are auxiliary modes (ancilla). We can perform a control gate with mode 5 as control, and modes 1 **and** 2 as targets. Modes 1 and 2 form a subspace with occupation 1. Hence the application of Ucnot will not altere the parity.\n",
    "\n",
    "The inputs for this gate are\n",
    "1. The operator type we are working with (op4 in this example)\n",
    "2. The control mode\n",
    "3. The target mode\n",
    "\n",
    "For targeting multiple modes, you can just multiply individual operations.\n",
    "\n",
    "Let's see how it works:\n"
   ]
  },
  {
   "cell_type": "code",
   "execution_count": 39,
   "metadata": {},
   "outputs": [
    {
     "data": {
      "text/plain": [
       "16-element SparseArrays.SparseVector{Float64,Int64} with 1 stored entry:\n",
       "  [11]  =  1.0"
      ]
     },
     "execution_count": 39,
     "metadata": {},
     "output_type": "execute_result"
    }
   ],
   "source": [
    "#applied to a slater determinant\n",
    "ds = cd1*cd3*vac"
   ]
  },
  {
   "cell_type": "code",
   "execution_count": 40,
   "metadata": {},
   "outputs": [
    {
     "data": {
      "text/plain": [
       "16-element SparseArrays.SparseVector{Float64,Int64} with 1 stored entry:\n",
       "  [9 ]  =  1.0"
      ]
     },
     "execution_count": 40,
     "metadata": {},
     "output_type": "execute_result"
    }
   ],
   "source": [
    "ucnot(op4,1,3)*ds"
   ]
  },
  {
   "cell_type": "code",
   "execution_count": 41,
   "metadata": {},
   "outputs": [
    {
     "data": {
      "text/plain": [
       "16-element SparseArrays.SparseVector{Float64,Int64} with 1 stored entry:\n",
       "  [12]  =  1.0"
      ]
     },
     "execution_count": 41,
     "metadata": {},
     "output_type": "execute_result"
    }
   ],
   "source": [
    "ucnot(op4,1,4)*ds"
   ]
  },
  {
   "cell_type": "code",
   "execution_count": 42,
   "metadata": {
    "scrolled": true
   },
   "outputs": [
    {
     "name": "stdout",
     "output_type": "stream",
     "text": [
      "[1.0, 0.0, 1.0, 0.0]\n",
      "[1.0, 0.0, 0.0, 0.0]\n",
      "[1.0, 0.0, 1.0, 1.0]\n"
     ]
    }
   ],
   "source": [
    "println(Array(basis(op4)[11,:]))\n",
    "println(Array(basis(op4)[9,:]))\n",
    "println(Array(basis(op4)[12,:]))"
   ]
  },
  {
   "cell_type": "code",
   "execution_count": 43,
   "metadata": {
    "scrolled": true
   },
   "outputs": [
    {
     "data": {
      "text/plain": [
       "64-element SparseArrays.SparseVector{Float64,Int64} with 4 stored entries:\n",
       "  [22]  =  0.5\n",
       "  [23]  =  0.5\n",
       "  [42]  =  0.5\n",
       "  [43]  =  0.5"
      ]
     },
     "execution_count": 43,
     "metadata": {},
     "output_type": "execute_result"
    }
   ],
   "source": [
    "op6 = Op(6);\n",
    "vac6 = vacuum(op6);\n",
    "\n",
    "state_ancilla = 1/2*(cdm(op6,5) + cdm(op6,6))*(cdm(op6,1)*cdm(op6,3)+cdm(op6,2)*cdm(op6,4))*vac6"
   ]
  },
  {
   "cell_type": "code",
   "execution_count": 44,
   "metadata": {},
   "outputs": [
    {
     "name": "stdout",
     "output_type": "stream",
     "text": [
      "[0.0, 1.0, 0.0, 1.0, 0.0, 1.0]\n",
      "[0.0, 1.0, 0.0, 1.0, 1.0, 0.0]\n",
      "[1.0, 0.0, 1.0, 0.0, 0.0, 1.0]\n",
      "[1.0, 0.0, 1.0, 0.0, 1.0, 0.0]\n"
     ]
    }
   ],
   "source": [
    "println(Array(basis(op6)[22,:]))\n",
    "println(Array(basis(op6)[23,:]))\n",
    "println(Array(basis(op6)[42,:]))\n",
    "println(Array(basis(op6)[43,:]))"
   ]
  },
  {
   "cell_type": "code",
   "execution_count": 45,
   "metadata": {},
   "outputs": [
    {
     "data": {
      "text/plain": [
       "64-element SparseArrays.SparseVector{Float64,Int64} with 4 stored entries:\n",
       "  [22]  =  0.5\n",
       "  [27]  =  0.5\n",
       "  [39]  =  0.5\n",
       "  [42]  =  0.5"
      ]
     },
     "execution_count": 45,
     "metadata": {},
     "output_type": "execute_result"
    }
   ],
   "source": [
    "ucnot(op6,5,2)*ucnot(op6,5,1)*state_ancilla"
   ]
  },
  {
   "cell_type": "code",
   "execution_count": 46,
   "metadata": {},
   "outputs": [
    {
     "name": "stdout",
     "output_type": "stream",
     "text": [
      "[0.0, 1.0, 0.0, 1.0, 0.0, 1.0] equal [0.0, 1.0, 0.0, 1.0, 0.0, 1.0]\n",
      "[0.0, 1.0, 1.0, 0.0, 1.0, 0.0] changed to [1.0, 0.0, 1.0, 0.0, 0.0, 1.0]\n",
      "[1.0, 0.0, 0.0, 1.0, 1.0, 0.0] changed to [0.0, 1.0, 0.0, 1.0, 1.0, 0.0]\n",
      "[1.0, 0.0, 1.0, 0.0, 0.0, 1.0] equal [1.0, 0.0, 1.0, 0.0, 1.0, 0.0]\n"
     ]
    }
   ],
   "source": [
    "println(Array(basis(op6)[22,:]), \" equal \",Array(basis(op6)[22,:])) \n",
    "println(Array(basis(op6)[27,:]),\" changed to \", Array(basis(op6)[42,:]))\n",
    "println(Array(basis(op6)[39,:]),\" changed to \", Array(basis(op6)[23,:]))\n",
    "println(Array(basis(op6)[42,:]),\" equal \", Array(basis(op6)[43,:])) "
   ]
  },
  {
   "cell_type": "markdown",
   "metadata": {},
   "source": [
    "Note: applying only one Ucnot gave rise to a state with no definite fermion number parity!"
   ]
  },
  {
   "cell_type": "code",
   "execution_count": 47,
   "metadata": {},
   "outputs": [
    {
     "data": {
      "text/plain": [
       "64-element SparseArrays.SparseVector{Float64,Int64} with 4 stored entries:\n",
       "  [11]  =  0.5\n",
       "  [22]  =  0.5\n",
       "  [42]  =  0.5\n",
       "  [55]  =  0.5"
      ]
     },
     "execution_count": 47,
     "metadata": {},
     "output_type": "execute_result"
    }
   ],
   "source": [
    "ucnot(op6,5,1)*state_ancilla"
   ]
  },
  {
   "cell_type": "code",
   "execution_count": 48,
   "metadata": {
    "scrolled": true
   },
   "outputs": [
    {
     "name": "stdout",
     "output_type": "stream",
     "text": [
      "[0.0, 0.0, 1.0, 0.0, 1.0, 0.0] 2 particles\n",
      "[0.0, 1.0, 0.0, 1.0, 0.0, 1.0] 3 particles\n",
      "[1.0, 0.0, 1.0, 0.0, 0.0, 1.0] 3 particles\n",
      "[1.0, 1.0, 0.0, 1.0, 1.0, 0.0] 2 particles\n"
     ]
    }
   ],
   "source": [
    "println(Array(basis(op6)[11,:]),\" 2 particles\")\n",
    "println(Array(basis(op6)[22,:]), \" 3 particles\")\n",
    "println(Array(basis(op6)[42,:]), \" 3 particles\")\n",
    "println(Array(basis(op6)[55,:]), \" 2 particles\")"
   ]
  },
  {
   "cell_type": "markdown",
   "metadata": {},
   "source": [
    "<a id=\"swap\"></a>\n",
    "## 7. SWAP\n",
    "\n",
    "The SWAP gates exchange the occupation of two fermionic modes. \n",
    "\n",
    "$S_{ij}|0_i0_j\\rangle = |0_i 0_j\\rangle\\\\\n",
    "S_{ij}|0_i1_j\\rangle = |1_i 0_j\\rangle\\\\\n",
    "S_{ij}|1_i0_j\\rangle = |0_i 1_j\\rangle\\\\\n",
    "S_{ij}|1_i1_j\\rangle = -|1_i 1_j\\rangle$\n",
    "\n",
    "It is different from the usual SWAP operation from qubits in the \"-\" sign of the double occupied case. This is due to the anticonmutation properties of fermions. This transformation can be accomplishied by the following fermionic operation:\n",
    "\n",
    "$S = I - a_i^\\dagger a_i - a_j^\\dagger a_j + a_i^\\dagger a_j + a_j^\\dagger a_i = \\exp(i \\frac{\\pi}{2}(a_i^\\dagger-a_j^\\dagger)(a_i-a_j))$\n",
    "\n",
    "This operation preserves fermionic number parity.\n",
    "\n",
    "The inputs for this gate are\n",
    "1. The operator type we are working with (op4 in this example)\n",
    "2. The first mode we want to swap\n",
    "3. The second mode we want to swap"
   ]
  },
  {
   "cell_type": "code",
   "execution_count": 49,
   "metadata": {},
   "outputs": [
    {
     "data": {
      "text/plain": [
       "4×4 Array{Float64,2}:\n",
       " 1.0  0.0  0.0   0.0\n",
       " 0.0  0.0  1.0   0.0\n",
       " 0.0  1.0  0.0   0.0\n",
       " 0.0  0.0  0.0  -1.0"
      ]
     },
     "execution_count": 49,
     "metadata": {},
     "output_type": "execute_result"
    }
   ],
   "source": [
    "Matrix(swap(Op(2),1,2))"
   ]
  },
  {
   "cell_type": "code",
   "execution_count": 50,
   "metadata": {},
   "outputs": [
    {
     "name": "stdout",
     "output_type": "stream",
     "text": [
      "  [11]  =  1.0\n",
      "[1.0, 0.0, 1.0, 0.0]\n"
     ]
    }
   ],
   "source": [
    "op4 = Op(4)\n",
    "cd1 = cdm(op4,1)\n",
    "cd3 = cdm(op4,3)\n",
    "vac = vacuum(op4)\n",
    "println(cd1*cd3*vac)\n",
    "println(Array(basis(op4)[11,:]))"
   ]
  },
  {
   "cell_type": "code",
   "execution_count": 51,
   "metadata": {
    "scrolled": true
   },
   "outputs": [
    {
     "name": "stdout",
     "output_type": "stream",
     "text": [
      "  [13]  =  1.0\n",
      "[1.0, 1.0, 0.0, 0.0]\n"
     ]
    }
   ],
   "source": [
    "println(swap(op4,2,3)*cd1*cd3*vac)\n",
    "println(Array(basis(op4)[13,:]))"
   ]
  },
  {
   "cell_type": "markdown",
   "metadata": {},
   "source": [
    "It can be naturally composed."
   ]
  },
  {
   "cell_type": "code",
   "execution_count": 52,
   "metadata": {},
   "outputs": [
    {
     "name": "stdout",
     "output_type": "stream",
     "text": [
      "  [10]  =  1.0\n",
      "[1.0, 0.0, 0.0, 1.0]\n"
     ]
    }
   ],
   "source": [
    "println(swap(op4,2,4)*swap(op4,2,3)*cd1*cd3*vac)\n",
    "println(Array(basis(op4)[10,:]))"
   ]
  },
  {
   "cell_type": "code",
   "execution_count": 53,
   "metadata": {},
   "outputs": [
    {
     "data": {
      "text/plain": [
       "16×16 SparseArrays.SparseMatrixCSC{Float64,Int64} with 16 stored entries:\n",
       "  [1 ,  1]  =  1.0\n",
       "  [2 ,  2]  =  1.0\n",
       "  [3 ,  3]  =  1.0\n",
       "  [4 ,  4]  =  1.0\n",
       "  [5 ,  5]  =  1.0\n",
       "  [6 ,  6]  =  1.0\n",
       "  [7 ,  7]  =  1.0\n",
       "  [8 ,  8]  =  1.0\n",
       "  [9 ,  9]  =  1.0\n",
       "  [10, 10]  =  1.0\n",
       "  [11, 11]  =  1.0\n",
       "  [12, 12]  =  1.0\n",
       "  [13, 13]  =  1.0\n",
       "  [14, 14]  =  1.0\n",
       "  [15, 15]  =  1.0\n",
       "  [16, 16]  =  1.0"
      ]
     },
     "execution_count": 53,
     "metadata": {},
     "output_type": "execute_result"
    }
   ],
   "source": [
    "swap(op4,2,4)^2"
   ]
  },
  {
   "cell_type": "markdown",
   "metadata": {},
   "source": [
    "<a id=\"unitaries\"></a>\n",
    "## 8. General Unitaries\n",
    "\n",
    "This is not a gate, just a reminder that you can actually do general unitaries of fermionic operatiors by considering the exponential function. This can come in handy for doing any unitary operation, such as a time evolution of a given hamiltonian.\n",
    "\n",
    "In order to exponentiate a matrix, we must first converte the sparse operator to dense. This has the consequence that we lose the advantages of sparse representations. Therefore this can only be made for relativly small dimensions."
   ]
  },
  {
   "cell_type": "code",
   "execution_count": 54,
   "metadata": {},
   "outputs": [
    {
     "data": {
      "text/plain": [
       "4×4 Array{Complex{Float64},2}:\n",
       " 1.0+0.0im       0.0+0.0im            0.0+0.0im       0.0+0.0im\n",
       " 0.0+0.0im  0.877583+0.0im            0.0+0.479426im  0.0+0.0im\n",
       " 0.0+0.0im       0.0+0.479426im  0.877583+0.0im       0.0+0.0im\n",
       " 0.0+0.0im       0.0+0.0im            0.0+0.0im       1.0+0.0im"
      ]
     },
     "execution_count": 54,
     "metadata": {},
     "output_type": "execute_result"
    }
   ],
   "source": [
    "t=1/2\n",
    "unit = exp(Matrix(im*t*(cdcm(Op(2),1,2)+cdcm(Op(2),2,1))))"
   ]
  }
 ],
 "metadata": {
  "kernelspec": {
   "display_name": "Julia 1.4.0",
   "language": "julia",
   "name": "julia-1.4"
  },
  "language_info": {
   "file_extension": ".jl",
   "mimetype": "application/julia",
   "name": "julia",
   "version": "1.4.0"
  }
 },
 "nbformat": 4,
 "nbformat_minor": 4
}
