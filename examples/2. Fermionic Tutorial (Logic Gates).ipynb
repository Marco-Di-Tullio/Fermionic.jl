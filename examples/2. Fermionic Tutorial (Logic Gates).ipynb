{
 "cells": [
  {
   "cell_type": "markdown",
   "metadata": {},
   "source": [
    "# Tutorial on Logic gates\n",
    "\n",
    "In quantum computing a quantum logic gate is a basic quantum circuit operating on a small number of qubits. They are the building blocks of quantum circuits, like classical logic gates are for conventional digital circuits. When dealing with fermions, we care about the ocupation of different modes in a system. We can define the analog of the usual qubit-gates with fermions.\n",
    "\n",
    "Gates included in this package are:\n",
    "\n",
    "1. [Hadamard](#hadamard)\n",
    "2. [Ucnot](#ucnot)\n",
    "\n",
    "Note: avaiable gates will be expanded shortly"
   ]
  },
  {
   "cell_type": "code",
   "execution_count": 3,
   "metadata": {},
   "outputs": [],
   "source": [
    "#initialize the package\n",
    "using Fermionic"
   ]
  },
  {
   "cell_type": "markdown",
   "metadata": {},
   "source": [
    "Let's first initialize the operators and refresh the shape of the basis (see the previous tutorial for a more detailed explanation on these topics)"
   ]
  },
  {
   "cell_type": "code",
   "execution_count": 7,
   "metadata": {},
   "outputs": [],
   "source": [
    "op4 = Op(4)\n",
    "\n",
    "cd1 = cdm(op4,1)\n",
    "cd2 = cdm(op4,2)\n",
    "cd3 = cdm(op4,3)\n",
    "cd4 = cdm(op4,4)\n",
    "\n",
    "vac = vacuum(op4);"
   ]
  },
  {
   "cell_type": "code",
   "execution_count": 6,
   "metadata": {
    "scrolled": true
   },
   "outputs": [
    {
     "data": {
      "text/plain": [
       "16×4 Array{Float64,2}:\n",
       " 0.0  0.0  0.0  0.0\n",
       " 0.0  0.0  0.0  1.0\n",
       " 0.0  0.0  1.0  0.0\n",
       " 0.0  0.0  1.0  1.0\n",
       " 0.0  1.0  0.0  0.0\n",
       " 0.0  1.0  0.0  1.0\n",
       " 0.0  1.0  1.0  0.0\n",
       " 0.0  1.0  1.0  1.0\n",
       " 1.0  0.0  0.0  0.0\n",
       " 1.0  0.0  0.0  1.0\n",
       " 1.0  0.0  1.0  0.0\n",
       " 1.0  0.0  1.0  1.0\n",
       " 1.0  1.0  0.0  0.0\n",
       " 1.0  1.0  0.0  1.0\n",
       " 1.0  1.0  1.0  0.0\n",
       " 1.0  1.0  1.0  1.0"
      ]
     },
     "execution_count": 6,
     "metadata": {},
     "output_type": "execute_result"
    }
   ],
   "source": [
    "Matrix(basis(op4))"
   ]
  },
  {
   "cell_type": "markdown",
   "metadata": {},
   "source": [
    "<a id=\"hadamard\"></a>\n",
    "## 1. Hadamard\n",
    "\n",
    "In distinguishable systems, Hadamard gate is an operation acting on a single qubit which maps the basis state $|0\\rangle$ to $\\frac{|0\\rangle + |1\\rangle}{\\sqrt{2}}$ and $|1\\rangle$ to $\\frac{|0\\rangle - |1\\rangle}{\\sqrt{2}}$. Basically, it creates a superposition between the basis elements.\n",
    "\n",
    "When dealing with fermions, there is an extra complexity. The superselection rules of parity make it impossible to mix states with different fermionic number parity. A gate mapping unocupied states to a combination of occupied and unoccupied would hence not be allowed. So the best fit candidate for this gate is applied on states of 1 fermion in two modes such that\n",
    "\n",
    "$|01\\rangle \\rightarrow \\frac{|01\\rangle + |10\\rangle}{\\sqrt{2}}\\\\\n",
    "|10\\rangle \\rightarrow \\frac{|01\\rangle - |10\\rangle}{\\sqrt{2}}$\n",
    "\n",
    "So, what we are really doing, is changing the operators as such:\n",
    "\n",
    "$c_i^\\dagger \\rightarrow \\frac{c_i^\\dagger + c_j^\\dagger}{\\sqrt{2}}\\\\\n",
    "c_j^\\dagger \\rightarrow \\frac{c_i^\\dagger - c_j^\\dagger}{\\sqrt{2}}$\n",
    "\n",
    "we can easily show that this transformation results in the mapping defined above. Besides, it show how to transform the other two possible states of 2 modes:\n",
    "\n",
    "$|00\\rangle \\rightarrow |00\\rangle\\\\\n",
    "|11\\rangle \\rightarrow |11\\rangle$\n",
    "\n",
    "which is the identity transformation.\n",
    "\n",
    "The inputs for this gate are\n",
    "1. The operator type we are working with (op4 in this example)\n",
    "2. The mode we are transforming with a '+'\n",
    "3. The mode we are transforming with a '-'\n",
    "\n",
    "Let's see how it works:"
   ]
  },
  {
   "cell_type": "code",
   "execution_count": 60,
   "metadata": {},
   "outputs": [
    {
     "data": {
      "text/plain": [
       "16-element SparseVector{Float64,Int64} with 2 stored entries:\n",
       "  [7 ]  =  0.707107\n",
       "  [11]  =  0.707107"
      ]
     },
     "execution_count": 60,
     "metadata": {},
     "output_type": "execute_result"
    }
   ],
   "source": [
    "#applied to a slater determinant\n",
    "hadamard(op4,1,2)*cd1*cd3*vac"
   ]
  },
  {
   "cell_type": "markdown",
   "metadata": {},
   "source": [
    "We mapped our original diagonal state to a linear combination of the following basis states"
   ]
  },
  {
   "cell_type": "code",
   "execution_count": 43,
   "metadata": {},
   "outputs": [
    {
     "name": "stdout",
     "output_type": "stream",
     "text": [
      "[0.0, 1.0, 1.0, 0.0]\n",
      "[1.0, 0.0, 1.0, 0.0]\n"
     ]
    }
   ],
   "source": [
    "println(Array(basis(op4)[7,:]))\n",
    "println(Array(basis(op4)[11,:]))"
   ]
  },
  {
   "cell_type": "markdown",
   "metadata": {},
   "source": [
    "We can apply multiple hadamard operations:"
   ]
  },
  {
   "cell_type": "code",
   "execution_count": 45,
   "metadata": {},
   "outputs": [
    {
     "data": {
      "text/plain": [
       "16-element SparseVector{Float64,Int64} with 4 stored entries:\n",
       "  [6 ]  =  0.5\n",
       "  [7 ]  =  0.5\n",
       "  [10]  =  0.5\n",
       "  [11]  =  0.5"
      ]
     },
     "execution_count": 45,
     "metadata": {},
     "output_type": "execute_result"
    }
   ],
   "source": [
    "hadamard(op4,3,4)*hadamard(op4,1,2)*cd1*cd3*vac"
   ]
  },
  {
   "cell_type": "code",
   "execution_count": 46,
   "metadata": {},
   "outputs": [
    {
     "name": "stdout",
     "output_type": "stream",
     "text": [
      "[0.0, 1.0, 0.0, 1.0]\n",
      "[0.0, 1.0, 1.0, 0.0]\n",
      "[1.0, 0.0, 0.0, 1.0]\n",
      "[1.0, 0.0, 1.0, 0.0]\n"
     ]
    }
   ],
   "source": [
    "println(Array(basis(op4)[6,:]))\n",
    "println(Array(basis(op4)[7,:]))\n",
    "println(Array(basis(op4)[10,:]))\n",
    "println(Array(basis(op4)[11,:]))"
   ]
  },
  {
   "cell_type": "markdown",
   "metadata": {},
   "source": [
    "This state is of course non entangled:"
   ]
  },
  {
   "cell_type": "code",
   "execution_count": 59,
   "metadata": {},
   "outputs": [
    {
     "name": "stdout",
     "output_type": "stream",
     "text": [
      "[0.0, 0.0, 1.0, 1.0] are the eigenvalues of the rhosp.   Entanglement is  0.0\n"
     ]
    }
   ],
   "source": [
    "state = State_sparse(hadamard(op4,3,4)*hadamard(op4,1,2)*cd1*cd3*vac, op4)\n",
    "println(eigensp(state), \" are the eigenvalues of the rhosp.   Entanglement is  \", ssp(state))"
   ]
  },
  {
   "cell_type": "code",
   "execution_count": 63,
   "metadata": {},
   "outputs": [
    {
     "data": {
      "text/plain": [
       "16-element SparseVector{Float64,Int64} with 2 stored entries:\n",
       "  [4 ]  =  0.707107\n",
       "  [13]  =  0.707107"
      ]
     },
     "execution_count": 63,
     "metadata": {},
     "output_type": "execute_result"
    }
   ],
   "source": [
    "state_ent0 = (cd1*cd2 + cd3*cd4)*vac/sqrt(2)"
   ]
  },
  {
   "cell_type": "code",
   "execution_count": 64,
   "metadata": {},
   "outputs": [
    {
     "data": {
      "text/plain": [
       "16-element SparseVector{Float64,Int64} with 4 stored entries:\n",
       "  [4 ]  =  0.5\n",
       "  [7 ]  =  0.5\n",
       "  [10]  =  0.5\n",
       "  [13]  =  0.5"
      ]
     },
     "execution_count": 64,
     "metadata": {},
     "output_type": "execute_result"
    }
   ],
   "source": [
    "hadamard(op4,1,3)*state_ent0"
   ]
  },
  {
   "cell_type": "code",
   "execution_count": 65,
   "metadata": {},
   "outputs": [
    {
     "name": "stdout",
     "output_type": "stream",
     "text": [
      "[0.0, 0.0, 1.0, 1.0]\n",
      "[0.0, 1.0, 1.0, 0.0]\n",
      "[1.0, 0.0, 0.0, 1.0]\n",
      "[1.0, 1.0, 0.0, 0.0]\n"
     ]
    }
   ],
   "source": [
    "println(Array(basis(op4)[4,:]))\n",
    "println(Array(basis(op4)[7,:]))\n",
    "println(Array(basis(op4)[10,:]))\n",
    "println(Array(basis(op4)[13,:]))"
   ]
  },
  {
   "cell_type": "code",
   "execution_count": 67,
   "metadata": {
    "scrolled": true
   },
   "outputs": [
    {
     "data": {
      "text/plain": [
       "1.0"
      ]
     },
     "execution_count": 67,
     "metadata": {},
     "output_type": "execute_result"
    }
   ],
   "source": [
    "state_ent = State_sparse(state_ent0, op4);\n",
    "ssp(state_ent)"
   ]
  },
  {
   "cell_type": "markdown",
   "metadata": {},
   "source": [
    "Finally, this is how the hadamard matrix looks:"
   ]
  },
  {
   "cell_type": "code",
   "execution_count": 75,
   "metadata": {
    "scrolled": true
   },
   "outputs": [
    {
     "data": {
      "text/plain": [
       "4×4 Array{Float64,2}:\n",
       " 1.0  0.0       0.0       0.0\n",
       " 0.0  0.707107  0.707107  0.0\n",
       " 0.0  0.707107  0.707107  0.0\n",
       " 0.0  0.0       0.0       1.0"
      ]
     },
     "execution_count": 75,
     "metadata": {},
     "output_type": "execute_result"
    }
   ],
   "source": [
    "Matrix(hadamard(Op(2),1,2)) # in dimension 2"
   ]
  },
  {
   "cell_type": "code",
   "execution_count": 72,
   "metadata": {
    "scrolled": true
   },
   "outputs": [
    {
     "data": {
      "text/plain": [
       "4×2 Array{Float64,2}:\n",
       " 0.0  0.0\n",
       " 0.0  1.0\n",
       " 1.0  0.0\n",
       " 1.0  1.0"
      ]
     },
     "execution_count": 72,
     "metadata": {},
     "output_type": "execute_result"
    }
   ],
   "source": [
    "Matrix(basis(Op(2)))"
   ]
  },
  {
   "cell_type": "code",
   "execution_count": 73,
   "metadata": {
    "scrolled": true
   },
   "outputs": [
    {
     "data": {
      "text/plain": [
       "8×8 Array{Float64,2}:\n",
       " 1.0  0.0  0.0       0.0       0.0       0.0       0.0  0.0\n",
       " 0.0  1.0  0.0       0.0       0.0       0.0       0.0  0.0\n",
       " 0.0  0.0  0.707107  0.0       0.707107  0.0       0.0  0.0\n",
       " 0.0  0.0  0.0       0.707107  0.0       0.707107  0.0  0.0\n",
       " 0.0  0.0  0.707107  0.0       0.707107  0.0       0.0  0.0\n",
       " 0.0  0.0  0.0       0.707107  0.0       0.707107  0.0  0.0\n",
       " 0.0  0.0  0.0       0.0       0.0       0.0       1.0  0.0\n",
       " 0.0  0.0  0.0       0.0       0.0       0.0       0.0  1.0"
      ]
     },
     "execution_count": 73,
     "metadata": {},
     "output_type": "execute_result"
    }
   ],
   "source": [
    "Matrix(hadamard(Op(3),1,2)) # in dimension 3"
   ]
  },
  {
   "cell_type": "code",
   "execution_count": 76,
   "metadata": {},
   "outputs": [
    {
     "data": {
      "text/plain": [
       "8×3 Array{Float64,2}:\n",
       " 0.0  0.0  0.0\n",
       " 0.0  0.0  1.0\n",
       " 0.0  1.0  0.0\n",
       " 0.0  1.0  1.0\n",
       " 1.0  0.0  0.0\n",
       " 1.0  0.0  1.0\n",
       " 1.0  1.0  0.0\n",
       " 1.0  1.0  1.0"
      ]
     },
     "execution_count": 76,
     "metadata": {},
     "output_type": "execute_result"
    }
   ],
   "source": [
    "Matrix(basis(Op(3)))"
   ]
  },
  {
   "cell_type": "markdown",
   "metadata": {},
   "source": [
    "<a id=\"ucnot\"></a>\n",
    "## 2. Unitary Controlled NOT (Ucnot)\n",
    "\n",
    "Controlled gates act on 2 or more entries, where one acts as a control for determining wheter or not to apply some operation on the other entries, which behave as targets. Controlled NOT is the most remarkable of these, as it is one of the fundamental operations that allow universal quantum computation. This operation changes the target if and only if the control entry is activated. For distinguishable qubits systems, if the first mode acts as control and the second as target, we have the following mapping\n",
    "\n",
    "$|00\\rangle \\rightarrow |00\\rangle\\\\\n",
    "|01\\rangle \\rightarrow |01\\rangle\\\\\n",
    "|10\\rangle \\rightarrow |11\\rangle\\\\\n",
    "|11\\rangle \\rightarrow |10\\rangle$\n",
    "\n",
    "We will have the same mapping for fermions, but now 0 representing a disocuppied mode and 1 an occupied mode.\n",
    "We can write this operation as \n",
    "$U_{\\rm CNOT} = |0\\rangle\\langle 0| \\otimes I + |1\\rangle \\langle 1|\\otimes \\sigma_x = exp[i\\frac{\\pi}{4}(1-\\sigma_z)\\otimes (1-\\sigma_x)]$.\n",
    "\n",
    "It is important to highlight that this operation does not conserve the fermionic number parity in general. Conservation will strongly depend on which state is it applied. A common solution to this problem is to apply a Ucnot with more than 1 target, defining a subspace with fixed parity even after the application of Ucnot.\n",
    "For instance, if we have the following state\n",
    "\n",
    "$\\frac{1}{2}(c_5^\\dagger + c_6^\\dagger)(c_1^\\dagger c_3^\\dagger + c_2^\\dagger c_4^\\dagger)|0\\rangle$\n",
    "\n",
    "where 5 and 6 are auxiliary modes (ancilla). We can perform a control gate with mode 5 as control, and modes 1 **and** 2 as targets. Modes 1 and 2 form a subspace with ocupation 1. Hence the application of Ucnot will not altere the parity.\n",
    "\n",
    "The inputs for this gate are\n",
    "1. The operator type we are working with (op4 in this example)\n",
    "2. The control mode\n",
    "3. The target mode\n",
    "\n",
    "For targeting multiple modes, you can just multiply individual operations.\n",
    "\n",
    "Let's see how it works:"
   ]
  },
  {
   "cell_type": "code",
   "execution_count": 79,
   "metadata": {},
   "outputs": [
    {
     "data": {
      "text/plain": [
       "16-element SparseVector{Float64,Int64} with 1 stored entry:\n",
       "  [11]  =  1.0"
      ]
     },
     "execution_count": 79,
     "metadata": {},
     "output_type": "execute_result"
    }
   ],
   "source": [
    "#applied to a slater determinant\n",
    "ds = cd1*cd3*vac"
   ]
  },
  {
   "cell_type": "code",
   "execution_count": 80,
   "metadata": {},
   "outputs": [
    {
     "data": {
      "text/plain": [
       "16-element SparseVector{Float64,Int64} with 1 stored entry:\n",
       "  [9 ]  =  1.0"
      ]
     },
     "execution_count": 80,
     "metadata": {},
     "output_type": "execute_result"
    }
   ],
   "source": [
    "ucnot(op4,1,3)*ds"
   ]
  },
  {
   "cell_type": "code",
   "execution_count": 82,
   "metadata": {},
   "outputs": [
    {
     "data": {
      "text/plain": [
       "16-element SparseVector{Float64,Int64} with 1 stored entry:\n",
       "  [12]  =  1.0"
      ]
     },
     "execution_count": 82,
     "metadata": {},
     "output_type": "execute_result"
    }
   ],
   "source": [
    "ucnot(op4,1,4)*ds"
   ]
  },
  {
   "cell_type": "code",
   "execution_count": 83,
   "metadata": {
    "scrolled": true
   },
   "outputs": [
    {
     "name": "stdout",
     "output_type": "stream",
     "text": [
      "[1.0, 0.0, 1.0, 0.0]\n",
      "[1.0, 0.0, 0.0, 0.0]\n",
      "[1.0, 0.0, 1.0, 1.0]\n"
     ]
    }
   ],
   "source": [
    "println(Array(basis(op4)[11,:]))\n",
    "println(Array(basis(op4)[9,:]))\n",
    "println(Array(basis(op4)[12,:]))"
   ]
  },
  {
   "cell_type": "code",
   "execution_count": 86,
   "metadata": {
    "scrolled": true
   },
   "outputs": [
    {
     "data": {
      "text/plain": [
       "64-element SparseVector{Float64,Int64} with 4 stored entries:\n",
       "  [22]  =  0.5\n",
       "  [23]  =  0.5\n",
       "  [42]  =  0.5\n",
       "  [43]  =  0.5"
      ]
     },
     "execution_count": 86,
     "metadata": {},
     "output_type": "execute_result"
    }
   ],
   "source": [
    "op6 = Op(6);\n",
    "vac6 = vacuum(op6);\n",
    "\n",
    "state_ancilla = 1/2*(cdm(op6,5) + cdm(op6,6))*(cdm(op6,1)*cdm(op6,3)+cdm(op6,2)*cdm(op6,4))*vac6"
   ]
  },
  {
   "cell_type": "code",
   "execution_count": 91,
   "metadata": {},
   "outputs": [
    {
     "name": "stdout",
     "output_type": "stream",
     "text": [
      "[0.0, 1.0, 0.0, 1.0, 0.0, 1.0]\n",
      "[0.0, 1.0, 0.0, 1.0, 1.0, 0.0]\n",
      "[1.0, 0.0, 1.0, 0.0, 0.0, 1.0]\n",
      "[1.0, 0.0, 1.0, 0.0, 1.0, 0.0]\n"
     ]
    }
   ],
   "source": [
    "println(Array(basis(op6)[22,:]))\n",
    "println(Array(basis(op6)[23,:]))\n",
    "println(Array(basis(op6)[42,:]))\n",
    "println(Array(basis(op6)[43,:]))"
   ]
  },
  {
   "cell_type": "code",
   "execution_count": 88,
   "metadata": {},
   "outputs": [
    {
     "data": {
      "text/plain": [
       "64-element SparseVector{Float64,Int64} with 4 stored entries:\n",
       "  [22]  =  0.5\n",
       "  [27]  =  0.5\n",
       "  [39]  =  0.5\n",
       "  [42]  =  0.5"
      ]
     },
     "execution_count": 88,
     "metadata": {},
     "output_type": "execute_result"
    }
   ],
   "source": [
    "ucnot(op6,5,2)*ucnot(op6,5,1)*state_ancilla"
   ]
  },
  {
   "cell_type": "code",
   "execution_count": 103,
   "metadata": {},
   "outputs": [
    {
     "name": "stdout",
     "output_type": "stream",
     "text": [
      "[0.0, 1.0, 0.0, 1.0, 0.0, 1.0] equal [0.0, 1.0, 0.0, 1.0, 0.0, 1.0]\n",
      "[0.0, 1.0, 1.0, 0.0, 1.0, 0.0] changed to [1.0, 0.0, 1.0, 0.0, 0.0, 1.0]\n",
      "[1.0, 0.0, 0.0, 1.0, 1.0, 0.0] changed to [0.0, 1.0, 0.0, 1.0, 1.0, 0.0]\n",
      "[1.0, 0.0, 1.0, 0.0, 0.0, 1.0] equal [1.0, 0.0, 1.0, 0.0, 1.0, 0.0]\n"
     ]
    }
   ],
   "source": [
    "println(Array(basis(op6)[22,:]), \" equal \",Array(basis(op6)[22,:])) \n",
    "println(Array(basis(op6)[27,:]),\" changed to \", Array(basis(op6)[42,:]))\n",
    "println(Array(basis(op6)[39,:]),\" changed to \", Array(basis(op6)[23,:]))\n",
    "println(Array(basis(op6)[42,:]),\" equal \", Array(basis(op6)[43,:])) "
   ]
  },
  {
   "cell_type": "markdown",
   "metadata": {},
   "source": [
    "Note: applying only one Ucnot gave rise to a state with no definit fermion number parity!"
   ]
  },
  {
   "cell_type": "code",
   "execution_count": 104,
   "metadata": {},
   "outputs": [
    {
     "data": {
      "text/plain": [
       "64-element SparseVector{Float64,Int64} with 4 stored entries:\n",
       "  [11]  =  0.5\n",
       "  [22]  =  0.5\n",
       "  [42]  =  0.5\n",
       "  [55]  =  0.5"
      ]
     },
     "execution_count": 104,
     "metadata": {},
     "output_type": "execute_result"
    }
   ],
   "source": [
    "ucnot(op6,5,1)*state_ancilla"
   ]
  },
  {
   "cell_type": "code",
   "execution_count": 106,
   "metadata": {},
   "outputs": [
    {
     "name": "stdout",
     "output_type": "stream",
     "text": [
      "[0.0, 0.0, 1.0, 0.0, 1.0, 0.0] 2 particles\n",
      "[0.0, 1.0, 0.0, 1.0, 0.0, 1.0] 3 particles\n",
      "[1.0, 0.0, 1.0, 0.0, 0.0, 1.0] 3 particles\n",
      "[1.0, 1.0, 0.0, 1.0, 1.0, 0.0] 2 particles\n"
     ]
    }
   ],
   "source": [
    "println(Array(basis(op6)[11,:]),\" 2 particles\")\n",
    "println(Array(basis(op6)[22,:]), \" 3 particles\")\n",
    "println(Array(basis(op6)[42,:]), \" 3 particles\")\n",
    "println(Array(basis(op6)[55,:]), \" 2 particles\")"
   ]
  }
 ],
 "metadata": {
  "kernelspec": {
   "display_name": "Julia 1.4.0",
   "language": "julia",
   "name": "julia-1.4"
  },
  "language_info": {
   "file_extension": ".jl",
   "mimetype": "application/julia",
   "name": "julia",
   "version": "1.4.0"
  }
 },
 "nbformat": 4,
 "nbformat_minor": 4
}
