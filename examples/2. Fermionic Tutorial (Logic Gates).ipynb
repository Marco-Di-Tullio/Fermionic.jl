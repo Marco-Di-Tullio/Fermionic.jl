{
 "cells": [
  {
   "cell_type": "markdown",
   "metadata": {},
   "source": [
    "# Tutorial on Logic gates\n",
    "\n",
    "In quantum computing a quantum logic gate is a basic quantum circuit operating on a small number of qubits. They are the building blocks of quantum circuits, like classical logic gates are for conventional digital circuits. When dealing with fermions, we care about the ocupation of different modes in a system. We can define the analog of the usual qubit-gates with fermions.\n",
    "\n",
    "Gates included in this package are:\n",
    "\n",
    "1. Hadamard\n",
    "2. U<sub>cnot</sub>\n",
    "\n",
    "Note: avaiable gates will be expanded shortly"
   ]
  },
  {
   "cell_type": "code",
   "execution_count": 3,
   "metadata": {},
   "outputs": [],
   "source": [
    "#initialize the package\n",
    "using Fermionic"
   ]
  },
  {
   "cell_type": "markdown",
   "metadata": {},
   "source": [
    "Let's first initialize the operators and refresh the shape of the basis (see the previous tutorial for a more detailed explanation on these topics)"
   ]
  },
  {
   "cell_type": "code",
   "execution_count": 7,
   "metadata": {},
   "outputs": [],
   "source": [
    "op4 = Op(4)\n",
    "\n",
    "cd1 = cdm(op4,1)\n",
    "cd2 = cdm(op4,2)\n",
    "cd3 = cdm(op4,3)\n",
    "cd4 = cdm(op4,4)\n",
    "\n",
    "vac = vacuum(op4);"
   ]
  },
  {
   "cell_type": "code",
   "execution_count": 6,
   "metadata": {
    "scrolled": true
   },
   "outputs": [
    {
     "data": {
      "text/plain": [
       "16×4 Array{Float64,2}:\n",
       " 0.0  0.0  0.0  0.0\n",
       " 0.0  0.0  0.0  1.0\n",
       " 0.0  0.0  1.0  0.0\n",
       " 0.0  0.0  1.0  1.0\n",
       " 0.0  1.0  0.0  0.0\n",
       " 0.0  1.0  0.0  1.0\n",
       " 0.0  1.0  1.0  0.0\n",
       " 0.0  1.0  1.0  1.0\n",
       " 1.0  0.0  0.0  0.0\n",
       " 1.0  0.0  0.0  1.0\n",
       " 1.0  0.0  1.0  0.0\n",
       " 1.0  0.0  1.0  1.0\n",
       " 1.0  1.0  0.0  0.0\n",
       " 1.0  1.0  0.0  1.0\n",
       " 1.0  1.0  1.0  0.0\n",
       " 1.0  1.0  1.0  1.0"
      ]
     },
     "execution_count": 6,
     "metadata": {},
     "output_type": "execute_result"
    }
   ],
   "source": [
    "Matrix(basis(op4))"
   ]
  },
  {
   "cell_type": "markdown",
   "metadata": {},
   "source": [
    "## 1. Hadamard\n",
    "\n",
    "In distinguishable systems, Hadamard gate is an operation acting on a single qubit which maps the basis state $|0\\rangle$ to $\\frac{|0\\rangle + |1\\rangle}{\\sqrt{2}}$ and $|1\\rangle$ to $\\frac{|0\\rangle - |1\\rangle}{\\sqrt{2}}$. Basically, it creates a superposition between the basis elements.\n",
    "\n",
    "When dealing with fermions, there is an extra complexity. The superselection rules of parity make it impossible to mix states with different fermionic number parity. A gate mapping unocupied states to a combination of occupied and unoccupied would hence not be allowed. So the best fit candidate for this gate is applied on states of 1 fermion in two modes such that\n",
    "\n",
    "$|01\\rangle \\rightarrow \\frac{|01\\rangle + |10\\rangle}{\\sqrt{2}}\\\\\n",
    "|10\\rangle \\rightarrow \\frac{|01\\rangle - |10\\rangle}{\\sqrt{2}}$\n",
    "\n",
    "So, what we are really doing, is changing the operators as such:\n",
    "\n",
    "$c_i^\\dagger \\rightarrow \\frac{c_i^\\dagger + c_j^\\dagger}{\\sqrt{2}}\\\\\n",
    "c_j^\\dagger \\rightarrow \\frac{c_i^\\dagger - c_j^\\dagger}{\\sqrt{2}}$\n",
    "\n",
    "we can easily show that this transformation results in the mapping defined above. Besides, it show how to transform the other two possible states of 2 modes:\n",
    "\n",
    "$|00\\rangle \\rightarrow |00\\rangle\\\\\n",
    "|11\\rangle \\rightarrow |11\\rangle$\n",
    "\n",
    "which is the identity transformation.\n",
    "\n",
    "The inputs for this gate are\n",
    "1. The operator type we are working with (op4 in this example)\n",
    "2. The mode we are transforming with a '+'\n",
    "3. The mode we are transforming with a '-'\n",
    "\n",
    "Let's see how it works:"
   ]
  },
  {
   "cell_type": "code",
   "execution_count": 60,
   "metadata": {},
   "outputs": [
    {
     "data": {
      "text/plain": [
       "16-element SparseVector{Float64,Int64} with 2 stored entries:\n",
       "  [7 ]  =  0.707107\n",
       "  [11]  =  0.707107"
      ]
     },
     "execution_count": 60,
     "metadata": {},
     "output_type": "execute_result"
    }
   ],
   "source": [
    "#applied to a slater determinant\n",
    "hadamard(op4,1,2)*cd1*cd3*vac"
   ]
  },
  {
   "cell_type": "markdown",
   "metadata": {},
   "source": [
    "We mapped our original diagonal state to a linear combination of the following basis states"
   ]
  },
  {
   "cell_type": "code",
   "execution_count": 43,
   "metadata": {},
   "outputs": [
    {
     "name": "stdout",
     "output_type": "stream",
     "text": [
      "[0.0, 1.0, 1.0, 0.0]\n",
      "[1.0, 0.0, 1.0, 0.0]\n"
     ]
    }
   ],
   "source": [
    "println(Array(basis(op4)[7,:]))\n",
    "println(Array(basis(op4)[11,:]))"
   ]
  },
  {
   "cell_type": "markdown",
   "metadata": {},
   "source": [
    "We can apply multiple hadamard operations:"
   ]
  },
  {
   "cell_type": "code",
   "execution_count": 45,
   "metadata": {},
   "outputs": [
    {
     "data": {
      "text/plain": [
       "16-element SparseVector{Float64,Int64} with 4 stored entries:\n",
       "  [6 ]  =  0.5\n",
       "  [7 ]  =  0.5\n",
       "  [10]  =  0.5\n",
       "  [11]  =  0.5"
      ]
     },
     "execution_count": 45,
     "metadata": {},
     "output_type": "execute_result"
    }
   ],
   "source": [
    "hadamard(op4,3,4)*hadamard(op4,1,2)*cd1*cd3*vac"
   ]
  },
  {
   "cell_type": "code",
   "execution_count": 46,
   "metadata": {},
   "outputs": [
    {
     "name": "stdout",
     "output_type": "stream",
     "text": [
      "[0.0, 1.0, 0.0, 1.0]\n",
      "[0.0, 1.0, 1.0, 0.0]\n",
      "[1.0, 0.0, 0.0, 1.0]\n",
      "[1.0, 0.0, 1.0, 0.0]\n"
     ]
    }
   ],
   "source": [
    "println(Array(basis(op4)[6,:]))\n",
    "println(Array(basis(op4)[7,:]))\n",
    "println(Array(basis(op4)[10,:]))\n",
    "println(Array(basis(op4)[11,:]))"
   ]
  },
  {
   "cell_type": "markdown",
   "metadata": {},
   "source": [
    "This state is of course non entangled:"
   ]
  },
  {
   "cell_type": "code",
   "execution_count": 59,
   "metadata": {},
   "outputs": [
    {
     "name": "stdout",
     "output_type": "stream",
     "text": [
      "[0.0, 0.0, 1.0, 1.0] are the eigenvalues of the rhosp.   Entanglement is  0.0\n"
     ]
    }
   ],
   "source": [
    "state = State_sparse(hadamard(op4,3,4)*hadamard(op4,1,2)*cd1*cd3*vac, op4)\n",
    "println(eigensp(state), \" are the eigenvalues of the rhosp.   Entanglement is  \", ssp(state))"
   ]
  },
  {
   "cell_type": "code",
   "execution_count": 63,
   "metadata": {},
   "outputs": [
    {
     "data": {
      "text/plain": [
       "16-element SparseVector{Float64,Int64} with 2 stored entries:\n",
       "  [4 ]  =  0.707107\n",
       "  [13]  =  0.707107"
      ]
     },
     "execution_count": 63,
     "metadata": {},
     "output_type": "execute_result"
    }
   ],
   "source": [
    "state_ent0 = (cd1*cd2 + cd3*cd4)*vac/sqrt(2)"
   ]
  },
  {
   "cell_type": "code",
   "execution_count": 64,
   "metadata": {},
   "outputs": [
    {
     "data": {
      "text/plain": [
       "16-element SparseVector{Float64,Int64} with 4 stored entries:\n",
       "  [4 ]  =  0.5\n",
       "  [7 ]  =  0.5\n",
       "  [10]  =  0.5\n",
       "  [13]  =  0.5"
      ]
     },
     "execution_count": 64,
     "metadata": {},
     "output_type": "execute_result"
    }
   ],
   "source": [
    "hadamard(op4,1,3)*state_ent0"
   ]
  },
  {
   "cell_type": "code",
   "execution_count": 65,
   "metadata": {},
   "outputs": [
    {
     "name": "stdout",
     "output_type": "stream",
     "text": [
      "[0.0, 0.0, 1.0, 1.0]\n",
      "[0.0, 1.0, 1.0, 0.0]\n",
      "[1.0, 0.0, 0.0, 1.0]\n",
      "[1.0, 1.0, 0.0, 0.0]\n"
     ]
    }
   ],
   "source": [
    "println(Array(basis(op4)[4,:]))\n",
    "println(Array(basis(op4)[7,:]))\n",
    "println(Array(basis(op4)[10,:]))\n",
    "println(Array(basis(op4)[13,:]))"
   ]
  },
  {
   "cell_type": "code",
   "execution_count": 67,
   "metadata": {
    "scrolled": true
   },
   "outputs": [
    {
     "data": {
      "text/plain": [
       "1.0"
      ]
     },
     "execution_count": 67,
     "metadata": {},
     "output_type": "execute_result"
    }
   ],
   "source": [
    "state_ent = State_sparse(state_ent0, op4);\n",
    "ssp(state_ent)"
   ]
  },
  {
   "cell_type": "markdown",
   "metadata": {},
   "source": [
    "Finally, this is how the hadamard matrix looks:"
   ]
  },
  {
   "cell_type": "code",
   "execution_count": 75,
   "metadata": {
    "scrolled": true
   },
   "outputs": [
    {
     "data": {
      "text/plain": [
       "4×4 Array{Float64,2}:\n",
       " 1.0  0.0       0.0       0.0\n",
       " 0.0  0.707107  0.707107  0.0\n",
       " 0.0  0.707107  0.707107  0.0\n",
       " 0.0  0.0       0.0       1.0"
      ]
     },
     "execution_count": 75,
     "metadata": {},
     "output_type": "execute_result"
    }
   ],
   "source": [
    "Matrix(hadamard(Op(2),1,2)) # in dimension 2"
   ]
  },
  {
   "cell_type": "code",
   "execution_count": 72,
   "metadata": {
    "scrolled": true
   },
   "outputs": [
    {
     "data": {
      "text/plain": [
       "4×2 Array{Float64,2}:\n",
       " 0.0  0.0\n",
       " 0.0  1.0\n",
       " 1.0  0.0\n",
       " 1.0  1.0"
      ]
     },
     "execution_count": 72,
     "metadata": {},
     "output_type": "execute_result"
    }
   ],
   "source": [
    "Matrix(basis(Op(2)))"
   ]
  },
  {
   "cell_type": "code",
   "execution_count": 73,
   "metadata": {
    "scrolled": true
   },
   "outputs": [
    {
     "data": {
      "text/plain": [
       "8×8 Array{Float64,2}:\n",
       " 1.0  0.0  0.0       0.0       0.0       0.0       0.0  0.0\n",
       " 0.0  1.0  0.0       0.0       0.0       0.0       0.0  0.0\n",
       " 0.0  0.0  0.707107  0.0       0.707107  0.0       0.0  0.0\n",
       " 0.0  0.0  0.0       0.707107  0.0       0.707107  0.0  0.0\n",
       " 0.0  0.0  0.707107  0.0       0.707107  0.0       0.0  0.0\n",
       " 0.0  0.0  0.0       0.707107  0.0       0.707107  0.0  0.0\n",
       " 0.0  0.0  0.0       0.0       0.0       0.0       1.0  0.0\n",
       " 0.0  0.0  0.0       0.0       0.0       0.0       0.0  1.0"
      ]
     },
     "execution_count": 73,
     "metadata": {},
     "output_type": "execute_result"
    }
   ],
   "source": [
    "Matrix(hadamard(Op(3),1,2)) # in dimension 3"
   ]
  },
  {
   "cell_type": "code",
   "execution_count": 76,
   "metadata": {},
   "outputs": [
    {
     "data": {
      "text/plain": [
       "8×3 Array{Float64,2}:\n",
       " 0.0  0.0  0.0\n",
       " 0.0  0.0  1.0\n",
       " 0.0  1.0  0.0\n",
       " 0.0  1.0  1.0\n",
       " 1.0  0.0  0.0\n",
       " 1.0  0.0  1.0\n",
       " 1.0  1.0  0.0\n",
       " 1.0  1.0  1.0"
      ]
     },
     "execution_count": 76,
     "metadata": {},
     "output_type": "execute_result"
    }
   ],
   "source": [
    "Matrix(basis(Op(3)))"
   ]
  },
  {
   "cell_type": "markdown",
   "metadata": {},
   "source": [
    "## 2. Unitary Controled NOT (Ucnot)\n",
    "\n"
   ]
  },
  {
   "cell_type": "code",
   "execution_count": null,
   "metadata": {},
   "outputs": [],
   "source": []
  }
 ],
 "metadata": {
  "kernelspec": {
   "display_name": "Julia 1.4.0",
   "language": "julia",
   "name": "julia-1.4"
  },
  "language_info": {
   "file_extension": ".jl",
   "mimetype": "application/julia",
   "name": "julia",
   "version": "1.4.0"
  }
 },
 "nbformat": 4,
 "nbformat_minor": 4
}
