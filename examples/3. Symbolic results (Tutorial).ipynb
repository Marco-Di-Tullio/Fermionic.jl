{
 "cells": [
  {
   "cell_type": "markdown",
   "metadata": {},
   "source": [
    "# Symbolic results \n",
    "\n",
    "It is also of interest to work with non-defined variables in order to look for analytical results. This can be done integrating the Fermionic package together with SymPy via PyCall. There are also packages for defining symbolic fermionic operators. In this notebook we will see how exactly does this work.\n",
    "\n",
    "1. [Symbolic interaction](#symbol)\n",
    "2. [Symbolic operators](#sops)\n"
   ]
  },
  {
   "cell_type": "markdown",
   "metadata": {},
   "source": [
    "<a id=\"symbol\"></a>\n",
    "## Symbolic Algebra\n",
    "\n",
    "In this section we will learn to interact with the symbolic tools defined in [SymPy](https://github.com/JuliaPy/SymPy.jl). This library works perfectly within Julia via PyCall. I will show you how:\n",
    "\n",
    "First of all, if you have not done ir yet, you should install Conda:\n",
    "\n",
    "`using Pkg\n",
    "Pkg.add(\"Conda\") \n",
    "using Conda\n",
    "Conda.update()\n",
    "Pkg.add(\"PyCall\")`\n",
    "\n",
    "We then call PyCall"
   ]
  },
  {
   "cell_type": "code",
   "execution_count": 1,
   "metadata": {},
   "outputs": [],
   "source": [
    "using PyCall\n",
    "sympy = pyimport(\"sympy\");"
   ]
  },
  {
   "cell_type": "markdown",
   "metadata": {},
   "source": [
    "With this amazing package we can work with symbols as they were variables"
   ]
  },
  {
   "cell_type": "code",
   "execution_count": 2,
   "metadata": {},
   "outputs": [
    {
     "data": {
      "text/latex": [
       "$\\displaystyle x$"
      ],
      "text/plain": [
       "PyObject x"
      ]
     },
     "execution_count": 2,
     "metadata": {},
     "output_type": "execute_result"
    }
   ],
   "source": [
    "x = sympy.Symbol(\"x\")      # PyObject x"
   ]
  },
  {
   "cell_type": "code",
   "execution_count": 3,
   "metadata": {
    "scrolled": true
   },
   "outputs": [
    {
     "data": {
      "text/latex": [
       "$\\displaystyle \\left[\\begin{matrix}x\\\\2\\\\3\\end{matrix}\\right]$"
      ],
      "text/plain": [
       "PyObject Matrix([\n",
       "[x],\n",
       "[2],\n",
       "[3]])"
      ]
     },
     "execution_count": 3,
     "metadata": {},
     "output_type": "execute_result"
    }
   ],
   "source": [
    "sympy.Matrix([x, 2, 3])"
   ]
  },
  {
   "cell_type": "markdown",
   "metadata": {},
   "source": [
    "So, for instance, we can exactly diagonalize the superconducting hamiltonian in a symbolic way:\n",
    "$H=\\sum_k \\epsilon_k (c_k^\\dagger c_k + c_{\\bar{k}}^\\dagger c_{\\bar{k}})-\\sum_{k,k'} G_{k,k'} c_{k'}^\\dagger c_{\\bar{k'}}^\\dagger c_{\\bar{k}} c_k$\n",
    "We will set $\\epsilon_k = \\epsilon \\; \\forall k$, and $G_{kk'} = g \\; \\forall k,k'$."
   ]
  },
  {
   "cell_type": "code",
   "execution_count": 4,
   "metadata": {},
   "outputs": [
    {
     "data": {
      "text/latex": [
       "$\\displaystyle \\left[\\begin{array}{cccccccccccccccc}0 & 0 & 0 & 0 & 0 & 0 & 0 & 0 & 0 & 0 & 0 & 0 & 0 & 0 & 0 & 0\\\\0 & 0 & 0 & 0 & 0 & 0 & 0 & 0 & 0 & 0 & 0 & 0 & 0 & 0 & 0 & 0\\\\0 & 0 & 0 & 0 & 0 & 0 & 0 & 0 & 0 & 0 & 0 & 0 & 0 & 0 & 0 & 0\\\\0 & 0 & 0 & 0 & 0 & 0 & 0 & 0 & 0 & 0 & 0 & 0 & 0 & 0 & 0 & 0\\\\0 & 0 & 0 & 0 & 0 & 0 & 0 & 0 & 0 & 0 & 0 & 0 & 0 & 0 & 0 & 0\\\\0 & 0 & 0 & 0 & 0 & 0 & 0 & 0 & 0 & 0 & 0 & 0 & 0 & 0 & 0 & 0\\\\0 & 0 & 0 & 0 & 0 & 0 & - 0.5 e & 0 & 0 & 0 & 0 & 0 & 0 & 0 & 0 & 0\\\\0 & 0 & 0 & 0 & 0 & 0 & 0 & - 0.5 e & 0 & 0 & 0 & 0 & 0 & 0 & 0 & 0\\\\0 & 0 & 0 & 0 & 0 & 0 & 0 & 0 & - 0.5 e & 0 & 0 & 0 & 0 & 0 & 0 & 0\\\\0 & 0 & 0 & 0 & 0 & 0 & 0 & 0 & 0 & - 0.5 e & 0 & 0 & 0 & 0 & 0 & 0\\\\0 & 0 & 0 & 0 & 0 & 0 & 0 & 0 & 0 & 0 & 0.5 e & 0 & 0 & 0 & 0 & 0\\\\0 & 0 & 0 & 0 & 0 & 0 & 0 & 0 & 0 & 0 & 0 & 0.5 e & 0 & 0 & 0 & 0\\\\0 & 0 & 0 & 0 & 0 & 0 & 0 & 0 & 0 & 0 & 0 & 0 & 0.5 e & 0 & 0 & 0\\\\0 & 0 & 0 & 0 & 0 & 0 & 0 & 0 & 0 & 0 & 0 & 0 & 0 & 0.5 e & 0 & 0\\\\0 & 0 & 0 & 0 & 0 & 0 & 0 & 0 & 0 & 0 & 0 & 0 & 0 & 0 & - \\left(e^{2} + g^{2}\\right)^{0.5} & 0\\\\0 & 0 & 0 & 0 & 0 & 0 & 0 & 0 & 0 & 0 & 0 & 0 & 0 & 0 & 0 & \\left(e^{2} + g^{2}\\right)^{0.5}\\end{array}\\right]$"
      ],
      "text/plain": [
       "PyObject Matrix([\n",
       "[0, 0, 0, 0, 0, 0,      0,      0,      0,      0,     0,     0,     0,     0,                   0,                  0],\n",
       "[0, 0, 0, 0, 0, 0,      0,      0,      0,      0,     0,     0,     0,     0,                   0,                  0],\n",
       "[0, 0, 0, 0, 0, 0,      0,      0,      0,      0,     0,     0,     0,     0,                   0,                  0],\n",
       "[0, 0, 0, 0, 0, 0,      0,      0,      0,      0,     0,     0,     0,     0,                   0,                  0],\n",
       "[0, 0, 0, 0, 0, 0,      0,      0,      0,      0,     0,     0,     0,     0,                   0,                  0],\n",
       "[0, 0, 0, 0, 0, 0,      0,      0,      0,      0,     0,     0,     0,     0,                   0,                  0],\n",
       "[0, 0, 0, 0, 0, 0, -0.5*e,      0,      0,      0,     0,     0,     0,     0,                   0,                  0],\n",
       "[0, 0, 0, 0, 0, 0,      0, -0.5*e,      0,      0,     0,     0,     0,     0,                   0,                  0],\n",
       "[0, 0, 0, 0, 0, 0,      0,      0, -0.5*e,      0,     0,     0,     0,     0,                   0,                  0],\n",
       "[0, 0, 0, 0, 0, 0,      0,      0,      0, -0.5*e,     0,     0,     0,     0,                   0,                  0],\n",
       "[0, 0, 0, 0, 0, 0,      0,      0,      0,      0, 0.5*e,     0,     0,     0,                   0,                  0],\n",
       "[0, 0, 0, 0, 0, 0,      0,      0,      0,      0,     0, 0.5*e,     0,     0,                   0,                  0],\n",
       "[0, 0, 0, 0, 0, 0,      0,      0,      0,      0,     0,     0, 0.5*e,     0,                   0,                  0],\n",
       "[0, 0, 0, 0, 0, 0,      0,      0,      0,      0,     0,     0,     0, 0.5*e,                   0,                  0],\n",
       "[0, 0, 0, 0, 0, 0,      0,      0,      0,      0,     0,     0,     0,     0, -(e**2 + g**2)**0.5,                  0],\n",
       "[0, 0, 0, 0, 0, 0,      0,      0,      0,      0,     0,     0,     0,     0,                   0, (e**2 + g**2)**0.5]])"
      ]
     },
     "execution_count": 4,
     "metadata": {},
     "output_type": "execute_result"
    }
   ],
   "source": [
    "using Fermionic\n",
    "using SparseArrays\n",
    "\n",
    "g = sympy.Symbol(\"g\")\n",
    "e = sympy.Symbol(\"e\")\n",
    "\n",
    "o = Op(4); #this is for dimension 4\n",
    "e0 = 1.0 #the energy spectrum of the free term\n",
    "d = dim(o) \n",
    "epsilon = [e0*(i-d/4-1/2) for i in 1:d/2]\n",
    "epsilon = sort([epsilon; epsilon])\n",
    "\n",
    "h0 = sum([epsilon[i]*(cdm(o,i)*cm(o,i) + cdm(o,i+1)*cm(o,i+1)) for i in 1:2:(Int(d)-1)])\n",
    "\n",
    "hi = sum([sum([if i==j spzeros(2^d, 2^d) else (cdm(o,j)*cdm(o,j+1)*cm(o,i+1)*cm(o,i)) end\n",
    "                    for i in 1:2:(Int(d)-1)]) for j in 1:2:(Int(d)-1)]);\n",
    "    \n",
    "mh0 =  Matrix(h0);\n",
    "mhi = Matrix(hi)\n",
    "\n",
    "mh = e*sympy.Matrix(mh0) - g*sympy.Matrix(mhi)\n",
    "(P, D) = mh.diagonalize();\n",
    "D #this outputs the diagonal matrix."
   ]
  },
  {
   "cell_type": "markdown",
   "metadata": {},
   "source": [
    "The eigenvalues are the columns of the following matrix:"
   ]
  },
  {
   "cell_type": "code",
   "execution_count": 5,
   "metadata": {},
   "outputs": [
    {
     "data": {
      "text/latex": [
       "$\\displaystyle \\left[\\begin{array}{cccccccccccccccc}1.0 & 0 & 0 & 0 & 0 & 0 & 0 & 0 & 0 & 0 & 0 & 0 & 0 & 0 & 0 & 0\\\\0 & 0 & 0 & 0 & 0 & 0 & 0 & 0 & 0 & 0 & 1.0 & 0 & 0 & 0 & 0 & 0\\\\0 & 0 & 0 & 0 & 0 & 0 & 0 & 0 & 0 & 0 & 0 & 1.0 & 0 & 0 & 0 & 0\\\\0 & 0 & 0 & 0 & 0 & 0 & 0 & 0 & 0 & 0 & 0 & 0 & 0 & 0 & \\frac{g}{e + \\left(e^{2} + g^{2}\\right)^{0.5}} & \\frac{g}{e - \\left(e^{2} + g^{2}\\right)^{0.5}}\\\\0 & 0 & 0 & 0 & 0 & 0 & 1.0 & 0 & 0 & 0 & 0 & 0 & 0 & 0 & 0 & 0\\\\0 & 1.0 & 0 & 0 & 0 & 0 & 0 & 0 & 0 & 0 & 0 & 0 & 0 & 0 & 0 & 0\\\\0 & 0 & 1.0 & 0 & 0 & 0 & 0 & 0 & 0 & 0 & 0 & 0 & 0 & 0 & 0 & 0\\\\0 & 0 & 0 & 0 & 0 & 0 & 0 & 0 & 0 & 0 & 0 & 0 & 1.0 & 0 & 0 & 0\\\\0 & 0 & 0 & 0 & 0 & 0 & 0 & 1.0 & 0 & 0 & 0 & 0 & 0 & 0 & 0 & 0\\\\0 & 0 & 0 & 1.0 & 0 & 0 & 0 & 0 & 0 & 0 & 0 & 0 & 0 & 0 & 0 & 0\\\\0 & 0 & 0 & 0 & 1.0 & 0 & 0 & 0 & 0 & 0 & 0 & 0 & 0 & 0 & 0 & 0\\\\0 & 0 & 0 & 0 & 0 & 0 & 0 & 0 & 0 & 0 & 0 & 0 & 0 & 1.0 & 0 & 0\\\\0 & 0 & 0 & 0 & 0 & 0 & 0 & 0 & 0 & 0 & 0 & 0 & 0 & 0 & 1.0 & 1.0\\\\0 & 0 & 0 & 0 & 0 & 0 & 0 & 0 & 1.0 & 0 & 0 & 0 & 0 & 0 & 0 & 0\\\\0 & 0 & 0 & 0 & 0 & 0 & 0 & 0 & 0 & 1.0 & 0 & 0 & 0 & 0 & 0 & 0\\\\0 & 0 & 0 & 0 & 0 & 1.0 & 0 & 0 & 0 & 0 & 0 & 0 & 0 & 0 & 0 & 0\\end{array}\\right]$"
      ],
      "text/plain": [
       "PyObject Matrix([\n",
       "[1.0,   0,   0,   0,   0,   0,   0,   0,   0,   0,   0,   0,   0,   0,                          0,                          0],\n",
       "[  0,   0,   0,   0,   0,   0,   0,   0,   0,   0, 1.0,   0,   0,   0,                          0,                          0],\n",
       "[  0,   0,   0,   0,   0,   0,   0,   0,   0,   0,   0, 1.0,   0,   0,                          0,                          0],\n",
       "[  0,   0,   0,   0,   0,   0,   0,   0,   0,   0,   0,   0,   0,   0, g/(e + (e**2 + g**2)**0.5), g/(e - (e**2 + g**2)**0.5)],\n",
       "[  0,   0,   0,   0,   0,   0, 1.0,   0,   0,   0,   0,   0,   0,   0,                          0,                          0],\n",
       "[  0, 1.0,   0,   0,   0,   0,   0,   0,   0,   0,   0,   0,   0,   0,                          0,                          0],\n",
       "[  0,   0, 1.0,   0,   0,   0,   0,   0,   0,   0,   0,   0,   0,   0,                          0,                          0],\n",
       "[  0,   0,   0,   0,   0,   0,   0,   0,   0,   0,   0,   0, 1.0,   0,                          0,                          0],\n",
       "[  0,   0,   0,   0,   0,   0,   0, 1.0,   0,   0,   0,   0,   0,   0,                          0,                          0],\n",
       "[  0,   0,   0, 1.0,   0,   0,   0,   0,   0,   0,   0,   0,   0,   0,                          0,                          0],\n",
       "[  0,   0,   0,   0, 1.0,   0,   0,   0,   0,   0,   0,   0,   0,   0,                          0,                          0],\n",
       "[  0,   0,   0,   0,   0,   0,   0,   0,   0,   0,   0,   0,   0, 1.0,                          0,                          0],\n",
       "[  0,   0,   0,   0,   0,   0,   0,   0,   0,   0,   0,   0,   0,   0,                        1.0,                        1.0],\n",
       "[  0,   0,   0,   0,   0,   0,   0,   0, 1.0,   0,   0,   0,   0,   0,                          0,                          0],\n",
       "[  0,   0,   0,   0,   0,   0,   0,   0,   0, 1.0,   0,   0,   0,   0,                          0,                          0],\n",
       "[  0,   0,   0,   0,   0, 1.0,   0,   0,   0,   0,   0,   0,   0,   0,                          0,                          0]])"
      ]
     },
     "execution_count": 5,
     "metadata": {},
     "output_type": "execute_result"
    }
   ],
   "source": [
    "P"
   ]
  },
  {
   "cell_type": "markdown",
   "metadata": {},
   "source": [
    "You can learn more about matrix manipulation in [this tutorial](https://docs.sympy.org/latest/modules/matrices/matrices.html)."
   ]
  },
  {
   "cell_type": "markdown",
   "metadata": {},
   "source": [
    "<a id=\"sops\"></a>\n",
    "## Symbolic second quantization\n",
    "\n",
    "There is a library inside SymPy which allows the definition of fermionic symbolic operators. You can finde the complete list of functions in [this link](https://docs.sympy.org/latest/modules/physics/secondquant.html).\n",
    "\n",
    "It is good enough for working with commutators, but for some reasons the anticommutator identity is not defined for fermions, making it a little limited for complete usage."
   ]
  },
  {
   "cell_type": "code",
   "execution_count": 6,
   "metadata": {},
   "outputs": [
    {
     "data": {
      "text/latex": [
       "$\\displaystyle a^\\dagger_{j}$"
      ],
      "text/plain": [
       "PyObject CreateFermion(j)"
      ]
     },
     "execution_count": 6,
     "metadata": {},
     "output_type": "execute_result"
    }
   ],
   "source": [
    "sp = pyimport(\"sympy\");\n",
    "sq = pyimport(\"sympy.physics.secondquant\");\n",
    "adi = sq.Dagger(sq.F(sp.Symbol(\"i\")));\n",
    "adj = sq.Dagger(sq.F(sp.Symbol(\"j\")))"
   ]
  },
  {
   "cell_type": "code",
   "execution_count": 7,
   "metadata": {},
   "outputs": [
    {
     "data": {
      "text/latex": [
       "$\\displaystyle a_{k}$"
      ],
      "text/plain": [
       "PyObject AnnihilateFermion(k)"
      ]
     },
     "execution_count": 7,
     "metadata": {},
     "output_type": "execute_result"
    }
   ],
   "source": [
    "ak = sq.Dagger(sq.Fd(sp.Symbol(\"k\")))"
   ]
  },
  {
   "cell_type": "markdown",
   "metadata": {},
   "source": [
    "We can evauate contractions:"
   ]
  },
  {
   "cell_type": "code",
   "execution_count": 8,
   "metadata": {
    "scrolled": true
   },
   "outputs": [
    {
     "data": {
      "text/latex": [
       "$\\displaystyle 0$"
      ],
      "text/plain": [
       "PyObject 0"
      ]
     },
     "execution_count": 8,
     "metadata": {},
     "output_type": "execute_result"
    }
   ],
   "source": [
    "sq.contraction(adi,adi) #double creation operator"
   ]
  },
  {
   "cell_type": "code",
   "execution_count": 9,
   "metadata": {},
   "outputs": [
    {
     "data": {
      "text/latex": [
       "$\\displaystyle 0$"
      ],
      "text/plain": [
       "PyObject 0"
      ]
     },
     "execution_count": 9,
     "metadata": {},
     "output_type": "execute_result"
    }
   ],
   "source": [
    "sq.contraction(ak,ak) #double destruction operator"
   ]
  },
  {
   "cell_type": "code",
   "execution_count": 10,
   "metadata": {},
   "outputs": [
    {
     "data": {
      "text/latex": [
       "$\\displaystyle \\delta_{i k} \\delta_{i k}$"
      ],
      "text/plain": [
       "PyObject KroneckerDelta(_i, k)*KroneckerDelta(i, k)"
      ]
     },
     "execution_count": 10,
     "metadata": {},
     "output_type": "execute_result"
    }
   ],
   "source": [
    "a = sq.contraction(adi,ak)"
   ]
  },
  {
   "cell_type": "code",
   "execution_count": 11,
   "metadata": {},
   "outputs": [
    {
     "data": {
      "text/latex": [
       "$\\displaystyle \\delta_{i i}$"
      ],
      "text/plain": [
       "PyObject KroneckerDelta(_i, i)"
      ]
     },
     "execution_count": 11,
     "metadata": {},
     "output_type": "execute_result"
    }
   ],
   "source": [
    "sq.evaluate_deltas(a)"
   ]
  },
  {
   "cell_type": "markdown",
   "metadata": {},
   "source": [
    "We can define commutators"
   ]
  },
  {
   "cell_type": "code",
   "execution_count": 12,
   "metadata": {
    "scrolled": true
   },
   "outputs": [
    {
     "data": {
      "text/latex": [
       "$\\displaystyle \\left[a^\\dagger_{i} a^\\dagger_{j},a_{k}\\right]$"
      ],
      "text/plain": [
       "PyObject Commutator(CreateFermion(i)*CreateFermion(j),f(k))"
      ]
     },
     "execution_count": 12,
     "metadata": {},
     "output_type": "execute_result"
    }
   ],
   "source": [
    "com = sq.Commutator(adi*adj,ak)"
   ]
  },
  {
   "cell_type": "markdown",
   "metadata": {},
   "source": [
    "and expand them with doit()"
   ]
  },
  {
   "cell_type": "code",
   "execution_count": 13,
   "metadata": {},
   "outputs": [
    {
     "data": {
      "text/latex": [
       "$\\displaystyle - \\delta_{a i} \\delta_{i k} a^\\dagger_{j} + \\delta_{a j} \\delta_{j k} a^\\dagger_{i} - \\delta_{i k} \\delta_{i k} a^\\dagger_{j} + \\delta_{i k} \\delta_{j k} a^\\dagger_{i}$"
      ],
      "text/plain": [
       "PyObject -KroneckerDelta(_a, i)*KroneckerDelta(i, k)*CreateFermion(j) + KroneckerDelta(_a, j)*KroneckerDelta(j, k)*CreateFermion(i) - KroneckerDelta(_i, k)*KroneckerDelta(i, k)*CreateFermion(j) + KroneckerDelta(_i, k)*KroneckerDelta(j, k)*CreateFermion(i)"
      ]
     },
     "execution_count": 13,
     "metadata": {},
     "output_type": "execute_result"
    }
   ],
   "source": [
    "com.doit(wicks = true) #wicked defines a normal ordering of terms (see Wick's expantion)"
   ]
  },
  {
   "cell_type": "markdown",
   "metadata": {},
   "source": [
    "Also perform a wick expantion"
   ]
  },
  {
   "cell_type": "code",
   "execution_count": 14,
   "metadata": {},
   "outputs": [
    {
     "data": {
      "text/latex": [
       "$\\displaystyle \\delta_{i k} \\delta_{i k} + \\left\\{a^\\dagger_{i} a_{k}\\right\\} + \\left\\{a^\\dagger_{i} a^\\dagger_{j}\\right\\}$"
      ],
      "text/plain": [
       "PyObject KroneckerDelta(_i, k)*KroneckerDelta(i, k) + NO(CreateFermion(i)*AnnihilateFermion(k)) + NO(CreateFermion(i)*CreateFermion(j))"
      ]
     },
     "execution_count": 14,
     "metadata": {},
     "output_type": "execute_result"
    }
   ],
   "source": [
    "sq.wicks(adi*(ak+adj))"
   ]
  },
  {
   "cell_type": "code",
   "execution_count": 15,
   "metadata": {},
   "outputs": [
    {
     "data": {
      "text/latex": [
       "$\\displaystyle \\delta_{i k} \\delta_{i k}$"
      ],
      "text/plain": [
       "PyObject KroneckerDelta(_i, k)*KroneckerDelta(i, k)"
      ]
     },
     "execution_count": 15,
     "metadata": {},
     "output_type": "execute_result"
    }
   ],
   "source": [
    "sq.wicks(adi*(ak+adj), keep_only_fully_contracted = true)"
   ]
  },
  {
   "cell_type": "markdown",
   "metadata": {},
   "source": [
    "NO() performs a normal order, assuming anticommutation relations"
   ]
  },
  {
   "cell_type": "code",
   "execution_count": 16,
   "metadata": {
    "scrolled": false
   },
   "outputs": [
    {
     "data": {
      "text/latex": [
       "$\\displaystyle - \\left\\{a^\\dagger_{i} a_{k}\\right\\}$"
      ],
      "text/plain": [
       "PyObject -NO(CreateFermion(i)*AnnihilateFermion(k))"
      ]
     },
     "execution_count": 16,
     "metadata": {},
     "output_type": "execute_result"
    }
   ],
   "source": [
    "sq.NO(ak*adi)"
   ]
  },
  {
   "cell_type": "code",
   "execution_count": 17,
   "metadata": {},
   "outputs": [
    {
     "data": {
      "text/latex": [
       "$\\displaystyle a_{j}$"
      ],
      "text/plain": [
       "PyObject AnnihilateFermion(j)"
      ]
     },
     "execution_count": 17,
     "metadata": {},
     "output_type": "execute_result"
    }
   ],
   "source": [
    "adj = sq.Dagger(sq.CreateFermion(sp.Symbol(\"j\")))"
   ]
  },
  {
   "cell_type": "markdown",
   "metadata": {},
   "source": [
    "Each state can only have one particle, so we choose to store a list of occupied orbits rather than a tuple with occupation numbers (zeros and ones)."
   ]
  },
  {
   "cell_type": "code",
   "execution_count": 18,
   "metadata": {
    "scrolled": true
   },
   "outputs": [
    {
     "data": {
      "text/latex": [
       "$\\displaystyle FockStateFermionKet\\left(\\left( 1, \\  2\\right)\\right)$"
      ],
      "text/plain": [
       "PyObject FockStateKet((1, 2))"
      ]
     },
     "execution_count": 18,
     "metadata": {},
     "output_type": "execute_result"
    }
   ],
   "source": [
    "f1 = sq.FKet([1,2])"
   ]
  },
  {
   "cell_type": "code",
   "execution_count": 19,
   "metadata": {},
   "outputs": [
    {
     "data": {
      "text/latex": [
       "$\\displaystyle FockStateFermionBra\\left(\\left( 1, \\  3\\right)\\right)$"
      ],
      "text/plain": [
       "PyObject FockStateKet((1, 3))"
      ]
     },
     "execution_count": 19,
     "metadata": {},
     "output_type": "execute_result"
    }
   ],
   "source": [
    "f2 = sq.FBra([1,3])"
   ]
  },
  {
   "cell_type": "code",
   "execution_count": 20,
   "metadata": {},
   "outputs": [
    {
     "data": {
      "text/latex": [
       "$\\displaystyle 0$"
      ],
      "text/plain": [
       "PyObject 0"
      ]
     },
     "execution_count": 20,
     "metadata": {},
     "output_type": "execute_result"
    }
   ],
   "source": [
    "sq.InnerProduct(f2,f1)"
   ]
  }
 ],
 "metadata": {
  "kernelspec": {
   "display_name": "Julia 1.4.0",
   "language": "julia",
   "name": "julia-1.4"
  },
  "language_info": {
   "file_extension": ".jl",
   "mimetype": "application/julia",
   "name": "julia",
   "version": "1.4.0"
  }
 },
 "nbformat": 4,
 "nbformat_minor": 4
}
